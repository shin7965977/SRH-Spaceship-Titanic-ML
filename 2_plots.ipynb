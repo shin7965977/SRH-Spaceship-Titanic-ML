version https://git-lfs.github.com/spec/v1
oid sha256:2885e641d0e16cb1d6daf6ece731c3d56414757b6aab710280fe731f539fd045
size 7046255
