{
 "cells": [
  {
   "cell_type": "code",
   "execution_count": 75,
   "id": "initial_id",
   "metadata": {
    "collapsed": true,
    "ExecuteTime": {
     "end_time": "2024-01-21T18:58:55.684727700Z",
     "start_time": "2024-01-21T18:58:55.674576Z"
    }
   },
   "outputs": [],
   "source": [
    "import pandas as pd\n",
    "import numpy as np\n",
    "import matplotlib.pyplot as plt\n",
    "\n",
    "from lightgbm import LGBMClassifier\n",
    "from sklearn.model_selection import KFold\n",
    "from sklearn.inspection import permutation_importance\n",
    "from sklearn.model_selection import cross_val_score\n",
    "from sklearn.metrics import make_scorer, f1_score"
   ]
  },
  {
   "cell_type": "code",
   "outputs": [],
   "source": [
    "df = pd.read_csv('./data/spaceship_titanic_fe_train_val.csv')"
   ],
   "metadata": {
    "collapsed": false,
    "ExecuteTime": {
     "end_time": "2024-01-21T18:45:47.113030800Z",
     "start_time": "2024-01-21T18:45:47.059498700Z"
    }
   },
   "id": "17ee1572c90aabd1",
   "execution_count": 65
  },
  {
   "cell_type": "code",
   "outputs": [
    {
     "name": "stdout",
     "output_type": "stream",
     "text": [
      "<class 'pandas.core.frame.DataFrame'>\n",
      "RangeIndex: 6938 entries, 0 to 6937\n",
      "Data columns (total 34 columns):\n",
      " #   Column                     Non-Null Count  Dtype  \n",
      "---  ------                     --------------  -----  \n",
      " 0   Age                        6938 non-null   float64\n",
      " 1   RoomService                6938 non-null   float64\n",
      " 2   FoodCourt                  6938 non-null   float64\n",
      " 3   ShoppingMall               6938 non-null   float64\n",
      " 4   Spa                        6938 non-null   float64\n",
      " 5   VRDeck                     6938 non-null   float64\n",
      " 6   Transported                6938 non-null   int64  \n",
      " 7   PassengerIdInGroup         6938 non-null   int64  \n",
      " 8   MembersOfGroupById         6938 non-null   float64\n",
      " 9   MembersOfFamilyBySurname   6938 non-null   float64\n",
      " 10  CabinNum_0_170             6938 non-null   float64\n",
      " 11  CabinNum_170_430           6938 non-null   float64\n",
      " 12  CabinNum_430_1000          6938 non-null   float64\n",
      " 13  CabinNum_1000_             6938 non-null   float64\n",
      " 14  HomePlanet_Europa          6938 non-null   bool   \n",
      " 15  HomePlanet_Mars            6938 non-null   bool   \n",
      " 16  CryoSleep_True             6938 non-null   bool   \n",
      " 17  Destination_PSO J318.5-22  6938 non-null   bool   \n",
      " 18  Destination_TRAPPIST-1e    6938 non-null   bool   \n",
      " 19  VIP_True                   6938 non-null   bool   \n",
      " 20  CabinDeck_B                6938 non-null   bool   \n",
      " 21  CabinDeck_C                6938 non-null   bool   \n",
      " 22  CabinDeck_D                6938 non-null   bool   \n",
      " 23  CabinDeck_E                6938 non-null   bool   \n",
      " 24  CabinDeck_F                6938 non-null   bool   \n",
      " 25  CabinDeck_G                6938 non-null   bool   \n",
      " 26  CabinDeck_T                6938 non-null   bool   \n",
      " 27  CabinDeck_Unknown          6938 non-null   bool   \n",
      " 28  CabinSide_S                6938 non-null   bool   \n",
      " 29  CabinSide_Unknown          6938 non-null   bool   \n",
      " 30  AgeBinned_Elder            6938 non-null   bool   \n",
      " 31  AgeBinned_Senior           6938 non-null   bool   \n",
      " 32  AgeBinned_Teenager         6938 non-null   bool   \n",
      " 33  AgeBinned_Young            6938 non-null   bool   \n",
      "dtypes: bool(20), float64(12), int64(2)\n",
      "memory usage: 894.5 KB\n"
     ]
    }
   ],
   "source": [
    "df.info()"
   ],
   "metadata": {
    "collapsed": false,
    "ExecuteTime": {
     "end_time": "2024-01-21T18:45:47.113030800Z",
     "start_time": "2024-01-21T18:45:47.080725700Z"
    }
   },
   "id": "b2deb1eba7c46fe9",
   "execution_count": 66
  },
  {
   "cell_type": "code",
   "outputs": [],
   "source": [
    "simple_model = LGBMClassifier(\n",
    "    n_estimators=300,\n",
    "    max_depth=4,\n",
    "    random_state=42,\n",
    "    silent=False,\n",
    "    verbose= -100\n",
    ")\n",
    "features_names = [col for col in df.columns if col != 'Transported']\n",
    "target_name = 'Transported'"
   ],
   "metadata": {
    "collapsed": false,
    "ExecuteTime": {
     "end_time": "2024-01-21T18:45:47.114148900Z",
     "start_time": "2024-01-21T18:45:47.088792Z"
    }
   },
   "id": "12ac1c90de55a7cb",
   "execution_count": 67
  },
  {
   "cell_type": "markdown",
   "source": [
    "## Permutation Importance"
   ],
   "metadata": {
    "collapsed": false
   },
   "id": "568e8a469cda0fab"
  },
  {
   "cell_type": "code",
   "outputs": [],
   "source": [
    "results_df = pd.DataFrame()\n",
    "k_split = KFold(n_splits=5, shuffle=True, random_state=42)\n",
    "for fold_num, (train_index, val_index) in enumerate(k_split.split(df)):\n",
    "    train_df = df.loc[train_index]\n",
    "    val_df = df.loc[val_index]\n",
    "    \n",
    "    X_train = train_df[features_names]\n",
    "    y_train = train_df[target_name]\n",
    "    \n",
    "    X_val = val_df[features_names]\n",
    "    y_val = val_df[target_name]\n",
    "    \n",
    "    simple_model.fit(X_train, y_train)\n",
    "    \n",
    "    r = permutation_importance(simple_model, X_val, y_val, n_repeats=30, random_state=42)\n",
    "    results_df[f'mean_{fold_num}'] = r['importances_mean']\n",
    "    results_df[f'std_{fold_num}'] = r['importances_std']\n",
    "    \n",
    "results_df['importances_mean'] = results_df[[f'mean_{fold_num}' for fold_num in range(5)]].mean(axis=1)\n",
    "results_df['importances_std'] = results_df[[f'std_{fold_num}' for fold_num in range(5)]].mean(axis=1)\n",
    "results_df.index = features_names\n",
    "results_df = results_df.sort_values(by='importances_mean', ascending=False)"
   ],
   "metadata": {
    "collapsed": false,
    "ExecuteTime": {
     "end_time": "2024-01-21T18:46:08.529060200Z",
     "start_time": "2024-01-21T18:45:47.094606700Z"
    }
   },
   "id": "c43b0af38fb70af8",
   "execution_count": 68
  },
  {
   "cell_type": "code",
   "outputs": [
    {
     "data": {
      "text/plain": "CryoSleep_True               0.083386\nSpa                          0.059711\nVRDeck                       0.052494\nRoomService                  0.040867\nFoodCourt                    0.027150\nCabinSide_S                  0.014985\nShoppingMall                 0.010287\nCabinDeck_C                  0.008134\nHomePlanet_Europa            0.007658\nDestination_TRAPPIST-1e      0.006275\nAge                          0.005108\nCabinDeck_B                  0.004151\nCabinDeck_E                  0.003363\nCabinNum_170_430             0.002546\nCabinDeck_F                  0.002013\nCabinNum_0_170               0.001845\nHomePlanet_Mars              0.001778\nMembersOfFamilyBySurname     0.001725\nPassengerIdInGroup           0.001494\nCabinDeck_D                  0.001263\nMembersOfGroupById           0.000869\nCabinDeck_G                  0.000581\nCabinNum_430_1000            0.000538\nAgeBinned_Young              0.000538\nVIP_True                     0.000341\nCabinNum_1000_               0.000274\nCabinDeck_Unknown            0.000274\nAgeBinned_Senior             0.000154\nAgeBinned_Elder              0.000149\nAgeBinned_Teenager           0.000067\nCabinDeck_T                  0.000000\nCabinSide_Unknown            0.000000\nDestination_PSO J318.5-22   -0.000154\nName: importances_mean, dtype: float64"
     },
     "execution_count": 69,
     "metadata": {},
     "output_type": "execute_result"
    }
   ],
   "source": [
    "results_df['importances_mean']"
   ],
   "metadata": {
    "collapsed": false,
    "ExecuteTime": {
     "end_time": "2024-01-21T18:46:08.540715400Z",
     "start_time": "2024-01-21T18:46:08.530159600Z"
    }
   },
   "id": "4a25ee4661f4b6ff",
   "execution_count": 69
  },
  {
   "cell_type": "markdown",
   "source": [
    "## Greedy feature selection"
   ],
   "metadata": {
    "collapsed": false
   },
   "id": "3b853638627dfc77"
  },
  {
   "cell_type": "code",
   "outputs": [
    {
     "name": "stdout",
     "output_type": "stream",
     "text": [
      "Adding feature: RoomService with F1 score: 0.7107654523722857\n",
      "Adding feature: Spa with F1 score: 0.7460431223147885\n",
      "Adding feature: VRDeck with F1 score: 0.7785041191214777\n",
      "Adding feature: HomePlanet_Europa with F1 score: 0.7922758829089105\n",
      "Adding feature: CabinDeck_C with F1 score: 0.7969028103536203\n",
      "Adding feature: CabinNum_1000_ with F1 score: 0.7972244174457145\n",
      "Adding feature: AgeBinned_Teenager with F1 score: 0.797476253351141\n",
      "Added feature: CabinDeck_T with F1 score: 0.797476253351141 with patience 1/3\n",
      "Added feature: FoodCourt with F1 score: 0.7971771900959 with patience 2/3\n",
      "Adding feature: CabinSide_S with F1 score: 0.8006455833263516\n",
      "Adding feature: CabinDeck_B with F1 score: 0.8039459280573851\n",
      "Added feature: ShoppingMall with F1 score: 0.8032534601731666 with patience 1/3\n",
      "Adding feature: CabinDeck_D with F1 score: 0.8056931201128549\n",
      "Adding feature: CabinDeck_E with F1 score: 0.8060055238275124\n",
      "Adding feature: Destination_TRAPPIST-1e with F1 score: 0.8070047425663146\n",
      "Added feature: CabinNum_0_170 with F1 score: 0.8066077872952544 with patience 1/3\n",
      "Adding feature: AgeBinned_Elder with F1 score: 0.8094104697315183\n",
      "Added feature: Destination_PSO J318.5-22 with F1 score: 0.8088884202339104 with patience 1/3\n",
      "Added feature: AgeBinned_Senior with F1 score: 0.8087538598862863 with patience 2/3\n",
      "Reached patience threshold. Terminating.\n"
     ]
    },
    {
     "data": {
      "text/plain": "    iteration                    feature     score\n0           0                RoomService  0.710765\n1           1                        Spa  0.746043\n2           2                     VRDeck  0.778504\n3           3          HomePlanet_Europa  0.792276\n4           4                CabinDeck_C  0.796903\n5           5             CabinNum_1000_  0.797224\n6           6         AgeBinned_Teenager  0.797476\n7           7                CabinDeck_T  0.797476\n8           8                  FoodCourt  0.797177\n9           9                CabinSide_S  0.800646\n10         10                CabinDeck_B  0.803946\n11         11               ShoppingMall  0.803253\n12         12                CabinDeck_D  0.805693\n13         13                CabinDeck_E  0.806006\n14         14    Destination_TRAPPIST-1e  0.807005\n15         15             CabinNum_0_170  0.806608\n16         16            AgeBinned_Elder  0.809410\n17         17  Destination_PSO J318.5-22  0.808888\n18         18           AgeBinned_Senior  0.808754",
      "text/html": "<div>\n<style scoped>\n    .dataframe tbody tr th:only-of-type {\n        vertical-align: middle;\n    }\n\n    .dataframe tbody tr th {\n        vertical-align: top;\n    }\n\n    .dataframe thead th {\n        text-align: right;\n    }\n</style>\n<table border=\"1\" class=\"dataframe\">\n  <thead>\n    <tr style=\"text-align: right;\">\n      <th></th>\n      <th>iteration</th>\n      <th>feature</th>\n      <th>score</th>\n    </tr>\n  </thead>\n  <tbody>\n    <tr>\n      <th>0</th>\n      <td>0</td>\n      <td>RoomService</td>\n      <td>0.710765</td>\n    </tr>\n    <tr>\n      <th>1</th>\n      <td>1</td>\n      <td>Spa</td>\n      <td>0.746043</td>\n    </tr>\n    <tr>\n      <th>2</th>\n      <td>2</td>\n      <td>VRDeck</td>\n      <td>0.778504</td>\n    </tr>\n    <tr>\n      <th>3</th>\n      <td>3</td>\n      <td>HomePlanet_Europa</td>\n      <td>0.792276</td>\n    </tr>\n    <tr>\n      <th>4</th>\n      <td>4</td>\n      <td>CabinDeck_C</td>\n      <td>0.796903</td>\n    </tr>\n    <tr>\n      <th>5</th>\n      <td>5</td>\n      <td>CabinNum_1000_</td>\n      <td>0.797224</td>\n    </tr>\n    <tr>\n      <th>6</th>\n      <td>6</td>\n      <td>AgeBinned_Teenager</td>\n      <td>0.797476</td>\n    </tr>\n    <tr>\n      <th>7</th>\n      <td>7</td>\n      <td>CabinDeck_T</td>\n      <td>0.797476</td>\n    </tr>\n    <tr>\n      <th>8</th>\n      <td>8</td>\n      <td>FoodCourt</td>\n      <td>0.797177</td>\n    </tr>\n    <tr>\n      <th>9</th>\n      <td>9</td>\n      <td>CabinSide_S</td>\n      <td>0.800646</td>\n    </tr>\n    <tr>\n      <th>10</th>\n      <td>10</td>\n      <td>CabinDeck_B</td>\n      <td>0.803946</td>\n    </tr>\n    <tr>\n      <th>11</th>\n      <td>11</td>\n      <td>ShoppingMall</td>\n      <td>0.803253</td>\n    </tr>\n    <tr>\n      <th>12</th>\n      <td>12</td>\n      <td>CabinDeck_D</td>\n      <td>0.805693</td>\n    </tr>\n    <tr>\n      <th>13</th>\n      <td>13</td>\n      <td>CabinDeck_E</td>\n      <td>0.806006</td>\n    </tr>\n    <tr>\n      <th>14</th>\n      <td>14</td>\n      <td>Destination_TRAPPIST-1e</td>\n      <td>0.807005</td>\n    </tr>\n    <tr>\n      <th>15</th>\n      <td>15</td>\n      <td>CabinNum_0_170</td>\n      <td>0.806608</td>\n    </tr>\n    <tr>\n      <th>16</th>\n      <td>16</td>\n      <td>AgeBinned_Elder</td>\n      <td>0.809410</td>\n    </tr>\n    <tr>\n      <th>17</th>\n      <td>17</td>\n      <td>Destination_PSO J318.5-22</td>\n      <td>0.808888</td>\n    </tr>\n    <tr>\n      <th>18</th>\n      <td>18</td>\n      <td>AgeBinned_Senior</td>\n      <td>0.808754</td>\n    </tr>\n  </tbody>\n</table>\n</div>"
     },
     "execution_count": 73,
     "metadata": {},
     "output_type": "execute_result"
    }
   ],
   "source": [
    "def greedy_feature_selection(X: pd.DataFrame, y: pd.Series, initial_features: list, max_features=float('inf'), patience=1):\n",
    "    selected_features = [ft for ft in initial_features]\n",
    "    remaining_features = [f for f in X.columns if f not in selected_features]\n",
    "    best_f1_score = 0.0\n",
    "    patience_counter = 0\n",
    "    \n",
    "    scores_df = pd.DataFrame(columns=['iteration', 'feature', 'score'])\n",
    "    iteration_counter = 0\n",
    "    while remaining_features and len(selected_features) < max_features:\n",
    "        scores = {}\n",
    "        for feature in remaining_features:\n",
    "            trial_features = selected_features + [feature]\n",
    "            f1 = np.mean(cross_val_score(simple_model, X[trial_features], y, cv=5, scoring=make_scorer(f1_score)))\n",
    "            scores[feature] = f1\n",
    "\n",
    "        best_feature, best_score = max(scores.items(), key=lambda x: x[1])\n",
    "\n",
    "        if best_score > best_f1_score:\n",
    "            patience_counter = 0\n",
    "            print(f\"Adding feature: {best_feature} with F1 score: {best_score}\")\n",
    "            best_f1_score = best_score\n",
    "            selected_features.append(best_feature)\n",
    "            remaining_features.remove(best_feature)\n",
    "        else:\n",
    "            patience_counter += 1\n",
    "            if patience_counter >= patience:\n",
    "                print(\"Reached patience threshold. Terminating.\")\n",
    "                break\n",
    "            else:\n",
    "                print(f\"Added feature: {best_feature} with F1 score: {best_score} with patience {patience_counter}/{patience}\")\n",
    "                selected_features.append(best_feature)\n",
    "                remaining_features.remove(best_feature)\n",
    "        \n",
    "        scores_df.loc[iteration_counter] = [iteration_counter, best_feature, best_score]\n",
    "        scores_df = scores_df.reset_index(drop=True)\n",
    "        iteration_counter += 1\n",
    "    return scores_df\n",
    "\n",
    "\n",
    "selected_features = greedy_feature_selection(df[features_names], df[target_name], [], patience=3)\n",
    "selected_features"
   ],
   "metadata": {
    "collapsed": false,
    "ExecuteTime": {
     "end_time": "2024-01-21T18:58:32.343618900Z",
     "start_time": "2024-01-21T18:55:40.884749Z"
    }
   },
   "id": "7144802fd2300c81",
   "execution_count": 73
  },
  {
   "cell_type": "code",
   "outputs": [
    {
     "data": {
      "text/plain": "<Figure size 640x480 with 1 Axes>",
      "image/png": "[encoded data removed]"
     },
     "metadata": {},
     "output_type": "display_data"
    }
   ],
   "source": [
    "selected_features.plot(x='iteration', y='score')\n",
    "plt.show()"
   ],
   "metadata": {
    "collapsed": false,
    "ExecuteTime": {
     "end_time": "2024-01-21T18:59:01.889101300Z",
     "start_time": "2024-01-21T18:59:01.777321400Z"
    }
   },
   "id": "675538618df5e8b5",
   "execution_count": 76
  },
  {
   "cell_type": "markdown",
   "source": [
    "## Cross comparison"
   ],
   "metadata": {
    "collapsed": false
   },
   "id": "1e53d989a5972c89"
  },
  {
   "cell_type": "code",
   "outputs": [
    {
     "data": {
      "text/plain": "    iteration                    feature     score\n0           0                RoomService  0.710765\n1           1                        Spa  0.746043\n2           2                     VRDeck  0.778504\n3           3          HomePlanet_Europa  0.792276\n4           4                CabinDeck_C  0.796903\n5           5             CabinNum_1000_  0.797224\n6           6         AgeBinned_Teenager  0.797476\n7           7                CabinDeck_T  0.797476\n8           8                  FoodCourt  0.797177\n9           9                CabinSide_S  0.800646\n10         10                CabinDeck_B  0.803946\n11         11               ShoppingMall  0.803253\n12         12                CabinDeck_D  0.805693\n13         13                CabinDeck_E  0.806006\n14         14    Destination_TRAPPIST-1e  0.807005\n15         15             CabinNum_0_170  0.806608\n16         16            AgeBinned_Elder  0.809410\n17         17  Destination_PSO J318.5-22  0.808888\n18         18           AgeBinned_Senior  0.808754",
      "text/html": "<div>\n<style scoped>\n    .dataframe tbody tr th:only-of-type {\n        vertical-align: middle;\n    }\n\n    .dataframe tbody tr th {\n        vertical-align: top;\n    }\n\n    .dataframe thead th {\n        text-align: right;\n    }\n</style>\n<table border=\"1\" class=\"dataframe\">\n  <thead>\n    <tr style=\"text-align: right;\">\n      <th></th>\n      <th>iteration</th>\n      <th>feature</th>\n      <th>score</th>\n    </tr>\n  </thead>\n  <tbody>\n    <tr>\n      <th>0</th>\n      <td>0</td>\n      <td>RoomService</td>\n      <td>0.710765</td>\n    </tr>\n    <tr>\n      <th>1</th>\n      <td>1</td>\n      <td>Spa</td>\n      <td>0.746043</td>\n    </tr>\n    <tr>\n      <th>2</th>\n      <td>2</td>\n      <td>VRDeck</td>\n      <td>0.778504</td>\n    </tr>\n    <tr>\n      <th>3</th>\n      <td>3</td>\n      <td>HomePlanet_Europa</td>\n      <td>0.792276</td>\n    </tr>\n    <tr>\n      <th>4</th>\n      <td>4</td>\n      <td>CabinDeck_C</td>\n      <td>0.796903</td>\n    </tr>\n    <tr>\n      <th>5</th>\n      <td>5</td>\n      <td>CabinNum_1000_</td>\n      <td>0.797224</td>\n    </tr>\n    <tr>\n      <th>6</th>\n      <td>6</td>\n      <td>AgeBinned_Teenager</td>\n      <td>0.797476</td>\n    </tr>\n    <tr>\n      <th>7</th>\n      <td>7</td>\n      <td>CabinDeck_T</td>\n      <td>0.797476</td>\n    </tr>\n    <tr>\n      <th>8</th>\n      <td>8</td>\n      <td>FoodCourt</td>\n      <td>0.797177</td>\n    </tr>\n    <tr>\n      <th>9</th>\n      <td>9</td>\n      <td>CabinSide_S</td>\n      <td>0.800646</td>\n    </tr>\n    <tr>\n      <th>10</th>\n      <td>10</td>\n      <td>CabinDeck_B</td>\n      <td>0.803946</td>\n    </tr>\n    <tr>\n      <th>11</th>\n      <td>11</td>\n      <td>ShoppingMall</td>\n      <td>0.803253</td>\n    </tr>\n    <tr>\n      <th>12</th>\n      <td>12</td>\n      <td>CabinDeck_D</td>\n      <td>0.805693</td>\n    </tr>\n    <tr>\n      <th>13</th>\n      <td>13</td>\n      <td>CabinDeck_E</td>\n      <td>0.806006</td>\n    </tr>\n    <tr>\n      <th>14</th>\n      <td>14</td>\n      <td>Destination_TRAPPIST-1e</td>\n      <td>0.807005</td>\n    </tr>\n    <tr>\n      <th>15</th>\n      <td>15</td>\n      <td>CabinNum_0_170</td>\n      <td>0.806608</td>\n    </tr>\n    <tr>\n      <th>16</th>\n      <td>16</td>\n      <td>AgeBinned_Elder</td>\n      <td>0.809410</td>\n    </tr>\n    <tr>\n      <th>17</th>\n      <td>17</td>\n      <td>Destination_PSO J318.5-22</td>\n      <td>0.808888</td>\n    </tr>\n    <tr>\n      <th>18</th>\n      <td>18</td>\n      <td>AgeBinned_Senior</td>\n      <td>0.808754</td>\n    </tr>\n  </tbody>\n</table>\n</div>"
     },
     "execution_count": 83,
     "metadata": {},
     "output_type": "execute_result"
    }
   ],
   "source": [
    "selected_features"
   ],
   "metadata": {
    "collapsed": false,
    "ExecuteTime": {
     "end_time": "2024-01-21T19:00:51.822366500Z",
     "start_time": "2024-01-21T19:00:51.813236700Z"
    }
   },
   "id": "28c5a5574fd723a8",
   "execution_count": 83
  },
  {
   "cell_type": "code",
   "outputs": [
    {
     "data": {
      "text/plain": "                 feature_name  permutation_rank  greedy_rank  avg_rank\n1                         Spa                 2            2       2.0\n0                 RoomService                 4            1       2.5\n2                      VRDeck                 3            3       3.0\n3           HomePlanet_Europa                 9            4       6.5\n4                 CabinDeck_C                 8            5       6.5\n8                   FoodCourt                 5            9       7.0\n9                 CabinSide_S                 6           10       8.0\n11               ShoppingMall                 7           12       9.5\n10                CabinDeck_B                12           11      11.5\n14    Destination_TRAPPIST-1e                10           15      12.5\n13                CabinDeck_E                13           14      13.5\n5              CabinNum_1000_                26            6      16.0\n15             CabinNum_0_170                16           16      16.0\n12                CabinDeck_D                20           13      16.5\n6          AgeBinned_Teenager                30            7      18.5\n7                 CabinDeck_T                31            8      19.5\n16            AgeBinned_Elder                29           17      23.0\n18           AgeBinned_Senior                28           19      23.5\n17  Destination_PSO J318.5-22                33           18      25.5",
      "text/html": "<div>\n<style scoped>\n    .dataframe tbody tr th:only-of-type {\n        vertical-align: middle;\n    }\n\n    .dataframe tbody tr th {\n        vertical-align: top;\n    }\n\n    .dataframe thead th {\n        text-align: right;\n    }\n</style>\n<table border=\"1\" class=\"dataframe\">\n  <thead>\n    <tr style=\"text-align: right;\">\n      <th></th>\n      <th>feature_name</th>\n      <th>permutation_rank</th>\n      <th>greedy_rank</th>\n      <th>avg_rank</th>\n    </tr>\n  </thead>\n  <tbody>\n    <tr>\n      <th>1</th>\n      <td>Spa</td>\n      <td>2</td>\n      <td>2</td>\n      <td>2.0</td>\n    </tr>\n    <tr>\n      <th>0</th>\n      <td>RoomService</td>\n      <td>4</td>\n      <td>1</td>\n      <td>2.5</td>\n    </tr>\n    <tr>\n      <th>2</th>\n      <td>VRDeck</td>\n      <td>3</td>\n      <td>3</td>\n      <td>3.0</td>\n    </tr>\n    <tr>\n      <th>3</th>\n      <td>HomePlanet_Europa</td>\n      <td>9</td>\n      <td>4</td>\n      <td>6.5</td>\n    </tr>\n    <tr>\n      <th>4</th>\n      <td>CabinDeck_C</td>\n      <td>8</td>\n      <td>5</td>\n      <td>6.5</td>\n    </tr>\n    <tr>\n      <th>8</th>\n      <td>FoodCourt</td>\n      <td>5</td>\n      <td>9</td>\n      <td>7.0</td>\n    </tr>\n    <tr>\n      <th>9</th>\n      <td>CabinSide_S</td>\n      <td>6</td>\n      <td>10</td>\n      <td>8.0</td>\n    </tr>\n    <tr>\n      <th>11</th>\n      <td>ShoppingMall</td>\n      <td>7</td>\n      <td>12</td>\n      <td>9.5</td>\n    </tr>\n    <tr>\n      <th>10</th>\n      <td>CabinDeck_B</td>\n      <td>12</td>\n      <td>11</td>\n      <td>11.5</td>\n    </tr>\n    <tr>\n      <th>14</th>\n      <td>Destination_TRAPPIST-1e</td>\n      <td>10</td>\n      <td>15</td>\n      <td>12.5</td>\n    </tr>\n    <tr>\n      <th>13</th>\n      <td>CabinDeck_E</td>\n      <td>13</td>\n      <td>14</td>\n      <td>13.5</td>\n    </tr>\n    <tr>\n      <th>5</th>\n      <td>CabinNum_1000_</td>\n      <td>26</td>\n      <td>6</td>\n      <td>16.0</td>\n    </tr>\n    <tr>\n      <th>15</th>\n      <td>CabinNum_0_170</td>\n      <td>16</td>\n      <td>16</td>\n      <td>16.0</td>\n    </tr>\n    <tr>\n      <th>12</th>\n      <td>CabinDeck_D</td>\n      <td>20</td>\n      <td>13</td>\n      <td>16.5</td>\n    </tr>\n    <tr>\n      <th>6</th>\n      <td>AgeBinned_Teenager</td>\n      <td>30</td>\n      <td>7</td>\n      <td>18.5</td>\n    </tr>\n    <tr>\n      <th>7</th>\n      <td>CabinDeck_T</td>\n      <td>31</td>\n      <td>8</td>\n      <td>19.5</td>\n    </tr>\n    <tr>\n      <th>16</th>\n      <td>AgeBinned_Elder</td>\n      <td>29</td>\n      <td>17</td>\n      <td>23.0</td>\n    </tr>\n    <tr>\n      <th>18</th>\n      <td>AgeBinned_Senior</td>\n      <td>28</td>\n      <td>19</td>\n      <td>23.5</td>\n    </tr>\n    <tr>\n      <th>17</th>\n      <td>Destination_PSO J318.5-22</td>\n      <td>33</td>\n      <td>18</td>\n      <td>25.5</td>\n    </tr>\n  </tbody>\n</table>\n</div>"
     },
     "execution_count": 89,
     "metadata": {},
     "output_type": "execute_result"
    }
   ],
   "source": [
    "data = []\n",
    "for col in selected_features['feature'].tolist():\n",
    "    if col in results_df.index:\n",
    "        permutation_rank = results_df.index.get_loc(col) + 1\n",
    "        greedy_rank = selected_features[selected_features['feature'] == col]['iteration'].values[0] + 1\n",
    "        data.append([col, permutation_rank, greedy_rank])\n",
    "        \n",
    "fts = pd.DataFrame(data, columns=['feature_name', 'permutation_rank', 'greedy_rank'])\n",
    "fts['avg_rank'] = fts[['permutation_rank', 'greedy_rank']].mean(axis=1)\n",
    "fts = fts.sort_values(by='avg_rank', ascending=True)\n",
    "fts"
   ],
   "metadata": {
    "collapsed": false,
    "ExecuteTime": {
     "end_time": "2024-01-21T19:03:04.131001800Z",
     "start_time": "2024-01-21T19:03:04.120696100Z"
    }
   },
   "id": "d35175c557558da",
   "execution_count": 89
  },
  {
   "cell_type": "code",
   "outputs": [
    {
     "data": {
      "text/plain": "<Figure size 640x480 with 1 Axes>",
      "image/png": "[encoded data removed]"
     },
     "metadata": {},
     "output_type": "display_data"
    }
   ],
   "source": [
    "scores = []\n",
    "added_features = []\n",
    "for ft in fts['feature_name'].tolist():\n",
    "    added_features.append(ft)\n",
    "    X = df[added_features]\n",
    "    y = df[target_name]\n",
    "    \n",
    "    f1 = np.mean(cross_val_score(simple_model, X, y, cv=5, scoring=make_scorer(f1_score)))\n",
    "    scores.append(f1)\n",
    "    \n",
    "plt.plot([i for i in range(0, len(scores))], scores)\n",
    "plt.show()"
   ],
   "metadata": {
    "collapsed": false,
    "ExecuteTime": {
     "end_time": "2024-01-21T19:06:37.247617300Z",
     "start_time": "2024-01-21T19:06:29.499654Z"
    }
   },
   "id": "c80c2852e7a25ad8",
   "execution_count": 93
  },
  {
   "cell_type": "code",
   "outputs": [
    {
     "name": "stdout",
     "output_type": "stream",
     "text": [
      "Score=  0.8094104697315183\n",
      "['Spa', 'RoomService', 'VRDeck', 'HomePlanet_Europa', 'CabinDeck_C', 'FoodCourt', 'CabinSide_S', 'ShoppingMall', 'CabinDeck_B', 'Destination_TRAPPIST-1e', 'CabinDeck_E', 'CabinNum_1000_', 'CabinNum_0_170', 'CabinDeck_D', 'AgeBinned_Teenager', 'CabinDeck_T', 'AgeBinned_Elder']\n"
     ]
    }
   ],
   "source": [
    "SELECTED_FEATURES = added_features[:17]\n",
    "print('Score= ', scores[16])\n",
    "print(SELECTED_FEATURES)"
   ],
   "metadata": {
    "collapsed": false,
    "ExecuteTime": {
     "end_time": "2024-01-21T19:08:55.555285300Z",
     "start_time": "2024-01-21T19:08:55.552652300Z"
    }
   },
   "id": "95b70bc9837d703f",
   "execution_count": 105
  }
 ],
 "metadata": {
  "kernelspec": {
   "display_name": "Python 3",
   "language": "python",
   "name": "python3"
  },
  "language_info": {
   "codemirror_mode": {
    "name": "ipython",
    "version": 2
   },
   "file_extension": ".py",
   "mimetype": "text/x-python",
   "name": "python",
   "nbconvert_exporter": "python",
   "pygments_lexer": "ipython2",
   "version": "2.7.6"
  }
 },
 "nbformat": 4,
 "nbformat_minor": 5
}
