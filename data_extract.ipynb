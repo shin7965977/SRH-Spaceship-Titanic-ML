{
 "cells": [
  {
   "cell_type": "markdown",
   "source": [
    "# 1. Data Extract"
   ],
   "metadata": {
    "collapsed": false
   },
   "id": "e46cb2855cd530de"
  },
  {
   "cell_type": "markdown",
   "source": [
    "## 1.1. Imports"
   ],
   "metadata": {
    "collapsed": false
   },
   "id": "676f77294603f198"
  },
  {
   "cell_type": "code",
   "execution_count": 1,
   "outputs": [],
   "source": [
    "import numpy as np\n",
    "import pandas as pd"
   ],
   "metadata": {
    "collapsed": false,
    "ExecuteTime": {
     "end_time": "2023-12-21T14:10:06.972108500Z",
     "start_time": "2023-12-21T14:10:06.024921900Z"
    }
   },
   "id": "5c0eebfce0c84a41"
  },
  {
   "cell_type": "code",
   "execution_count": 2,
   "outputs": [],
   "source": [
    "data = pd.read_csv('./data/spaceship_titanic.csv')"
   ],
   "metadata": {
    "collapsed": false,
    "ExecuteTime": {
     "end_time": "2023-12-21T14:10:07.000621500Z",
     "start_time": "2023-12-21T14:10:06.968936500Z"
    }
   },
   "id": "2bcf48f537742067"
  },
  {
   "cell_type": "markdown",
   "source": [
    "## 1.2. First look at the data"
   ],
   "metadata": {
    "collapsed": false
   },
   "id": "bef00be3a402a1b"
  },
  {
   "cell_type": "code",
   "execution_count": 3,
   "outputs": [
    {
     "data": {
      "text/plain": "  PassengerId HomePlanet CryoSleep  Cabin  Destination   Age    VIP  \\\n0     0001_01     Europa     False  B/0/P  TRAPPIST-1e  39.0  False   \n1     0002_01      Earth     False  F/0/S  TRAPPIST-1e  24.0  False   \n2     0003_01     Europa     False  A/0/S  TRAPPIST-1e  58.0   True   \n3     0003_02     Europa     False  A/0/S  TRAPPIST-1e  33.0  False   \n4     0004_01      Earth     False  F/1/S  TRAPPIST-1e  16.0  False   \n\n   RoomService  FoodCourt  ShoppingMall     Spa  VRDeck               Name  \\\n0          0.0        0.0           0.0     0.0     0.0    Maham Ofracculy   \n1        109.0        9.0          25.0   549.0    44.0       Juanna Vines   \n2         43.0     3576.0           0.0  6715.0    49.0      Altark Susent   \n3          0.0     1283.0         371.0  3329.0   193.0       Solam Susent   \n4        303.0       70.0         151.0   565.0     2.0  Willy Santantines   \n\n   Transported  \n0        False  \n1         True  \n2        False  \n3        False  \n4         True  ",
      "text/html": "<div>\n<style scoped>\n    .dataframe tbody tr th:only-of-type {\n        vertical-align: middle;\n    }\n\n    .dataframe tbody tr th {\n        vertical-align: top;\n    }\n\n    .dataframe thead th {\n        text-align: right;\n    }\n</style>\n<table border=\"1\" class=\"dataframe\">\n  <thead>\n    <tr style=\"text-align: right;\">\n      <th></th>\n      <th>PassengerId</th>\n      <th>HomePlanet</th>\n      <th>CryoSleep</th>\n      <th>Cabin</th>\n      <th>Destination</th>\n      <th>Age</th>\n      <th>VIP</th>\n      <th>RoomService</th>\n      <th>FoodCourt</th>\n      <th>ShoppingMall</th>\n      <th>Spa</th>\n      <th>VRDeck</th>\n      <th>Name</th>\n      <th>Transported</th>\n    </tr>\n  </thead>\n  <tbody>\n    <tr>\n      <th>0</th>\n      <td>0001_01</td>\n      <td>Europa</td>\n      <td>False</td>\n      <td>B/0/P</td>\n      <td>TRAPPIST-1e</td>\n      <td>39.0</td>\n      <td>False</td>\n      <td>0.0</td>\n      <td>0.0</td>\n      <td>0.0</td>\n      <td>0.0</td>\n      <td>0.0</td>\n      <td>Maham Ofracculy</td>\n      <td>False</td>\n    </tr>\n    <tr>\n      <th>1</th>\n      <td>0002_01</td>\n      <td>Earth</td>\n      <td>False</td>\n      <td>F/0/S</td>\n      <td>TRAPPIST-1e</td>\n      <td>24.0</td>\n      <td>False</td>\n      <td>109.0</td>\n      <td>9.0</td>\n      <td>25.0</td>\n      <td>549.0</td>\n      <td>44.0</td>\n      <td>Juanna Vines</td>\n      <td>True</td>\n    </tr>\n    <tr>\n      <th>2</th>\n      <td>0003_01</td>\n      <td>Europa</td>\n      <td>False</td>\n      <td>A/0/S</td>\n      <td>TRAPPIST-1e</td>\n      <td>58.0</td>\n      <td>True</td>\n      <td>43.0</td>\n      <td>3576.0</td>\n      <td>0.0</td>\n      <td>6715.0</td>\n      <td>49.0</td>\n      <td>Altark Susent</td>\n      <td>False</td>\n    </tr>\n    <tr>\n      <th>3</th>\n      <td>0003_02</td>\n      <td>Europa</td>\n      <td>False</td>\n      <td>A/0/S</td>\n      <td>TRAPPIST-1e</td>\n      <td>33.0</td>\n      <td>False</td>\n      <td>0.0</td>\n      <td>1283.0</td>\n      <td>371.0</td>\n      <td>3329.0</td>\n      <td>193.0</td>\n      <td>Solam Susent</td>\n      <td>False</td>\n    </tr>\n    <tr>\n      <th>4</th>\n      <td>0004_01</td>\n      <td>Earth</td>\n      <td>False</td>\n      <td>F/1/S</td>\n      <td>TRAPPIST-1e</td>\n      <td>16.0</td>\n      <td>False</td>\n      <td>303.0</td>\n      <td>70.0</td>\n      <td>151.0</td>\n      <td>565.0</td>\n      <td>2.0</td>\n      <td>Willy Santantines</td>\n      <td>True</td>\n    </tr>\n  </tbody>\n</table>\n</div>"
     },
     "execution_count": 3,
     "metadata": {},
     "output_type": "execute_result"
    }
   ],
   "source": [
    "data.head()"
   ],
   "metadata": {
    "collapsed": false,
    "ExecuteTime": {
     "end_time": "2023-12-21T14:10:07.021580700Z",
     "start_time": "2023-12-21T14:10:06.999561Z"
    }
   },
   "id": "c73191a952f1796e"
  },
  {
   "cell_type": "code",
   "execution_count": 4,
   "outputs": [
    {
     "name": "stdout",
     "output_type": "stream",
     "text": [
      "<class 'pandas.core.frame.DataFrame'>\n",
      "RangeIndex: 8693 entries, 0 to 8692\n",
      "Data columns (total 14 columns):\n",
      " #   Column        Non-Null Count  Dtype  \n",
      "---  ------        --------------  -----  \n",
      " 0   PassengerId   8693 non-null   object \n",
      " 1   HomePlanet    8492 non-null   object \n",
      " 2   CryoSleep     8476 non-null   object \n",
      " 3   Cabin         8494 non-null   object \n",
      " 4   Destination   8511 non-null   object \n",
      " 5   Age           8514 non-null   float64\n",
      " 6   VIP           8490 non-null   object \n",
      " 7   RoomService   8512 non-null   float64\n",
      " 8   FoodCourt     8510 non-null   float64\n",
      " 9   ShoppingMall  8485 non-null   float64\n",
      " 10  Spa           8510 non-null   float64\n",
      " 11  VRDeck        8505 non-null   float64\n",
      " 12  Name          8493 non-null   object \n",
      " 13  Transported   8693 non-null   bool   \n",
      "dtypes: bool(1), float64(6), object(7)\n",
      "memory usage: 891.5+ KB\n"
     ]
    }
   ],
   "source": [
    "data.info()"
   ],
   "metadata": {
    "collapsed": false,
    "ExecuteTime": {
     "end_time": "2023-12-21T14:10:07.049184400Z",
     "start_time": "2023-12-21T14:10:07.014243100Z"
    }
   },
   "id": "677fd831b77d73fe"
  },
  {
   "cell_type": "code",
   "execution_count": 5,
   "outputs": [
    {
     "data": {
      "text/plain": "       PassengerId HomePlanet CryoSleep    Cabin  Destination          Age  \\\ncount         8693       8492      8476     8494         8511  8514.000000   \nunique        8693          3         2     6560            3          NaN   \ntop        0001_01      Earth     False  G/734/S  TRAPPIST-1e          NaN   \nfreq             1       4602      5439        8         5915          NaN   \nmean           NaN        NaN       NaN      NaN          NaN    28.827930   \nstd            NaN        NaN       NaN      NaN          NaN    14.489021   \nmin            NaN        NaN       NaN      NaN          NaN     0.000000   \n25%            NaN        NaN       NaN      NaN          NaN    19.000000   \n50%            NaN        NaN       NaN      NaN          NaN    27.000000   \n75%            NaN        NaN       NaN      NaN          NaN    38.000000   \nmax            NaN        NaN       NaN      NaN          NaN    79.000000   \n\n          VIP   RoomService     FoodCourt  ShoppingMall           Spa  \\\ncount    8490   8512.000000   8510.000000   8485.000000   8510.000000   \nunique      2           NaN           NaN           NaN           NaN   \ntop     False           NaN           NaN           NaN           NaN   \nfreq     8291           NaN           NaN           NaN           NaN   \nmean      NaN    224.687617    458.077203    173.729169    311.138778   \nstd       NaN    666.717663   1611.489240    604.696458   1136.705535   \nmin       NaN      0.000000      0.000000      0.000000      0.000000   \n25%       NaN      0.000000      0.000000      0.000000      0.000000   \n50%       NaN      0.000000      0.000000      0.000000      0.000000   \n75%       NaN     47.000000     76.000000     27.000000     59.000000   \nmax       NaN  14327.000000  29813.000000  23492.000000  22408.000000   \n\n              VRDeck            Name Transported  \ncount    8505.000000            8493        8693  \nunique           NaN            8473           2  \ntop              NaN  Gollux Reedall        True  \nfreq             NaN               2        4378  \nmean      304.854791             NaN         NaN  \nstd      1145.717189             NaN         NaN  \nmin         0.000000             NaN         NaN  \n25%         0.000000             NaN         NaN  \n50%         0.000000             NaN         NaN  \n75%        46.000000             NaN         NaN  \nmax     24133.000000             NaN         NaN  ",
      "text/html": "<div>\n<style scoped>\n    .dataframe tbody tr th:only-of-type {\n        vertical-align: middle;\n    }\n\n    .dataframe tbody tr th {\n        vertical-align: top;\n    }\n\n    .dataframe thead th {\n        text-align: right;\n    }\n</style>\n<table border=\"1\" class=\"dataframe\">\n  <thead>\n    <tr style=\"text-align: right;\">\n      <th></th>\n      <th>PassengerId</th>\n      <th>HomePlanet</th>\n      <th>CryoSleep</th>\n      <th>Cabin</th>\n      <th>Destination</th>\n      <th>Age</th>\n      <th>VIP</th>\n      <th>RoomService</th>\n      <th>FoodCourt</th>\n      <th>ShoppingMall</th>\n      <th>Spa</th>\n      <th>VRDeck</th>\n      <th>Name</th>\n      <th>Transported</th>\n    </tr>\n  </thead>\n  <tbody>\n    <tr>\n      <th>count</th>\n      <td>8693</td>\n      <td>8492</td>\n      <td>8476</td>\n      <td>8494</td>\n      <td>8511</td>\n      <td>8514.000000</td>\n      <td>8490</td>\n      <td>8512.000000</td>\n      <td>8510.000000</td>\n      <td>8485.000000</td>\n      <td>8510.000000</td>\n      <td>8505.000000</td>\n      <td>8493</td>\n      <td>8693</td>\n    </tr>\n    <tr>\n      <th>unique</th>\n      <td>8693</td>\n      <td>3</td>\n      <td>2</td>\n      <td>6560</td>\n      <td>3</td>\n      <td>NaN</td>\n      <td>2</td>\n      <td>NaN</td>\n      <td>NaN</td>\n      <td>NaN</td>\n      <td>NaN</td>\n      <td>NaN</td>\n      <td>8473</td>\n      <td>2</td>\n    </tr>\n    <tr>\n      <th>top</th>\n      <td>0001_01</td>\n      <td>Earth</td>\n      <td>False</td>\n      <td>G/734/S</td>\n      <td>TRAPPIST-1e</td>\n      <td>NaN</td>\n      <td>False</td>\n      <td>NaN</td>\n      <td>NaN</td>\n      <td>NaN</td>\n      <td>NaN</td>\n      <td>NaN</td>\n      <td>Gollux Reedall</td>\n      <td>True</td>\n    </tr>\n    <tr>\n      <th>freq</th>\n      <td>1</td>\n      <td>4602</td>\n      <td>5439</td>\n      <td>8</td>\n      <td>5915</td>\n      <td>NaN</td>\n      <td>8291</td>\n      <td>NaN</td>\n      <td>NaN</td>\n      <td>NaN</td>\n      <td>NaN</td>\n      <td>NaN</td>\n      <td>2</td>\n      <td>4378</td>\n    </tr>\n    <tr>\n      <th>mean</th>\n      <td>NaN</td>\n      <td>NaN</td>\n      <td>NaN</td>\n      <td>NaN</td>\n      <td>NaN</td>\n      <td>28.827930</td>\n      <td>NaN</td>\n      <td>224.687617</td>\n      <td>458.077203</td>\n      <td>173.729169</td>\n      <td>311.138778</td>\n      <td>304.854791</td>\n      <td>NaN</td>\n      <td>NaN</td>\n    </tr>\n    <tr>\n      <th>std</th>\n      <td>NaN</td>\n      <td>NaN</td>\n      <td>NaN</td>\n      <td>NaN</td>\n      <td>NaN</td>\n      <td>14.489021</td>\n      <td>NaN</td>\n      <td>666.717663</td>\n      <td>1611.489240</td>\n      <td>604.696458</td>\n      <td>1136.705535</td>\n      <td>1145.717189</td>\n      <td>NaN</td>\n      <td>NaN</td>\n    </tr>\n    <tr>\n      <th>min</th>\n      <td>NaN</td>\n      <td>NaN</td>\n      <td>NaN</td>\n      <td>NaN</td>\n      <td>NaN</td>\n      <td>0.000000</td>\n      <td>NaN</td>\n      <td>0.000000</td>\n      <td>0.000000</td>\n      <td>0.000000</td>\n      <td>0.000000</td>\n      <td>0.000000</td>\n      <td>NaN</td>\n      <td>NaN</td>\n    </tr>\n    <tr>\n      <th>25%</th>\n      <td>NaN</td>\n      <td>NaN</td>\n      <td>NaN</td>\n      <td>NaN</td>\n      <td>NaN</td>\n      <td>19.000000</td>\n      <td>NaN</td>\n      <td>0.000000</td>\n      <td>0.000000</td>\n      <td>0.000000</td>\n      <td>0.000000</td>\n      <td>0.000000</td>\n      <td>NaN</td>\n      <td>NaN</td>\n    </tr>\n    <tr>\n      <th>50%</th>\n      <td>NaN</td>\n      <td>NaN</td>\n      <td>NaN</td>\n      <td>NaN</td>\n      <td>NaN</td>\n      <td>27.000000</td>\n      <td>NaN</td>\n      <td>0.000000</td>\n      <td>0.000000</td>\n      <td>0.000000</td>\n      <td>0.000000</td>\n      <td>0.000000</td>\n      <td>NaN</td>\n      <td>NaN</td>\n    </tr>\n    <tr>\n      <th>75%</th>\n      <td>NaN</td>\n      <td>NaN</td>\n      <td>NaN</td>\n      <td>NaN</td>\n      <td>NaN</td>\n      <td>38.000000</td>\n      <td>NaN</td>\n      <td>47.000000</td>\n      <td>76.000000</td>\n      <td>27.000000</td>\n      <td>59.000000</td>\n      <td>46.000000</td>\n      <td>NaN</td>\n      <td>NaN</td>\n    </tr>\n    <tr>\n      <th>max</th>\n      <td>NaN</td>\n      <td>NaN</td>\n      <td>NaN</td>\n      <td>NaN</td>\n      <td>NaN</td>\n      <td>79.000000</td>\n      <td>NaN</td>\n      <td>14327.000000</td>\n      <td>29813.000000</td>\n      <td>23492.000000</td>\n      <td>22408.000000</td>\n      <td>24133.000000</td>\n      <td>NaN</td>\n      <td>NaN</td>\n    </tr>\n  </tbody>\n</table>\n</div>"
     },
     "execution_count": 5,
     "metadata": {},
     "output_type": "execute_result"
    }
   ],
   "source": [
    "data.describe(include='all')"
   ],
   "metadata": {
    "collapsed": false,
    "ExecuteTime": {
     "end_time": "2023-12-21T14:10:07.121011200Z",
     "start_time": "2023-12-21T14:10:07.032310700Z"
    }
   },
   "id": "4b4e56a06800f7bd"
  },
  {
   "cell_type": "markdown",
   "source": [
    "## 1.3. Extracting Information"
   ],
   "metadata": {
    "collapsed": false
   },
   "id": "7b8f2f00c9d8e38b"
  },
  {
   "cell_type": "markdown",
   "source": [
    "### 1.3.1. Extracting information from id\n",
    "\n",
    "PassengerId column contains a unique for each passenger. Each Id takes the form gggg_pp where gggg indicates a group the passenger is travelling with and pp is their number within the group. People in a group are often family members, but not always."
   ],
   "metadata": {
    "collapsed": false
   },
   "id": "318ba54d67baf673"
  },
  {
   "cell_type": "code",
   "execution_count": 6,
   "outputs": [
    {
     "data": {
      "text/plain": "  PassengerId  GroupId  PassengerIdInGroup\n0     0001_01        1                   1\n1     0002_01        2                   1\n2     0003_01        3                   1\n3     0003_02        3                   2\n4     0004_01        4                   1",
      "text/html": "<div>\n<style scoped>\n    .dataframe tbody tr th:only-of-type {\n        vertical-align: middle;\n    }\n\n    .dataframe tbody tr th {\n        vertical-align: top;\n    }\n\n    .dataframe thead th {\n        text-align: right;\n    }\n</style>\n<table border=\"1\" class=\"dataframe\">\n  <thead>\n    <tr style=\"text-align: right;\">\n      <th></th>\n      <th>PassengerId</th>\n      <th>GroupId</th>\n      <th>PassengerIdInGroup</th>\n    </tr>\n  </thead>\n  <tbody>\n    <tr>\n      <th>0</th>\n      <td>0001_01</td>\n      <td>1</td>\n      <td>1</td>\n    </tr>\n    <tr>\n      <th>1</th>\n      <td>0002_01</td>\n      <td>2</td>\n      <td>1</td>\n    </tr>\n    <tr>\n      <th>2</th>\n      <td>0003_01</td>\n      <td>3</td>\n      <td>1</td>\n    </tr>\n    <tr>\n      <th>3</th>\n      <td>0003_02</td>\n      <td>3</td>\n      <td>2</td>\n    </tr>\n    <tr>\n      <th>4</th>\n      <td>0004_01</td>\n      <td>4</td>\n      <td>1</td>\n    </tr>\n  </tbody>\n</table>\n</div>"
     },
     "execution_count": 6,
     "metadata": {},
     "output_type": "execute_result"
    }
   ],
   "source": [
    "def explode_id(row: pd.Series) -> pd.Series:\n",
    "    row['GroupId'] = int(row['PassengerId'].split('_')[0])\n",
    "    row['PassengerIdInGroup'] = int(row['PassengerId'].split('_')[1])\n",
    "    return row\n",
    "\n",
    "data = data.apply(explode_id, axis=1)\n",
    "data[['PassengerId', 'GroupId', 'PassengerIdInGroup']].head()"
   ],
   "metadata": {
    "collapsed": false,
    "ExecuteTime": {
     "end_time": "2023-12-21T14:10:11.394858400Z",
     "start_time": "2023-12-21T14:10:07.076628700Z"
    }
   },
   "id": "b1aa470441fa6f5c"
  },
  {
   "cell_type": "markdown",
   "source": [
    "Moreover, the amount of members in each group can be important for prediction of interdimensional transportation"
   ],
   "metadata": {
    "collapsed": false
   },
   "id": "66676e2f953799b2"
  },
  {
   "cell_type": "code",
   "execution_count": 7,
   "outputs": [
    {
     "data": {
      "text/plain": "  PassengerId  GroupId  PassengerIdInGroup  MembersOfGroupById\n0     0001_01        1                   1                 1.0\n1     0002_01        2                   1                 1.0\n2     0003_01        3                   1                 2.0\n3     0003_02        3                   2                 2.0\n4     0004_01        4                   1                 1.0",
      "text/html": "<div>\n<style scoped>\n    .dataframe tbody tr th:only-of-type {\n        vertical-align: middle;\n    }\n\n    .dataframe tbody tr th {\n        vertical-align: top;\n    }\n\n    .dataframe thead th {\n        text-align: right;\n    }\n</style>\n<table border=\"1\" class=\"dataframe\">\n  <thead>\n    <tr style=\"text-align: right;\">\n      <th></th>\n      <th>PassengerId</th>\n      <th>GroupId</th>\n      <th>PassengerIdInGroup</th>\n      <th>MembersOfGroupById</th>\n    </tr>\n  </thead>\n  <tbody>\n    <tr>\n      <th>0</th>\n      <td>0001_01</td>\n      <td>1</td>\n      <td>1</td>\n      <td>1.0</td>\n    </tr>\n    <tr>\n      <th>1</th>\n      <td>0002_01</td>\n      <td>2</td>\n      <td>1</td>\n      <td>1.0</td>\n    </tr>\n    <tr>\n      <th>2</th>\n      <td>0003_01</td>\n      <td>3</td>\n      <td>1</td>\n      <td>2.0</td>\n    </tr>\n    <tr>\n      <th>3</th>\n      <td>0003_02</td>\n      <td>3</td>\n      <td>2</td>\n      <td>2.0</td>\n    </tr>\n    <tr>\n      <th>4</th>\n      <td>0004_01</td>\n      <td>4</td>\n      <td>1</td>\n      <td>1.0</td>\n    </tr>\n  </tbody>\n</table>\n</div>"
     },
     "execution_count": 7,
     "metadata": {},
     "output_type": "execute_result"
    }
   ],
   "source": [
    "for unique_group in data['GroupId'].unique():\n",
    "    group_slice = data[data['GroupId'] == unique_group]\n",
    "    data.loc[group_slice.index, 'MembersOfGroupById'] = group_slice.shape[0]\n",
    "    \n",
    "data[['PassengerId', 'GroupId', 'PassengerIdInGroup', 'MembersOfGroupById']].head()"
   ],
   "metadata": {
    "collapsed": false,
    "ExecuteTime": {
     "end_time": "2023-12-21T14:10:13.715557Z",
     "start_time": "2023-12-21T14:10:11.392773400Z"
    }
   },
   "id": "4e5de12df0feb134"
  },
  {
   "cell_type": "markdown",
   "source": [
    "### 1.3.2. Extracting information from passengers' name\n",
    "\n",
    "Name contains passengers' surname which can give us the idea of how much family members are on board for each passenger."
   ],
   "metadata": {
    "collapsed": false
   },
   "id": "cb82826c0c76c877"
  },
  {
   "cell_type": "code",
   "execution_count": 8,
   "outputs": [
    {
     "data": {
      "text/plain": "                Name      Surname  MembersOfFamilyBySurname\n0    Maham Ofracculy    Ofracculy                       1.0\n1       Juanna Vines        Vines                       4.0\n2      Altark Susent       Susent                       6.0\n3       Solam Susent       Susent                       6.0\n4  Willy Santantines  Santantines                       6.0",
      "text/html": "<div>\n<style scoped>\n    .dataframe tbody tr th:only-of-type {\n        vertical-align: middle;\n    }\n\n    .dataframe tbody tr th {\n        vertical-align: top;\n    }\n\n    .dataframe thead th {\n        text-align: right;\n    }\n</style>\n<table border=\"1\" class=\"dataframe\">\n  <thead>\n    <tr style=\"text-align: right;\">\n      <th></th>\n      <th>Name</th>\n      <th>Surname</th>\n      <th>MembersOfFamilyBySurname</th>\n    </tr>\n  </thead>\n  <tbody>\n    <tr>\n      <th>0</th>\n      <td>Maham Ofracculy</td>\n      <td>Ofracculy</td>\n      <td>1.0</td>\n    </tr>\n    <tr>\n      <th>1</th>\n      <td>Juanna Vines</td>\n      <td>Vines</td>\n      <td>4.0</td>\n    </tr>\n    <tr>\n      <th>2</th>\n      <td>Altark Susent</td>\n      <td>Susent</td>\n      <td>6.0</td>\n    </tr>\n    <tr>\n      <th>3</th>\n      <td>Solam Susent</td>\n      <td>Susent</td>\n      <td>6.0</td>\n    </tr>\n    <tr>\n      <th>4</th>\n      <td>Willy Santantines</td>\n      <td>Santantines</td>\n      <td>6.0</td>\n    </tr>\n  </tbody>\n</table>\n</div>"
     },
     "execution_count": 8,
     "metadata": {},
     "output_type": "execute_result"
    }
   ],
   "source": [
    "def extract_surname(row: pd.Series) -> pd.Series:\n",
    "    name = row['Name']\n",
    "    if not pd.isna(name):\n",
    "        row['Surname'] = name.split(' ')[1]\n",
    "    else:\n",
    "        row['Surname'] = 'Unknown'\n",
    "    return row\n",
    "        \n",
    "data = data.apply(extract_surname, axis=1)\n",
    "\n",
    "for unique_surname in data['Surname'].unique():\n",
    "    surname_slice = data[data['Surname'] == unique_surname]\n",
    "    if unique_surname != 'Unknown':\n",
    "        data.loc[surname_slice.index, 'MembersOfFamilyBySurname'] = surname_slice.shape[0]\n",
    "    else:\n",
    "        data.loc[surname_slice.index, 'MembersOfFamilyBySurname'] = np.nan\n",
    "\n",
    "data[['Name', 'Surname', 'MembersOfFamilyBySurname']].head()"
   ],
   "metadata": {
    "collapsed": false,
    "ExecuteTime": {
     "end_time": "2023-12-21T14:10:18.131692900Z",
     "start_time": "2023-12-21T14:10:13.712311700Z"
    }
   },
   "id": "f3a50e66f939130a"
  },
  {
   "cell_type": "markdown",
   "source": [
    "### 1.3.3. Splitting the Cabin number\n",
    "\n",
    "As it is stated in the description, the cabin number column contains three parts: deck/num/side, where side can be either P for Port or S for Starboard."
   ],
   "metadata": {
    "collapsed": false
   },
   "id": "e51b1fc470a2518"
  },
  {
   "cell_type": "code",
   "execution_count": 9,
   "outputs": [
    {
     "data": {
      "text/plain": "         Cabin CabinDeck CabinNum CabinSide\n0        B/0/P         B        0         P\n1        F/0/S         F        0         S\n2        A/0/S         A        0         S\n3        A/0/S         A        0         S\n4        F/1/S         F        1         S\n...        ...       ...      ...       ...\n8688    A/98/P         A       98         P\n8689  G/1499/S         G     1499         S\n8690  G/1500/S         G     1500         S\n8691   E/608/S         E      608         S\n8692   E/608/S         E      608         S\n\n[8693 rows x 4 columns]",
      "text/html": "<div>\n<style scoped>\n    .dataframe tbody tr th:only-of-type {\n        vertical-align: middle;\n    }\n\n    .dataframe tbody tr th {\n        vertical-align: top;\n    }\n\n    .dataframe thead th {\n        text-align: right;\n    }\n</style>\n<table border=\"1\" class=\"dataframe\">\n  <thead>\n    <tr style=\"text-align: right;\">\n      <th></th>\n      <th>Cabin</th>\n      <th>CabinDeck</th>\n      <th>CabinNum</th>\n      <th>CabinSide</th>\n    </tr>\n  </thead>\n  <tbody>\n    <tr>\n      <th>0</th>\n      <td>B/0/P</td>\n      <td>B</td>\n      <td>0</td>\n      <td>P</td>\n    </tr>\n    <tr>\n      <th>1</th>\n      <td>F/0/S</td>\n      <td>F</td>\n      <td>0</td>\n      <td>S</td>\n    </tr>\n    <tr>\n      <th>2</th>\n      <td>A/0/S</td>\n      <td>A</td>\n      <td>0</td>\n      <td>S</td>\n    </tr>\n    <tr>\n      <th>3</th>\n      <td>A/0/S</td>\n      <td>A</td>\n      <td>0</td>\n      <td>S</td>\n    </tr>\n    <tr>\n      <th>4</th>\n      <td>F/1/S</td>\n      <td>F</td>\n      <td>1</td>\n      <td>S</td>\n    </tr>\n    <tr>\n      <th>...</th>\n      <td>...</td>\n      <td>...</td>\n      <td>...</td>\n      <td>...</td>\n    </tr>\n    <tr>\n      <th>8688</th>\n      <td>A/98/P</td>\n      <td>A</td>\n      <td>98</td>\n      <td>P</td>\n    </tr>\n    <tr>\n      <th>8689</th>\n      <td>G/1499/S</td>\n      <td>G</td>\n      <td>1499</td>\n      <td>S</td>\n    </tr>\n    <tr>\n      <th>8690</th>\n      <td>G/1500/S</td>\n      <td>G</td>\n      <td>1500</td>\n      <td>S</td>\n    </tr>\n    <tr>\n      <th>8691</th>\n      <td>E/608/S</td>\n      <td>E</td>\n      <td>608</td>\n      <td>S</td>\n    </tr>\n    <tr>\n      <th>8692</th>\n      <td>E/608/S</td>\n      <td>E</td>\n      <td>608</td>\n      <td>S</td>\n    </tr>\n  </tbody>\n</table>\n<p>8693 rows × 4 columns</p>\n</div>"
     },
     "execution_count": 9,
     "metadata": {},
     "output_type": "execute_result"
    }
   ],
   "source": [
    "def split_cabin(row: pd.Series) -> pd.Series:\n",
    "    cabin = row['Cabin']\n",
    "    for i, name in enumerate(['Deck', 'Num', 'Side']):\n",
    "        if not pd.isna(cabin):\n",
    "            row[f'Cabin{name}'] = cabin.split('/')[i]\n",
    "        else:\n",
    "            row[f'Cabin{name}'] = 'Unknown'\n",
    "    return row\n",
    "\n",
    "data = data.apply(split_cabin, axis=1)\n",
    "\n",
    "data[['Cabin', 'CabinDeck', 'CabinNum', 'CabinSide']]"
   ],
   "metadata": {
    "collapsed": false,
    "ExecuteTime": {
     "end_time": "2023-12-21T14:10:23.575398900Z",
     "start_time": "2023-12-21T14:10:18.133767700Z"
    }
   },
   "id": "e729458591b88162"
  },
  {
   "cell_type": "code",
   "execution_count": 10,
   "outputs": [
    {
     "data": {
      "text/plain": "array(['P', 'S', 'Unknown'], dtype=object)"
     },
     "execution_count": 10,
     "metadata": {},
     "output_type": "execute_result"
    }
   ],
   "source": [
    "data['CabinSide'].unique()"
   ],
   "metadata": {
    "collapsed": false,
    "ExecuteTime": {
     "end_time": "2023-12-21T14:10:23.602913300Z",
     "start_time": "2023-12-21T14:10:23.575398900Z"
    }
   },
   "id": "637a601aa3030e36"
  },
  {
   "cell_type": "markdown",
   "source": [
    "### 1.3.4. Binning the Age column\n",
    "\n",
    "Age is split in five categories:\n",
    "- Child (0, 12]\n",
    "- Teenager (12, 18]\n",
    "- Young (18, 30]\n",
    "- Senior (30, 60]\n",
    "- Elder (60, inf]"
   ],
   "metadata": {
    "collapsed": false
   },
   "id": "1726c209c3e37d3"
  },
  {
   "cell_type": "code",
   "execution_count": 11,
   "outputs": [],
   "source": [
    "def bin_age(row: pd.Series) -> pd.Series:\n",
    "    age = row['Age']\n",
    "    if age <= 12:\n",
    "        row['AgeBinned'] = 'Child'\n",
    "    elif age <= 18:\n",
    "        row['AgeBinned'] = 'Teenager'\n",
    "    elif age <= 30:\n",
    "        row['AgeBinned'] = 'Young'\n",
    "    elif age <= 60:\n",
    "        row['AgeBinned'] = 'Senior'\n",
    "    else:\n",
    "        row['AgeBinned'] = 'Elder'\n",
    "    return row\n",
    "\n",
    "data = data.apply(bin_age, axis=1)"
   ],
   "metadata": {
    "collapsed": false,
    "ExecuteTime": {
     "end_time": "2023-12-21T14:10:25.783701100Z",
     "start_time": "2023-12-21T14:10:23.592330400Z"
    }
   },
   "id": "60d375e94bb79f90"
  },
  {
   "cell_type": "markdown",
   "source": [
    "### 1.4. Saving"
   ],
   "metadata": {
    "collapsed": false
   },
   "id": "e9f54190cd9007e4"
  },
  {
   "cell_type": "code",
   "execution_count": 12,
   "outputs": [],
   "source": [
    "data.to_csv('./data/spaceship_titanic_e.csv', index=False)"
   ],
   "metadata": {
    "collapsed": false,
    "ExecuteTime": {
     "end_time": "2023-12-21T14:10:25.845249200Z",
     "start_time": "2023-12-21T14:10:25.783701100Z"
    }
   },
   "id": "ec921ddfea204c8d"
  }
 ],
 "metadata": {
  "kernelspec": {
   "display_name": "Python 3",
   "language": "python",
   "name": "python3"
  },
  "language_info": {
   "codemirror_mode": {
    "name": "ipython",
    "version": 2
   },
   "file_extension": ".py",
   "mimetype": "text/x-python",
   "name": "python",
   "nbconvert_exporter": "python",
   "pygments_lexer": "ipython2",
   "version": "2.7.6"
  }
 },
 "nbformat": 4,
 "nbformat_minor": 5
}
