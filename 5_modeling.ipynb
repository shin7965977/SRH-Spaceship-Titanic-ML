version https://git-lfs.github.com/spec/v1
oid sha256:16612c7dfa727b63a039037d2e175efddfe0be4b1835a1b9f61e7a1da5dad9cc
size 2428399
