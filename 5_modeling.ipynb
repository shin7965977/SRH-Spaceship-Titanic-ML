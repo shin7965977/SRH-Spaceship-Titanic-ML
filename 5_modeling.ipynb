{
 "cells": [
  {
   "cell_type": "code",
   "execution_count": null,
   "metadata": {},
   "outputs": [],
   "source": [
    "import pandas as pd\n",
    "from sklearn.model_selection import train_test_split, GridSearchCV\n",
    "from lightgbm import LGBMClassifier\n",
    "from sklearn.metrics import f1_score\n",
    "\n",
    "# 步驟一：加載和分割數據\n",
    "train_val_data = pd.read_csv('data\\spaceship_titanic_fe_test.csv')\n",
    "test_data = pd.read_csv('spaceship_titanic_fe_test.csv')\n",
    "\n",
    "# 假設最後一列是目標變量\n",
    "X = train_val_data.iloc[:, :-1]\n",
    "y = train_val_data.iloc[:, -1]\n",
    "\n",
    "X_train, X_validation, y_train, y_validation = train_test_split(X, y, test_size=0.2, random_state=42)\n",
    "\n",
    "# 步驟二：調整超參數\n",
    "params = {\n",
    "    'n_estimators': [30, 50, 100, 200, 300, 400, 500, 600, 700],\n",
    "    'max_depth': [3, 4, 5, 6, 7, 8],\n",
    "    'colsample_bytree': [0.7, 0.8, 0.9, 1],\n",
    "    'num_leaves': [21, 31, 41, 51, 61, 71, 81],\n",
    "}\n",
    "\n",
    "lgbm = LGBMClassifier()\n",
    "grid = GridSearchCV(lgbm, params, cv=5, scoring='f1')\n",
    "grid.fit(X_train, y_train)\n",
    "\n",
    "# 步驟三：訓練模型\n",
    "best_params = grid.best_params_\n",
    "model = LGBMClassifier(**best_params)\n",
    "model.fit(X_train, y_train)\n",
    "\n",
    "# 模型評估\n",
    "predictions = model.predict(X_validation)\n",
    "f1 = f1_score(y_validation, predictions)\n",
    "print(f'F1 Score: {f1}')\n"
   ]
  }
 ],
 "metadata": {
  "language_info": {
   "name": "python"
  }
 },
 "nbformat": 4,
 "nbformat_minor": 2
}
