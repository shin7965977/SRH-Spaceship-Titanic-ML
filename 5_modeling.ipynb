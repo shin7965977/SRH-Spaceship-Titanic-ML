version https://git-lfs.github.com/spec/v1
oid sha256:85f50cf2f08e503eed2ff5c031f8ada726caf188715f87b666878ecabf4ae6fc
size 2429312
