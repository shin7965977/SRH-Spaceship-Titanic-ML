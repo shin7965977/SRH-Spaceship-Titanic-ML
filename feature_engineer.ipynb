{
 "cells": [
  {
   "cell_type": "code",
   "execution_count": 644,
   "id": "2ecd92b9",
   "metadata": {},
   "outputs": [
    {
     "data": {
      "text/html": [
       "<div>\n",
       "<style scoped>\n",
       "    .dataframe tbody tr th:only-of-type {\n",
       "        vertical-align: middle;\n",
       "    }\n",
       "\n",
       "    .dataframe tbody tr th {\n",
       "        vertical-align: top;\n",
       "    }\n",
       "\n",
       "    .dataframe thead th {\n",
       "        text-align: right;\n",
       "    }\n",
       "</style>\n",
       "<table border=\"1\" class=\"dataframe\">\n",
       "  <thead>\n",
       "    <tr style=\"text-align: right;\">\n",
       "      <th></th>\n",
       "      <th>PassengerId</th>\n",
       "      <th>HomePlanet</th>\n",
       "      <th>CryoSleep</th>\n",
       "      <th>Cabin</th>\n",
       "      <th>Destination</th>\n",
       "      <th>Age</th>\n",
       "      <th>VIP</th>\n",
       "      <th>RoomService</th>\n",
       "      <th>FoodCourt</th>\n",
       "      <th>ShoppingMall</th>\n",
       "      <th>...</th>\n",
       "      <th>Transported</th>\n",
       "      <th>GroupId</th>\n",
       "      <th>PassengerIdInGroup</th>\n",
       "      <th>MembersOfGroupById</th>\n",
       "      <th>Surname</th>\n",
       "      <th>MembersOfFamilyBySurname</th>\n",
       "      <th>CabinDeck</th>\n",
       "      <th>CabinNum</th>\n",
       "      <th>CabinSide</th>\n",
       "      <th>AgeBinned</th>\n",
       "    </tr>\n",
       "  </thead>\n",
       "  <tbody>\n",
       "    <tr>\n",
       "      <th>0</th>\n",
       "      <td>0001_01</td>\n",
       "      <td>Europa</td>\n",
       "      <td>False</td>\n",
       "      <td>B/0/P</td>\n",
       "      <td>TRAPPIST-1e</td>\n",
       "      <td>39.0</td>\n",
       "      <td>False</td>\n",
       "      <td>0.0</td>\n",
       "      <td>0.0</td>\n",
       "      <td>0.0</td>\n",
       "      <td>...</td>\n",
       "      <td>False</td>\n",
       "      <td>1</td>\n",
       "      <td>1</td>\n",
       "      <td>1.0</td>\n",
       "      <td>Ofracculy</td>\n",
       "      <td>1.0</td>\n",
       "      <td>B</td>\n",
       "      <td>0</td>\n",
       "      <td>P</td>\n",
       "      <td>Senior</td>\n",
       "    </tr>\n",
       "    <tr>\n",
       "      <th>1</th>\n",
       "      <td>0002_01</td>\n",
       "      <td>Earth</td>\n",
       "      <td>False</td>\n",
       "      <td>F/0/S</td>\n",
       "      <td>TRAPPIST-1e</td>\n",
       "      <td>24.0</td>\n",
       "      <td>False</td>\n",
       "      <td>109.0</td>\n",
       "      <td>9.0</td>\n",
       "      <td>25.0</td>\n",
       "      <td>...</td>\n",
       "      <td>True</td>\n",
       "      <td>2</td>\n",
       "      <td>1</td>\n",
       "      <td>1.0</td>\n",
       "      <td>Vines</td>\n",
       "      <td>4.0</td>\n",
       "      <td>F</td>\n",
       "      <td>0</td>\n",
       "      <td>S</td>\n",
       "      <td>Young</td>\n",
       "    </tr>\n",
       "    <tr>\n",
       "      <th>2</th>\n",
       "      <td>0003_01</td>\n",
       "      <td>Europa</td>\n",
       "      <td>False</td>\n",
       "      <td>A/0/S</td>\n",
       "      <td>TRAPPIST-1e</td>\n",
       "      <td>58.0</td>\n",
       "      <td>True</td>\n",
       "      <td>43.0</td>\n",
       "      <td>3576.0</td>\n",
       "      <td>0.0</td>\n",
       "      <td>...</td>\n",
       "      <td>False</td>\n",
       "      <td>3</td>\n",
       "      <td>1</td>\n",
       "      <td>2.0</td>\n",
       "      <td>Susent</td>\n",
       "      <td>6.0</td>\n",
       "      <td>A</td>\n",
       "      <td>0</td>\n",
       "      <td>S</td>\n",
       "      <td>Senior</td>\n",
       "    </tr>\n",
       "    <tr>\n",
       "      <th>3</th>\n",
       "      <td>0003_02</td>\n",
       "      <td>Europa</td>\n",
       "      <td>False</td>\n",
       "      <td>A/0/S</td>\n",
       "      <td>TRAPPIST-1e</td>\n",
       "      <td>33.0</td>\n",
       "      <td>False</td>\n",
       "      <td>0.0</td>\n",
       "      <td>1283.0</td>\n",
       "      <td>371.0</td>\n",
       "      <td>...</td>\n",
       "      <td>False</td>\n",
       "      <td>3</td>\n",
       "      <td>2</td>\n",
       "      <td>2.0</td>\n",
       "      <td>Susent</td>\n",
       "      <td>6.0</td>\n",
       "      <td>A</td>\n",
       "      <td>0</td>\n",
       "      <td>S</td>\n",
       "      <td>Senior</td>\n",
       "    </tr>\n",
       "    <tr>\n",
       "      <th>4</th>\n",
       "      <td>0004_01</td>\n",
       "      <td>Earth</td>\n",
       "      <td>False</td>\n",
       "      <td>F/1/S</td>\n",
       "      <td>TRAPPIST-1e</td>\n",
       "      <td>16.0</td>\n",
       "      <td>False</td>\n",
       "      <td>303.0</td>\n",
       "      <td>70.0</td>\n",
       "      <td>151.0</td>\n",
       "      <td>...</td>\n",
       "      <td>True</td>\n",
       "      <td>4</td>\n",
       "      <td>1</td>\n",
       "      <td>1.0</td>\n",
       "      <td>Santantines</td>\n",
       "      <td>6.0</td>\n",
       "      <td>F</td>\n",
       "      <td>1</td>\n",
       "      <td>S</td>\n",
       "      <td>Teenager</td>\n",
       "    </tr>\n",
       "  </tbody>\n",
       "</table>\n",
       "<p>5 rows × 23 columns</p>\n",
       "</div>"
      ],
      "text/plain": [
       "  PassengerId HomePlanet CryoSleep  Cabin  Destination   Age    VIP  \\\n",
       "0     0001_01     Europa     False  B/0/P  TRAPPIST-1e  39.0  False   \n",
       "1     0002_01      Earth     False  F/0/S  TRAPPIST-1e  24.0  False   \n",
       "2     0003_01     Europa     False  A/0/S  TRAPPIST-1e  58.0   True   \n",
       "3     0003_02     Europa     False  A/0/S  TRAPPIST-1e  33.0  False   \n",
       "4     0004_01      Earth     False  F/1/S  TRAPPIST-1e  16.0  False   \n",
       "\n",
       "   RoomService  FoodCourt  ShoppingMall  ...  Transported  GroupId  \\\n",
       "0          0.0        0.0           0.0  ...        False        1   \n",
       "1        109.0        9.0          25.0  ...         True        2   \n",
       "2         43.0     3576.0           0.0  ...        False        3   \n",
       "3          0.0     1283.0         371.0  ...        False        3   \n",
       "4        303.0       70.0         151.0  ...         True        4   \n",
       "\n",
       "  PassengerIdInGroup  MembersOfGroupById      Surname  \\\n",
       "0                  1                 1.0    Ofracculy   \n",
       "1                  1                 1.0        Vines   \n",
       "2                  1                 2.0       Susent   \n",
       "3                  2                 2.0       Susent   \n",
       "4                  1                 1.0  Santantines   \n",
       "\n",
       "   MembersOfFamilyBySurname  CabinDeck CabinNum  CabinSide AgeBinned  \n",
       "0                       1.0          B        0          P    Senior  \n",
       "1                       4.0          F        0          S     Young  \n",
       "2                       6.0          A        0          S    Senior  \n",
       "3                       6.0          A        0          S    Senior  \n",
       "4                       6.0          F        1          S  Teenager  \n",
       "\n",
       "[5 rows x 23 columns]"
      ]
     },
     "execution_count": 644,
     "metadata": {},
     "output_type": "execute_result"
    }
   ],
   "source": [
    "import pandas as pd\n",
    "import numpy as np\n",
    "import matplotlib.pyplot as plt\n",
    "import seaborn as sns\n",
    "from sklearn.preprocessing import LabelEncoder\n",
    "\n",
    "\n",
    "# Load the Titanic dataset and show the first 5 rows\n",
    "\n",
    "#Change the path accordingly\n",
    "dataset=pd.read_csv('/Users/macbook/Downloads/Machine_Learning/ML_project/spaceship_titanic_e.csv')\n",
    "dataset.head()"
   ]
  },
  {
   "cell_type": "code",
   "execution_count": 645,
   "id": "ac55fa02",
   "metadata": {},
   "outputs": [
    {
     "data": {
      "text/plain": [
       "Text(0, 0.5, 'No of Passengers')"
      ]
     },
     "execution_count": 645,
     "metadata": {},
     "output_type": "execute_result"
    },
    {
     "data": {
      "image/png": "[encoded data removed]",
      "text/plain": [
       "<Figure size 432x288 with 1 Axes>"
      ]
     },
     "metadata": {
      "needs_background": "light"
     },
     "output_type": "display_data"
    }
   ],
   "source": [
    "figure=dataset.Age.hist(bins=50)\n",
    "figure.set_title('Age')\n",
    "figure.set_xlabel('Age')\n",
    "figure.set_ylabel('No of Passengers')"
   ]
  },
  {
   "cell_type": "code",
   "execution_count": 646,
   "id": "3f992e6b",
   "metadata": {},
   "outputs": [
    {
     "data": {
      "image/png": "[encoded data removed]",
      "text/plain": [
       "<Figure size 432x288 with 1 Axes>"
      ]
     },
     "metadata": {
      "needs_background": "light"
     },
     "output_type": "display_data"
    }
   ],
   "source": [
    "figure=dataset.boxplot(column='Age')"
   ]
  },
  {
   "cell_type": "code",
   "execution_count": 647,
   "id": "54927dab",
   "metadata": {
    "scrolled": true
   },
   "outputs": [
    {
     "name": "stdout",
     "output_type": "stream",
     "text": [
      "-43.617176652078285\n",
      "101.27303758700899\n"
     ]
    },
    {
     "data": {
      "text/plain": [
       "count    8514.000000\n",
       "mean       28.827930\n",
       "std        14.489021\n",
       "min         0.000000\n",
       "25%        19.000000\n",
       "50%        27.000000\n",
       "75%        38.000000\n",
       "max        79.000000\n",
       "Name: Age, dtype: float64"
      ]
     },
     "execution_count": 647,
     "metadata": {},
     "output_type": "execute_result"
    }
   ],
   "source": [
    "upper_boundary=dataset['Age'].mean()+5*dataset['Age'].std()\n",
    "lower_boundary=dataset['Age'].mean()-5*dataset['Age'].std()\n",
    "print(lower_boundary),print(upper_boundary)\n",
    "dataset['Age'].describe()"
   ]
  },
  {
   "cell_type": "code",
   "execution_count": 648,
   "id": "445b8547",
   "metadata": {},
   "outputs": [],
   "source": [
    "#First of all we must tend to nans and outliers. For each numerical column we must see if there are any obvious outliers. The general rule might be if the value is out of the borders\n",
    "#[mean - 5std, mean + 5std] it can be an outlier.\n",
    "\n",
    "\n",
    "#We input the outliers boundary (upper_boundary) values\n",
    "#The age is not outlier.\n",
    "\n",
    "###dataset.loc[dataset['Age']>=72,'Age']=72\n"
   ]
  },
  {
   "cell_type": "code",
   "execution_count": 649,
   "id": "24dee397",
   "metadata": {},
   "outputs": [
    {
     "data": {
      "text/plain": [
       "count    8514.000000\n",
       "mean       28.827930\n",
       "std        14.489021\n",
       "min         0.000000\n",
       "25%        19.000000\n",
       "50%        27.000000\n",
       "75%        38.000000\n",
       "max        79.000000\n",
       "Name: Age, dtype: float64"
      ]
     },
     "execution_count": 649,
     "metadata": {},
     "output_type": "execute_result"
    }
   ],
   "source": [
    "dataset['Age'].describe()\n",
    "\n"
   ]
  },
  {
   "cell_type": "code",
   "execution_count": 650,
   "id": "698b5602",
   "metadata": {},
   "outputs": [
    {
     "data": {
      "image/png": "[encoded data removed]",
      "text/plain": [
       "<Figure size 432x288 with 1 Axes>"
      ]
     },
     "metadata": {
      "needs_background": "light"
     },
     "output_type": "display_data"
    }
   ],
   "source": [
    "\n",
    "figure=dataset.boxplot(column='Age')"
   ]
  },
  {
   "cell_type": "code",
   "execution_count": 651,
   "id": "df5c2e9f",
   "metadata": {},
   "outputs": [
    {
     "data": {
      "text/plain": [
       "179"
      ]
     },
     "execution_count": 651,
     "metadata": {},
     "output_type": "execute_result"
    }
   ],
   "source": [
    "dataset['Age'].isnull().sum()"
   ]
  },
  {
   "cell_type": "code",
   "execution_count": 652,
   "id": "b61afcf8",
   "metadata": {},
   "outputs": [
    {
     "name": "stdout",
     "output_type": "stream",
     "text": [
      "29.0\n"
     ]
    },
    {
     "data": {
      "text/plain": [
       "count    8693.000000\n",
       "mean       28.831474\n",
       "std        14.339075\n",
       "min         0.000000\n",
       "25%        20.000000\n",
       "50%        27.000000\n",
       "75%        37.000000\n",
       "max        79.000000\n",
       "Name: Age, dtype: float64"
      ]
     },
     "execution_count": 652,
     "metadata": {},
     "output_type": "execute_result"
    }
   ],
   "source": [
    "#Fill the missing 179 values for Age with Mean\n",
    "\n",
    "# Impute missing values with the mean for Column Age.\n",
    "mean_value = dataset['Age'].mean()\n",
    "rounded_mean = round(mean_value, 0)\n",
    "print(rounded_mean)\n",
    "\n",
    "dataset['Age'].fillna(rounded_mean, inplace=True)\n",
    "\n",
    "dataset['Age'].describe()\n",
    "\n"
   ]
  },
  {
   "cell_type": "code",
   "execution_count": 653,
   "id": "086e726e",
   "metadata": {},
   "outputs": [
    {
     "data": {
      "text/plain": [
       "0"
      ]
     },
     "execution_count": 653,
     "metadata": {},
     "output_type": "execute_result"
    }
   ],
   "source": [
    "##now shows no missing values.\n",
    "dataset['Age'].isnull().sum()\n",
    "\n"
   ]
  },
  {
   "cell_type": "code",
   "execution_count": 654,
   "id": "3a9708cd",
   "metadata": {},
   "outputs": [
    {
     "data": {
      "text/plain": [
       "Text(0, 0.5, 'RoomService to Passengers')"
      ]
     },
     "execution_count": 654,
     "metadata": {},
     "output_type": "execute_result"
    },
    {
     "data": {
      "image/png": "[encoded data removed]",
      "text/plain": [
       "<Figure size 432x288 with 1 Axes>"
      ]
     },
     "metadata": {
      "needs_background": "light"
     },
     "output_type": "display_data"
    }
   ],
   "source": [
    "figure=dataset.RoomService.hist(bins=50)\n",
    "figure.set_title('RoomService')\n",
    "figure.set_xlabel('RoomService')\n",
    "figure.set_ylabel('RoomService to Passengers')\n",
    "\n",
    "\n"
   ]
  },
  {
   "cell_type": "code",
   "execution_count": 655,
   "id": "e4d3069b",
   "metadata": {},
   "outputs": [
    {
     "data": {
      "image/png": "[encoded data removed]",
      "text/plain": [
       "<Figure size 432x288 with 1 Axes>"
      ]
     },
     "metadata": {
      "needs_background": "light"
     },
     "output_type": "display_data"
    }
   ],
   "source": [
    "figure=dataset.boxplot(column='RoomService')\n",
    "\n"
   ]
  },
  {
   "cell_type": "code",
   "execution_count": 656,
   "id": "4bb2ca74",
   "metadata": {},
   "outputs": [
    {
     "data": {
      "text/plain": [
       "count     8512.000000\n",
       "mean       224.687617\n",
       "std        666.717663\n",
       "min          0.000000\n",
       "25%          0.000000\n",
       "50%          0.000000\n",
       "75%         47.000000\n",
       "max      14327.000000\n",
       "Name: RoomService, dtype: float64"
      ]
     },
     "execution_count": 656,
     "metadata": {},
     "output_type": "execute_result"
    }
   ],
   "source": [
    "dataset['RoomService'].describe()"
   ]
  },
  {
   "cell_type": "code",
   "execution_count": 657,
   "id": "8ee1b6bc",
   "metadata": {},
   "outputs": [
    {
     "data": {
      "text/html": [
       "<div>\n",
       "<style scoped>\n",
       "    .dataframe tbody tr th:only-of-type {\n",
       "        vertical-align: middle;\n",
       "    }\n",
       "\n",
       "    .dataframe tbody tr th {\n",
       "        vertical-align: top;\n",
       "    }\n",
       "\n",
       "    .dataframe thead th {\n",
       "        text-align: right;\n",
       "    }\n",
       "</style>\n",
       "<table border=\"1\" class=\"dataframe\">\n",
       "  <thead>\n",
       "    <tr style=\"text-align: right;\">\n",
       "      <th></th>\n",
       "      <th>PassengerId</th>\n",
       "      <th>HomePlanet</th>\n",
       "      <th>CryoSleep</th>\n",
       "      <th>Cabin</th>\n",
       "      <th>Destination</th>\n",
       "      <th>Age</th>\n",
       "      <th>VIP</th>\n",
       "      <th>RoomService</th>\n",
       "      <th>FoodCourt</th>\n",
       "      <th>ShoppingMall</th>\n",
       "      <th>...</th>\n",
       "      <th>Transported</th>\n",
       "      <th>GroupId</th>\n",
       "      <th>PassengerIdInGroup</th>\n",
       "      <th>MembersOfGroupById</th>\n",
       "      <th>Surname</th>\n",
       "      <th>MembersOfFamilyBySurname</th>\n",
       "      <th>CabinDeck</th>\n",
       "      <th>CabinNum</th>\n",
       "      <th>CabinSide</th>\n",
       "      <th>AgeBinned</th>\n",
       "    </tr>\n",
       "  </thead>\n",
       "  <tbody>\n",
       "    <tr>\n",
       "      <th>4416</th>\n",
       "      <td>4690_02</td>\n",
       "      <td>Europa</td>\n",
       "      <td>False</td>\n",
       "      <td>NaN</td>\n",
       "      <td>TRAPPIST-1e</td>\n",
       "      <td>27.0</td>\n",
       "      <td>False</td>\n",
       "      <td>14327.0</td>\n",
       "      <td>1487.0</td>\n",
       "      <td>0.0</td>\n",
       "      <td>...</td>\n",
       "      <td>False</td>\n",
       "      <td>4690</td>\n",
       "      <td>2</td>\n",
       "      <td>2.0</td>\n",
       "      <td>Dishocatal</td>\n",
       "      <td>5.0</td>\n",
       "      <td>Unknown</td>\n",
       "      <td>Unknown</td>\n",
       "      <td>Unknown</td>\n",
       "      <td>Young</td>\n",
       "    </tr>\n",
       "  </tbody>\n",
       "</table>\n",
       "<p>1 rows × 23 columns</p>\n",
       "</div>"
      ],
      "text/plain": [
       "     PassengerId HomePlanet CryoSleep Cabin  Destination   Age    VIP  \\\n",
       "4416     4690_02     Europa     False   NaN  TRAPPIST-1e  27.0  False   \n",
       "\n",
       "      RoomService  FoodCourt  ShoppingMall  ...  Transported  GroupId  \\\n",
       "4416      14327.0     1487.0           0.0  ...        False     4690   \n",
       "\n",
       "     PassengerIdInGroup  MembersOfGroupById     Surname  \\\n",
       "4416                  2                 2.0  Dishocatal   \n",
       "\n",
       "      MembersOfFamilyBySurname  CabinDeck CabinNum  CabinSide AgeBinned  \n",
       "4416                       5.0    Unknown  Unknown    Unknown     Young  \n",
       "\n",
       "[1 rows x 23 columns]"
      ]
     },
     "execution_count": 657,
     "metadata": {},
     "output_type": "execute_result"
    }
   ],
   "source": [
    "#Check the max value in RoomService\n",
    "\n",
    "condition = dataset['RoomService'] >=14327.0\n",
    "dataset_filtered = dataset[condition]\n",
    "\n",
    "##The room is number is Unknown\n",
    "dataset_filtered  \n",
    "\n",
    "\n"
   ]
  },
  {
   "cell_type": "code",
   "execution_count": 658,
   "id": "f97301b7",
   "metadata": {},
   "outputs": [],
   "source": [
    "# Drop rows where RoomService is greater than 14327.0\n",
    "\n",
    "condition_drop = dataset['RoomService'] >= 14327.0\n",
    "df_01 = dataset.drop(dataset[condition].index)\n",
    "\n"
   ]
  },
  {
   "cell_type": "code",
   "execution_count": 659,
   "id": "38838e5c",
   "metadata": {},
   "outputs": [
    {
     "data": {
      "text/html": [
       "<div>\n",
       "<style scoped>\n",
       "    .dataframe tbody tr th:only-of-type {\n",
       "        vertical-align: middle;\n",
       "    }\n",
       "\n",
       "    .dataframe tbody tr th {\n",
       "        vertical-align: top;\n",
       "    }\n",
       "\n",
       "    .dataframe thead th {\n",
       "        text-align: right;\n",
       "    }\n",
       "</style>\n",
       "<table border=\"1\" class=\"dataframe\">\n",
       "  <thead>\n",
       "    <tr style=\"text-align: right;\">\n",
       "      <th></th>\n",
       "      <th>PassengerId</th>\n",
       "      <th>HomePlanet</th>\n",
       "      <th>CryoSleep</th>\n",
       "      <th>Cabin</th>\n",
       "      <th>Destination</th>\n",
       "      <th>Age</th>\n",
       "      <th>VIP</th>\n",
       "      <th>RoomService</th>\n",
       "      <th>FoodCourt</th>\n",
       "      <th>ShoppingMall</th>\n",
       "      <th>...</th>\n",
       "      <th>Transported</th>\n",
       "      <th>GroupId</th>\n",
       "      <th>PassengerIdInGroup</th>\n",
       "      <th>MembersOfGroupById</th>\n",
       "      <th>Surname</th>\n",
       "      <th>MembersOfFamilyBySurname</th>\n",
       "      <th>CabinDeck</th>\n",
       "      <th>CabinNum</th>\n",
       "      <th>CabinSide</th>\n",
       "      <th>AgeBinned</th>\n",
       "    </tr>\n",
       "  </thead>\n",
       "  <tbody>\n",
       "  </tbody>\n",
       "</table>\n",
       "<p>0 rows × 23 columns</p>\n",
       "</div>"
      ],
      "text/plain": [
       "Empty DataFrame\n",
       "Columns: [PassengerId, HomePlanet, CryoSleep, Cabin, Destination, Age, VIP, RoomService, FoodCourt, ShoppingMall, Spa, VRDeck, Name, Transported, GroupId, PassengerIdInGroup, MembersOfGroupById, Surname, MembersOfFamilyBySurname, CabinDeck, CabinNum, CabinSide, AgeBinned]\n",
       "Index: []\n",
       "\n",
       "[0 rows x 23 columns]"
      ]
     },
     "execution_count": 659,
     "metadata": {},
     "output_type": "execute_result"
    }
   ],
   "source": [
    "#Check if row has been droped \n",
    "\n",
    "condition = df_01['RoomService'] >=14327.0\n",
    "dataset_filtered = df_01[condition]\n",
    "\n",
    "\n",
    "dataset_filtered  "
   ]
  },
  {
   "cell_type": "code",
   "execution_count": 660,
   "id": "e343beda",
   "metadata": {},
   "outputs": [
    {
     "data": {
      "text/plain": [
       "count    8511.000000\n",
       "mean      223.030666\n",
       "std       648.993328\n",
       "min         0.000000\n",
       "25%         0.000000\n",
       "50%         0.000000\n",
       "75%        46.500000\n",
       "max      9920.000000\n",
       "Name: RoomService, dtype: float64"
      ]
     },
     "execution_count": 660,
     "metadata": {},
     "output_type": "execute_result"
    }
   ],
   "source": [
    "df_01['RoomService'].describe()"
   ]
  },
  {
   "cell_type": "code",
   "execution_count": 661,
   "id": "dc3f0a50",
   "metadata": {},
   "outputs": [
    {
     "name": "stdout",
     "output_type": "stream",
     "text": [
      "223.0\n"
     ]
    },
    {
     "data": {
      "text/plain": [
       "count    8692.000000\n",
       "mean      223.030028\n",
       "std       642.199757\n",
       "min         0.000000\n",
       "25%         0.000000\n",
       "50%         0.000000\n",
       "75%        78.000000\n",
       "max      9920.000000\n",
       "Name: RoomService, dtype: float64"
      ]
     },
     "execution_count": 661,
     "metadata": {},
     "output_type": "execute_result"
    }
   ],
   "source": [
    "# Impute missing values with the mean for Column RoomService.\n",
    "\n",
    "mean_value = df_01['RoomService'].mean()\n",
    "rounded_mean = round(mean_value, 0)\n",
    "print(rounded_mean)\n",
    "df_01['RoomService'].fillna(rounded_mean, inplace=True)\n",
    "\n",
    "df_01['RoomService'].describe()\n",
    "\n",
    "\n"
   ]
  },
  {
   "cell_type": "code",
   "execution_count": 662,
   "id": "1da533f8",
   "metadata": {},
   "outputs": [
    {
     "data": {
      "text/plain": [
       "0"
      ]
     },
     "execution_count": 662,
     "metadata": {},
     "output_type": "execute_result"
    }
   ],
   "source": [
    "#Check the empty values for RoomService\n",
    "df_01['RoomService'].isnull().sum()"
   ]
  },
  {
   "cell_type": "code",
   "execution_count": 663,
   "id": "153faaf1",
   "metadata": {},
   "outputs": [
    {
     "data": {
      "image/png": "[encoded data removed]",
      "text/plain": [
       "<Figure size 432x288 with 1 Axes>"
      ]
     },
     "metadata": {
      "needs_background": "light"
     },
     "output_type": "display_data"
    }
   ],
   "source": [
    "figure=df_01.boxplot(column='RoomService')"
   ]
  },
  {
   "cell_type": "code",
   "execution_count": 664,
   "id": "c713f660",
   "metadata": {},
   "outputs": [
    {
     "data": {
      "text/plain": [
       "Text(0, 0.5, 'passenger has billed')"
      ]
     },
     "execution_count": 664,
     "metadata": {},
     "output_type": "execute_result"
    },
    {
     "data": {
      "image/png": "[encoded data removed]",
      "text/plain": [
       "<Figure size 432x288 with 1 Axes>"
      ]
     },
     "metadata": {
      "needs_background": "light"
     },
     "output_type": "display_data"
    }
   ],
   "source": [
    "figure=df_01.FoodCourt .hist(bins=10)\n",
    "figure.set_title('FoodCourt')\n",
    "figure.set_xlabel('FoodCourt ')\n",
    "figure.set_ylabel('passenger has billed')"
   ]
  },
  {
   "cell_type": "code",
   "execution_count": 665,
   "id": "e24ab87b",
   "metadata": {},
   "outputs": [
    {
     "data": {
      "image/png": "[encoded data removed]",
      "text/plain": [
       "<Figure size 432x288 with 1 Axes>"
      ]
     },
     "metadata": {
      "needs_background": "light"
     },
     "output_type": "display_data"
    }
   ],
   "source": [
    "figure=df_01.boxplot(column='FoodCourt')"
   ]
  },
  {
   "cell_type": "code",
   "execution_count": 666,
   "id": "16713b07",
   "metadata": {},
   "outputs": [
    {
     "data": {
      "text/plain": [
       "count     8509.000000\n",
       "mean       457.956282\n",
       "std       1611.545331\n",
       "min          0.000000\n",
       "25%          0.000000\n",
       "50%          0.000000\n",
       "75%         76.000000\n",
       "max      29813.000000\n",
       "Name: FoodCourt, dtype: float64"
      ]
     },
     "execution_count": 666,
     "metadata": {},
     "output_type": "execute_result"
    }
   ],
   "source": [
    "df_01['FoodCourt'].describe()"
   ]
  },
  {
   "cell_type": "code",
   "execution_count": 667,
   "id": "a907190c",
   "metadata": {},
   "outputs": [
    {
     "name": "stdout",
     "output_type": "stream",
     "text": [
      "-7599.770372873823\n",
      "8515.682936042233\n"
     ]
    },
    {
     "data": {
      "text/plain": [
       "(None, None)"
      ]
     },
     "execution_count": 667,
     "metadata": {},
     "output_type": "execute_result"
    }
   ],
   "source": [
    "upper_boundary=df_01['FoodCourt'].mean()+5*df_01['FoodCourt'].std()\n",
    "lower_boundary=df_01['FoodCourt'].mean()-5*df_01['FoodCourt'].std()\n",
    "print(lower_boundary),print(upper_boundary)"
   ]
  },
  {
   "cell_type": "code",
   "execution_count": 668,
   "id": "372052e8",
   "metadata": {},
   "outputs": [],
   "source": [
    "#We input the outliers boundary (upper_boundary) values\n",
    "\n",
    "df_01.loc[df_01['FoodCourt']>=8515,'FoodCourt']=8515"
   ]
  },
  {
   "cell_type": "code",
   "execution_count": 669,
   "id": "acd95b28",
   "metadata": {},
   "outputs": [
    {
     "data": {
      "image/png": "[encoded data removed]",
      "text/plain": [
       "<Figure size 432x288 with 1 Axes>"
      ]
     },
     "metadata": {
      "needs_background": "light"
     },
     "output_type": "display_data"
    }
   ],
   "source": [
    "figure=df_01.boxplot(column='FoodCourt')"
   ]
  },
  {
   "cell_type": "code",
   "execution_count": 670,
   "id": "8d64c967",
   "metadata": {},
   "outputs": [
    {
     "data": {
      "text/plain": [
       "183"
      ]
     },
     "execution_count": 670,
     "metadata": {},
     "output_type": "execute_result"
    }
   ],
   "source": [
    "df_01['FoodCourt'].isnull().sum()"
   ]
  },
  {
   "cell_type": "code",
   "execution_count": 671,
   "id": "3aee5d4a",
   "metadata": {},
   "outputs": [
    {
     "name": "stdout",
     "output_type": "stream",
     "text": [
      "420.0\n"
     ]
    },
    {
     "data": {
      "text/plain": [
       "count    8692.000000\n",
       "mean      419.668086\n",
       "std      1260.808800\n",
       "min         0.000000\n",
       "25%         0.000000\n",
       "50%         0.000000\n",
       "75%       117.250000\n",
       "max      8515.000000\n",
       "Name: FoodCourt, dtype: float64"
      ]
     },
     "execution_count": 671,
     "metadata": {},
     "output_type": "execute_result"
    }
   ],
   "source": [
    "#Fill the missing values for FoodCourt\n",
    "\n",
    "# Impute missing values with the mean for Column FoodCourt.\n",
    "mean_value = df_01['FoodCourt'].mean()\n",
    "rounded_mean = round(mean_value, 0)\n",
    "print(rounded_mean)\n",
    "df_01['FoodCourt'].fillna(rounded_mean, inplace=True)\n",
    "\n",
    "df_01['FoodCourt'].describe()"
   ]
  },
  {
   "cell_type": "code",
   "execution_count": 672,
   "id": "4a8a81bb",
   "metadata": {},
   "outputs": [
    {
     "data": {
      "text/plain": [
       "0"
      ]
     },
     "execution_count": 672,
     "metadata": {},
     "output_type": "execute_result"
    }
   ],
   "source": [
    "df_01['FoodCourt'].isnull().sum()"
   ]
  },
  {
   "cell_type": "code",
   "execution_count": 673,
   "id": "edf7df82",
   "metadata": {},
   "outputs": [
    {
     "data": {
      "text/plain": [
       "Text(0, 0.5, 'passenger has billed ShoppingMall')"
      ]
     },
     "execution_count": 673,
     "metadata": {},
     "output_type": "execute_result"
    },
    {
     "data": {
      "image/png": "[encoded data removed]",
      "text/plain": [
       "<Figure size 432x288 with 1 Axes>"
      ]
     },
     "metadata": {
      "needs_background": "light"
     },
     "output_type": "display_data"
    }
   ],
   "source": [
    "figure=df_01.ShoppingMall.hist(bins=20)\n",
    "figure.set_title('ShoppingMall')\n",
    "figure.set_xlabel('ShoppingMall')\n",
    "figure.set_ylabel('passenger has billed ShoppingMall')"
   ]
  },
  {
   "cell_type": "code",
   "execution_count": 674,
   "id": "978b9e88",
   "metadata": {},
   "outputs": [
    {
     "data": {
      "image/png": "[encoded data removed]",
      "text/plain": [
       "<Figure size 432x288 with 1 Axes>"
      ]
     },
     "metadata": {
      "needs_background": "light"
     },
     "output_type": "display_data"
    }
   ],
   "source": [
    "figure=df_01.boxplot(column='ShoppingMall')"
   ]
  },
  {
   "cell_type": "code",
   "execution_count": 675,
   "id": "3c7d8ad7",
   "metadata": {},
   "outputs": [
    {
     "data": {
      "text/plain": [
       "count     8484.000000\n",
       "mean       173.749646\n",
       "std        604.729157\n",
       "min          0.000000\n",
       "25%          0.000000\n",
       "50%          0.000000\n",
       "75%         27.000000\n",
       "max      23492.000000\n",
       "Name: ShoppingMall, dtype: float64"
      ]
     },
     "execution_count": 675,
     "metadata": {},
     "output_type": "execute_result"
    }
   ],
   "source": [
    "df_01['ShoppingMall'].describe()"
   ]
  },
  {
   "cell_type": "code",
   "execution_count": 676,
   "id": "9be0ca69",
   "metadata": {},
   "outputs": [
    {
     "data": {
      "text/html": [
       "<div>\n",
       "<style scoped>\n",
       "    .dataframe tbody tr th:only-of-type {\n",
       "        vertical-align: middle;\n",
       "    }\n",
       "\n",
       "    .dataframe tbody tr th {\n",
       "        vertical-align: top;\n",
       "    }\n",
       "\n",
       "    .dataframe thead th {\n",
       "        text-align: right;\n",
       "    }\n",
       "</style>\n",
       "<table border=\"1\" class=\"dataframe\">\n",
       "  <thead>\n",
       "    <tr style=\"text-align: right;\">\n",
       "      <th></th>\n",
       "      <th>PassengerId</th>\n",
       "      <th>HomePlanet</th>\n",
       "      <th>CryoSleep</th>\n",
       "      <th>Cabin</th>\n",
       "      <th>Destination</th>\n",
       "      <th>Age</th>\n",
       "      <th>VIP</th>\n",
       "      <th>RoomService</th>\n",
       "      <th>FoodCourt</th>\n",
       "      <th>ShoppingMall</th>\n",
       "      <th>...</th>\n",
       "      <th>Transported</th>\n",
       "      <th>GroupId</th>\n",
       "      <th>PassengerIdInGroup</th>\n",
       "      <th>MembersOfGroupById</th>\n",
       "      <th>Surname</th>\n",
       "      <th>MembersOfFamilyBySurname</th>\n",
       "      <th>CabinDeck</th>\n",
       "      <th>CabinNum</th>\n",
       "      <th>CabinSide</th>\n",
       "      <th>AgeBinned</th>\n",
       "    </tr>\n",
       "  </thead>\n",
       "  <tbody>\n",
       "    <tr>\n",
       "      <th>8415</th>\n",
       "      <td>8989_01</td>\n",
       "      <td>Europa</td>\n",
       "      <td>False</td>\n",
       "      <td>B/291/P</td>\n",
       "      <td>TRAPPIST-1e</td>\n",
       "      <td>17.0</td>\n",
       "      <td>False</td>\n",
       "      <td>0.0</td>\n",
       "      <td>366.0</td>\n",
       "      <td>23492.0</td>\n",
       "      <td>...</td>\n",
       "      <td>True</td>\n",
       "      <td>8989</td>\n",
       "      <td>1</td>\n",
       "      <td>4.0</td>\n",
       "      <td>Unknown</td>\n",
       "      <td>NaN</td>\n",
       "      <td>B</td>\n",
       "      <td>291</td>\n",
       "      <td>P</td>\n",
       "      <td>Teenager</td>\n",
       "    </tr>\n",
       "  </tbody>\n",
       "</table>\n",
       "<p>1 rows × 23 columns</p>\n",
       "</div>"
      ],
      "text/plain": [
       "     PassengerId HomePlanet CryoSleep    Cabin  Destination   Age    VIP  \\\n",
       "8415     8989_01     Europa     False  B/291/P  TRAPPIST-1e  17.0  False   \n",
       "\n",
       "      RoomService  FoodCourt  ShoppingMall  ...  Transported  GroupId  \\\n",
       "8415          0.0      366.0       23492.0  ...         True     8989   \n",
       "\n",
       "     PassengerIdInGroup  MembersOfGroupById  Surname  \\\n",
       "8415                  1                 4.0  Unknown   \n",
       "\n",
       "      MembersOfFamilyBySurname  CabinDeck CabinNum  CabinSide AgeBinned  \n",
       "8415                       NaN          B      291          P  Teenager  \n",
       "\n",
       "[1 rows x 23 columns]"
      ]
     },
     "execution_count": 676,
     "metadata": {},
     "output_type": "execute_result"
    }
   ],
   "source": [
    "#Check the max value in ShoppingMall\n",
    "\n",
    "condition = df_01['ShoppingMall'] >=23492.0\n",
    "dataset_filtered = df_01[condition]\n",
    "\n",
    "##The room is number is Unknown\n",
    "dataset_filtered  \n"
   ]
  },
  {
   "cell_type": "code",
   "execution_count": 677,
   "id": "0de4806e",
   "metadata": {},
   "outputs": [],
   "source": [
    "# Drop rows where ShoppingMall is greater than 23492.0\n",
    "\n",
    "condition_drop = df_01['ShoppingMall'] >= 23492.0\n",
    "df_02 = df_01.drop(df_01[condition].index)"
   ]
  },
  {
   "cell_type": "code",
   "execution_count": 678,
   "id": "376f8172",
   "metadata": {},
   "outputs": [
    {
     "data": {
      "text/html": [
       "<div>\n",
       "<style scoped>\n",
       "    .dataframe tbody tr th:only-of-type {\n",
       "        vertical-align: middle;\n",
       "    }\n",
       "\n",
       "    .dataframe tbody tr th {\n",
       "        vertical-align: top;\n",
       "    }\n",
       "\n",
       "    .dataframe thead th {\n",
       "        text-align: right;\n",
       "    }\n",
       "</style>\n",
       "<table border=\"1\" class=\"dataframe\">\n",
       "  <thead>\n",
       "    <tr style=\"text-align: right;\">\n",
       "      <th></th>\n",
       "      <th>PassengerId</th>\n",
       "      <th>HomePlanet</th>\n",
       "      <th>CryoSleep</th>\n",
       "      <th>Cabin</th>\n",
       "      <th>Destination</th>\n",
       "      <th>Age</th>\n",
       "      <th>VIP</th>\n",
       "      <th>RoomService</th>\n",
       "      <th>FoodCourt</th>\n",
       "      <th>ShoppingMall</th>\n",
       "      <th>...</th>\n",
       "      <th>Transported</th>\n",
       "      <th>GroupId</th>\n",
       "      <th>PassengerIdInGroup</th>\n",
       "      <th>MembersOfGroupById</th>\n",
       "      <th>Surname</th>\n",
       "      <th>MembersOfFamilyBySurname</th>\n",
       "      <th>CabinDeck</th>\n",
       "      <th>CabinNum</th>\n",
       "      <th>CabinSide</th>\n",
       "      <th>AgeBinned</th>\n",
       "    </tr>\n",
       "  </thead>\n",
       "  <tbody>\n",
       "  </tbody>\n",
       "</table>\n",
       "<p>0 rows × 23 columns</p>\n",
       "</div>"
      ],
      "text/plain": [
       "Empty DataFrame\n",
       "Columns: [PassengerId, HomePlanet, CryoSleep, Cabin, Destination, Age, VIP, RoomService, FoodCourt, ShoppingMall, Spa, VRDeck, Name, Transported, GroupId, PassengerIdInGroup, MembersOfGroupById, Surname, MembersOfFamilyBySurname, CabinDeck, CabinNum, CabinSide, AgeBinned]\n",
       "Index: []\n",
       "\n",
       "[0 rows x 23 columns]"
      ]
     },
     "execution_count": 678,
     "metadata": {},
     "output_type": "execute_result"
    }
   ],
   "source": [
    "#Check the max value in ShoppingMall was droped\n",
    "\n",
    "condition = df_02['ShoppingMall'] >=23492.0\n",
    "dataset_filtered = df_02[condition]\n",
    "\n",
    "##The room is number is Unknown\n",
    "dataset_filtered  "
   ]
  },
  {
   "cell_type": "code",
   "execution_count": 679,
   "id": "d70b5921",
   "metadata": {},
   "outputs": [
    {
     "data": {
      "text/plain": [
       "count     8483.000000\n",
       "mean       171.000825\n",
       "std        549.206385\n",
       "min          0.000000\n",
       "25%          0.000000\n",
       "50%          0.000000\n",
       "75%         27.000000\n",
       "max      12253.000000\n",
       "Name: ShoppingMall, dtype: float64"
      ]
     },
     "execution_count": 679,
     "metadata": {},
     "output_type": "execute_result"
    }
   ],
   "source": [
    "df_02['ShoppingMall'].describe()"
   ]
  },
  {
   "cell_type": "code",
   "execution_count": 680,
   "id": "4a52073f",
   "metadata": {},
   "outputs": [
    {
     "data": {
      "text/plain": [
       "208"
      ]
     },
     "execution_count": 680,
     "metadata": {},
     "output_type": "execute_result"
    }
   ],
   "source": [
    "df_02['ShoppingMall'].isnull().sum()"
   ]
  },
  {
   "cell_type": "code",
   "execution_count": 681,
   "id": "686d41a1",
   "metadata": {},
   "outputs": [
    {
     "name": "stdout",
     "output_type": "stream",
     "text": [
      "171.0\n"
     ]
    },
    {
     "data": {
      "text/plain": [
       "count     8691.000000\n",
       "mean       171.000805\n",
       "std        542.593795\n",
       "min          0.000000\n",
       "25%          0.000000\n",
       "50%          0.000000\n",
       "75%         45.000000\n",
       "max      12253.000000\n",
       "Name: ShoppingMall, dtype: float64"
      ]
     },
     "execution_count": 681,
     "metadata": {},
     "output_type": "execute_result"
    }
   ],
   "source": [
    "#Fill the missing values for ShoppingMall\n",
    "\n",
    "# Impute missing values with the mean for Column ShoppingMall.\n",
    "mean_value = df_02['ShoppingMall'].mean()\n",
    "rounded_mean = round(mean_value, 0)\n",
    "print(rounded_mean)\n",
    "df_02['ShoppingMall'].fillna(rounded_mean, inplace=True)\n",
    "\n",
    "df_02['ShoppingMall'].describe()"
   ]
  },
  {
   "cell_type": "code",
   "execution_count": 682,
   "id": "2243d7a9",
   "metadata": {},
   "outputs": [
    {
     "data": {
      "text/plain": [
       "0"
      ]
     },
     "execution_count": 682,
     "metadata": {},
     "output_type": "execute_result"
    }
   ],
   "source": [
    "df_02['ShoppingMall'].isnull().sum()"
   ]
  },
  {
   "cell_type": "code",
   "execution_count": 683,
   "id": "9101f2db",
   "metadata": {},
   "outputs": [
    {
     "name": "stdout",
     "output_type": "stream",
     "text": [
      "-5373.000390571986\n",
      "5995.340305945752\n"
     ]
    },
    {
     "data": {
      "text/plain": [
       "count     8508.000000\n",
       "mean       311.169958\n",
       "std       1136.834070\n",
       "min          0.000000\n",
       "25%          0.000000\n",
       "50%          0.000000\n",
       "75%         59.000000\n",
       "max      22408.000000\n",
       "Name: Spa, dtype: float64"
      ]
     },
     "execution_count": 683,
     "metadata": {},
     "output_type": "execute_result"
    }
   ],
   "source": [
    "upper_boundary=df_02['Spa'].mean()+5*df_02['Spa'].std()\n",
    "lower_boundary=df_02['Spa'].mean()-5*df_02['Spa'].std()\n",
    "print(lower_boundary),print(upper_boundary)\n",
    "\n",
    "#The Spa. seens not to be an outlier \n",
    "df_02['Spa'].describe()"
   ]
  },
  {
   "cell_type": "code",
   "execution_count": null,
   "id": "b5ecaa44",
   "metadata": {},
   "outputs": [],
   "source": []
  },
  {
   "cell_type": "code",
   "execution_count": 684,
   "id": "d398b242",
   "metadata": {},
   "outputs": [
    {
     "data": {
      "text/plain": [
       "count     8508.000000\n",
       "mean       311.169958\n",
       "std       1136.834070\n",
       "min          0.000000\n",
       "25%          0.000000\n",
       "50%          0.000000\n",
       "75%         59.000000\n",
       "max      22408.000000\n",
       "Name: Spa, dtype: float64"
      ]
     },
     "execution_count": 684,
     "metadata": {},
     "output_type": "execute_result"
    }
   ],
   "source": [
    "df_02['Spa'].describe()"
   ]
  },
  {
   "cell_type": "code",
   "execution_count": 685,
   "id": "64af177c",
   "metadata": {},
   "outputs": [
    {
     "data": {
      "text/plain": [
       "183"
      ]
     },
     "execution_count": 685,
     "metadata": {},
     "output_type": "execute_result"
    }
   ],
   "source": [
    "df_02['Spa'].isnull().sum()"
   ]
  },
  {
   "cell_type": "code",
   "execution_count": 686,
   "id": "894c16a9",
   "metadata": {},
   "outputs": [
    {
     "name": "stdout",
     "output_type": "stream",
     "text": [
      "311.0\n"
     ]
    },
    {
     "data": {
      "text/plain": [
       "count     8691.000000\n",
       "mean       311.166379\n",
       "std       1124.800262\n",
       "min          0.000000\n",
       "25%          0.000000\n",
       "50%          0.000000\n",
       "75%         89.000000\n",
       "max      22408.000000\n",
       "Name: Spa, dtype: float64"
      ]
     },
     "execution_count": 686,
     "metadata": {},
     "output_type": "execute_result"
    }
   ],
   "source": [
    "#Fill the missing values for Spa \n",
    "\n",
    "# Impute missing values with the mean for Column Spa.\n",
    "mean_value = df_02['Spa'].mean()\n",
    "rounded_mean = round(mean_value, 0)\n",
    "print(rounded_mean)\n",
    "df_02['Spa'].fillna(rounded_mean, inplace=True)\n",
    "\n",
    "df_02['Spa'].describe()"
   ]
  },
  {
   "cell_type": "code",
   "execution_count": 687,
   "id": "6cae0564",
   "metadata": {},
   "outputs": [
    {
     "data": {
      "text/plain": [
       "0"
      ]
     },
     "execution_count": 687,
     "metadata": {},
     "output_type": "execute_result"
    }
   ],
   "source": [
    "df_02['Spa'].isnull().sum()"
   ]
  },
  {
   "cell_type": "code",
   "execution_count": 688,
   "id": "113e4eb3",
   "metadata": {},
   "outputs": [
    {
     "name": "stdout",
     "output_type": "stream",
     "text": [
      "-5424.286310529413\n",
      "6034.138597957379\n"
     ]
    },
    {
     "data": {
      "text/plain": [
       "count     8503.000000\n",
       "mean       304.926144\n",
       "std       1145.842491\n",
       "min          0.000000\n",
       "25%          0.000000\n",
       "50%          0.000000\n",
       "75%         46.000000\n",
       "max      24133.000000\n",
       "Name: VRDeck, dtype: float64"
      ]
     },
     "execution_count": 688,
     "metadata": {},
     "output_type": "execute_result"
    }
   ],
   "source": [
    "\n",
    "#Check bundaries for VRDeck column \n",
    "\n",
    "upper_boundary=df_02['VRDeck'].mean()+5*df_02['VRDeck'].std()\n",
    "lower_boundary=df_02['VRDeck'].mean()-5*df_02['VRDeck'].std()\n",
    "print(lower_boundary),print(upper_boundary)\n",
    "\n",
    "df_02['VRDeck'].describe()"
   ]
  },
  {
   "cell_type": "code",
   "execution_count": 689,
   "id": "93d530a7",
   "metadata": {},
   "outputs": [
    {
     "data": {
      "text/plain": [
       "188"
      ]
     },
     "execution_count": 689,
     "metadata": {},
     "output_type": "execute_result"
    }
   ],
   "source": [
    "df_02['VRDeck'].isnull().sum()"
   ]
  },
  {
   "cell_type": "code",
   "execution_count": 690,
   "id": "a18c22ec",
   "metadata": {},
   "outputs": [
    {
     "name": "stdout",
     "output_type": "stream",
     "text": [
      "305.0\n"
     ]
    },
    {
     "data": {
      "text/plain": [
       "count     8691.000000\n",
       "mean       304.927741\n",
       "std       1133.380106\n",
       "min          0.000000\n",
       "25%          0.000000\n",
       "50%          0.000000\n",
       "75%         71.000000\n",
       "max      24133.000000\n",
       "Name: VRDeck, dtype: float64"
      ]
     },
     "execution_count": 690,
     "metadata": {},
     "output_type": "execute_result"
    }
   ],
   "source": [
    "#Fill the missing values for VRDeck \n",
    "\n",
    "# Impute missing values with the mean for Column VRDeck.\n",
    "mean_value = df_02['VRDeck'].mean()\n",
    "rounded_mean = round(mean_value, 0)\n",
    "print(rounded_mean)\n",
    "df_02['VRDeck'].fillna(rounded_mean, inplace=True)\n",
    "\n",
    "df_02['VRDeck'].describe()"
   ]
  },
  {
   "cell_type": "code",
   "execution_count": 691,
   "id": "365020f8",
   "metadata": {},
   "outputs": [
    {
     "data": {
      "text/plain": [
       "0"
      ]
     },
     "execution_count": 691,
     "metadata": {},
     "output_type": "execute_result"
    }
   ],
   "source": [
    "df_02['VRDeck'].isnull().sum()"
   ]
  },
  {
   "cell_type": "code",
   "execution_count": 692,
   "id": "a77e0638",
   "metadata": {},
   "outputs": [
    {
     "data": {
      "text/plain": [
       "201"
      ]
     },
     "execution_count": 692,
     "metadata": {},
     "output_type": "execute_result"
    }
   ],
   "source": [
    "#Check empty category and add  a new category 'Unknown'.\n",
    "\n",
    "df_02['HomePlanet'].isnull().sum()"
   ]
  },
  {
   "cell_type": "code",
   "execution_count": 693,
   "id": "0a0dc5f9",
   "metadata": {},
   "outputs": [],
   "source": [
    "df_02['HomePlanet'].fillna('Unknown', inplace=True)\n"
   ]
  },
  {
   "cell_type": "code",
   "execution_count": 694,
   "id": "e55d4ec5",
   "metadata": {},
   "outputs": [
    {
     "data": {
      "text/plain": [
       "0"
      ]
     },
     "execution_count": 694,
     "metadata": {},
     "output_type": "execute_result"
    }
   ],
   "source": [
    "df_02['HomePlanet'].isnull().sum()"
   ]
  },
  {
   "cell_type": "code",
   "execution_count": 695,
   "id": "6a129e25",
   "metadata": {},
   "outputs": [
    {
     "data": {
      "text/plain": [
       "217"
      ]
     },
     "execution_count": 695,
     "metadata": {},
     "output_type": "execute_result"
    }
   ],
   "source": [
    "df_02['CryoSleep'].isnull().sum()"
   ]
  },
  {
   "cell_type": "code",
   "execution_count": 696,
   "id": "4e0c698b",
   "metadata": {},
   "outputs": [
    {
     "data": {
      "text/plain": [
       "0"
      ]
     },
     "execution_count": 696,
     "metadata": {},
     "output_type": "execute_result"
    }
   ],
   "source": [
    "df_02['CryoSleep'].fillna('Unknown', inplace=True)\n",
    "df_02['CryoSleep'].isnull().sum()"
   ]
  },
  {
   "cell_type": "code",
   "execution_count": 697,
   "id": "0b67188a",
   "metadata": {},
   "outputs": [
    {
     "data": {
      "text/plain": [
       "182"
      ]
     },
     "execution_count": 697,
     "metadata": {},
     "output_type": "execute_result"
    }
   ],
   "source": [
    "df_02['Destination'].isnull().sum()"
   ]
  },
  {
   "cell_type": "code",
   "execution_count": 698,
   "id": "817e9a06",
   "metadata": {},
   "outputs": [
    {
     "data": {
      "text/plain": [
       "0"
      ]
     },
     "execution_count": 698,
     "metadata": {},
     "output_type": "execute_result"
    }
   ],
   "source": [
    "df_02['Destination'].fillna('Unknown', inplace=True)\n",
    "df_02['Destination'].isnull().sum()"
   ]
  },
  {
   "cell_type": "code",
   "execution_count": 699,
   "id": "aad7d464",
   "metadata": {},
   "outputs": [
    {
     "data": {
      "text/plain": [
       "203"
      ]
     },
     "execution_count": 699,
     "metadata": {},
     "output_type": "execute_result"
    }
   ],
   "source": [
    "df_02['VIP'].isnull().sum()"
   ]
  },
  {
   "cell_type": "code",
   "execution_count": 700,
   "id": "6d199073",
   "metadata": {},
   "outputs": [
    {
     "data": {
      "text/plain": [
       "0"
      ]
     },
     "execution_count": 700,
     "metadata": {},
     "output_type": "execute_result"
    }
   ],
   "source": [
    "df_02['VIP'].fillna('Unknown', inplace=True)\n",
    "df_02['VIP'].isnull().sum()"
   ]
  },
  {
   "cell_type": "code",
   "execution_count": 701,
   "id": "aaf40293",
   "metadata": {},
   "outputs": [
    {
     "data": {
      "text/plain": [
       "199"
      ]
     },
     "execution_count": 701,
     "metadata": {},
     "output_type": "execute_result"
    }
   ],
   "source": [
    "df_02['Name'].isnull().sum()"
   ]
  },
  {
   "cell_type": "code",
   "execution_count": 702,
   "id": "7eb5a636",
   "metadata": {},
   "outputs": [
    {
     "data": {
      "text/plain": [
       "0"
      ]
     },
     "execution_count": 702,
     "metadata": {},
     "output_type": "execute_result"
    }
   ],
   "source": [
    "df_02['Name'].fillna('Unknown', inplace=True)\n",
    "df_02['Name'].isnull().sum()\n",
    "\n",
    "\n",
    "\n",
    "\n"
   ]
  },
  {
   "cell_type": "code",
   "execution_count": 703,
   "id": "c19a463b",
   "metadata": {},
   "outputs": [
    {
     "data": {
      "text/plain": [
       "199"
      ]
     },
     "execution_count": 703,
     "metadata": {},
     "output_type": "execute_result"
    }
   ],
   "source": [
    "##MembersOfFamilyBySurname fill emptys\n",
    "df_02['MembersOfFamilyBySurname'].isnull().sum()"
   ]
  },
  {
   "cell_type": "code",
   "execution_count": 704,
   "id": "5b0e65af",
   "metadata": {},
   "outputs": [
    {
     "data": {
      "image/png": "[encoded data removed]",
      "text/plain": [
       "<Figure size 432x288 with 1 Axes>"
      ]
     },
     "metadata": {
      "needs_background": "light"
     },
     "output_type": "display_data"
    }
   ],
   "source": [
    "\n",
    "#The outliers look good \n",
    "figure=df_02.boxplot(column='MembersOfFamilyBySurname')"
   ]
  },
  {
   "cell_type": "code",
   "execution_count": 708,
   "id": "d9fe2bfa",
   "metadata": {},
   "outputs": [
    {
     "data": {
      "text/html": [
       "<div>\n",
       "<style scoped>\n",
       "    .dataframe tbody tr th:only-of-type {\n",
       "        vertical-align: middle;\n",
       "    }\n",
       "\n",
       "    .dataframe tbody tr th {\n",
       "        vertical-align: top;\n",
       "    }\n",
       "\n",
       "    .dataframe thead th {\n",
       "        text-align: right;\n",
       "    }\n",
       "</style>\n",
       "<table border=\"1\" class=\"dataframe\">\n",
       "  <thead>\n",
       "    <tr style=\"text-align: right;\">\n",
       "      <th></th>\n",
       "      <th>PassengerId</th>\n",
       "      <th>HomePlanet</th>\n",
       "      <th>CryoSleep</th>\n",
       "      <th>Cabin</th>\n",
       "      <th>Destination</th>\n",
       "      <th>Age</th>\n",
       "      <th>VIP</th>\n",
       "      <th>RoomService</th>\n",
       "      <th>FoodCourt</th>\n",
       "      <th>ShoppingMall</th>\n",
       "      <th>...</th>\n",
       "      <th>Transported</th>\n",
       "      <th>GroupId</th>\n",
       "      <th>PassengerIdInGroup</th>\n",
       "      <th>MembersOfGroupById</th>\n",
       "      <th>Surname</th>\n",
       "      <th>MembersOfFamilyBySurname</th>\n",
       "      <th>CabinDeck</th>\n",
       "      <th>CabinNum</th>\n",
       "      <th>CabinSide</th>\n",
       "      <th>AgeBinned</th>\n",
       "    </tr>\n",
       "  </thead>\n",
       "  <tbody>\n",
       "    <tr>\n",
       "      <th>0</th>\n",
       "      <td>0001_01</td>\n",
       "      <td>1</td>\n",
       "      <td>False</td>\n",
       "      <td>B/0/P</td>\n",
       "      <td>2</td>\n",
       "      <td>39.0</td>\n",
       "      <td>False</td>\n",
       "      <td>0.0</td>\n",
       "      <td>0.0</td>\n",
       "      <td>0.0</td>\n",
       "      <td>...</td>\n",
       "      <td>0</td>\n",
       "      <td>1</td>\n",
       "      <td>1</td>\n",
       "      <td>1.0</td>\n",
       "      <td>Ofracculy</td>\n",
       "      <td>1.0</td>\n",
       "      <td>B</td>\n",
       "      <td>0</td>\n",
       "      <td>0</td>\n",
       "      <td>2</td>\n",
       "    </tr>\n",
       "    <tr>\n",
       "      <th>1</th>\n",
       "      <td>0002_01</td>\n",
       "      <td>0</td>\n",
       "      <td>False</td>\n",
       "      <td>F/0/S</td>\n",
       "      <td>2</td>\n",
       "      <td>24.0</td>\n",
       "      <td>False</td>\n",
       "      <td>109.0</td>\n",
       "      <td>9.0</td>\n",
       "      <td>25.0</td>\n",
       "      <td>...</td>\n",
       "      <td>1</td>\n",
       "      <td>2</td>\n",
       "      <td>1</td>\n",
       "      <td>1.0</td>\n",
       "      <td>Vines</td>\n",
       "      <td>4.0</td>\n",
       "      <td>F</td>\n",
       "      <td>0</td>\n",
       "      <td>1</td>\n",
       "      <td>4</td>\n",
       "    </tr>\n",
       "    <tr>\n",
       "      <th>2</th>\n",
       "      <td>0003_01</td>\n",
       "      <td>1</td>\n",
       "      <td>False</td>\n",
       "      <td>A/0/S</td>\n",
       "      <td>2</td>\n",
       "      <td>58.0</td>\n",
       "      <td>True</td>\n",
       "      <td>43.0</td>\n",
       "      <td>3576.0</td>\n",
       "      <td>0.0</td>\n",
       "      <td>...</td>\n",
       "      <td>0</td>\n",
       "      <td>3</td>\n",
       "      <td>1</td>\n",
       "      <td>2.0</td>\n",
       "      <td>Susent</td>\n",
       "      <td>6.0</td>\n",
       "      <td>A</td>\n",
       "      <td>0</td>\n",
       "      <td>1</td>\n",
       "      <td>2</td>\n",
       "    </tr>\n",
       "    <tr>\n",
       "      <th>3</th>\n",
       "      <td>0003_02</td>\n",
       "      <td>1</td>\n",
       "      <td>False</td>\n",
       "      <td>A/0/S</td>\n",
       "      <td>2</td>\n",
       "      <td>33.0</td>\n",
       "      <td>False</td>\n",
       "      <td>0.0</td>\n",
       "      <td>1283.0</td>\n",
       "      <td>371.0</td>\n",
       "      <td>...</td>\n",
       "      <td>0</td>\n",
       "      <td>3</td>\n",
       "      <td>2</td>\n",
       "      <td>2.0</td>\n",
       "      <td>Susent</td>\n",
       "      <td>6.0</td>\n",
       "      <td>A</td>\n",
       "      <td>0</td>\n",
       "      <td>1</td>\n",
       "      <td>2</td>\n",
       "    </tr>\n",
       "    <tr>\n",
       "      <th>4</th>\n",
       "      <td>0004_01</td>\n",
       "      <td>0</td>\n",
       "      <td>False</td>\n",
       "      <td>F/1/S</td>\n",
       "      <td>2</td>\n",
       "      <td>16.0</td>\n",
       "      <td>False</td>\n",
       "      <td>303.0</td>\n",
       "      <td>70.0</td>\n",
       "      <td>151.0</td>\n",
       "      <td>...</td>\n",
       "      <td>1</td>\n",
       "      <td>4</td>\n",
       "      <td>1</td>\n",
       "      <td>1.0</td>\n",
       "      <td>Santantines</td>\n",
       "      <td>6.0</td>\n",
       "      <td>F</td>\n",
       "      <td>1</td>\n",
       "      <td>1</td>\n",
       "      <td>3</td>\n",
       "    </tr>\n",
       "    <tr>\n",
       "      <th>...</th>\n",
       "      <td>...</td>\n",
       "      <td>...</td>\n",
       "      <td>...</td>\n",
       "      <td>...</td>\n",
       "      <td>...</td>\n",
       "      <td>...</td>\n",
       "      <td>...</td>\n",
       "      <td>...</td>\n",
       "      <td>...</td>\n",
       "      <td>...</td>\n",
       "      <td>...</td>\n",
       "      <td>...</td>\n",
       "      <td>...</td>\n",
       "      <td>...</td>\n",
       "      <td>...</td>\n",
       "      <td>...</td>\n",
       "      <td>...</td>\n",
       "      <td>...</td>\n",
       "      <td>...</td>\n",
       "      <td>...</td>\n",
       "      <td>...</td>\n",
       "    </tr>\n",
       "    <tr>\n",
       "      <th>145</th>\n",
       "      <td>0165_01</td>\n",
       "      <td>2</td>\n",
       "      <td>True</td>\n",
       "      <td>F/37/P</td>\n",
       "      <td>2</td>\n",
       "      <td>35.0</td>\n",
       "      <td>Unknown</td>\n",
       "      <td>0.0</td>\n",
       "      <td>0.0</td>\n",
       "      <td>0.0</td>\n",
       "      <td>...</td>\n",
       "      <td>1</td>\n",
       "      <td>165</td>\n",
       "      <td>1</td>\n",
       "      <td>1.0</td>\n",
       "      <td>Anche</td>\n",
       "      <td>2.0</td>\n",
       "      <td>F</td>\n",
       "      <td>37</td>\n",
       "      <td>0</td>\n",
       "      <td>2</td>\n",
       "    </tr>\n",
       "    <tr>\n",
       "      <th>146</th>\n",
       "      <td>0167_01</td>\n",
       "      <td>2</td>\n",
       "      <td>True</td>\n",
       "      <td>F/35/S</td>\n",
       "      <td>2</td>\n",
       "      <td>13.0</td>\n",
       "      <td>False</td>\n",
       "      <td>0.0</td>\n",
       "      <td>0.0</td>\n",
       "      <td>0.0</td>\n",
       "      <td>...</td>\n",
       "      <td>1</td>\n",
       "      <td>167</td>\n",
       "      <td>1</td>\n",
       "      <td>2.0</td>\n",
       "      <td>Floaf</td>\n",
       "      <td>4.0</td>\n",
       "      <td>F</td>\n",
       "      <td>35</td>\n",
       "      <td>1</td>\n",
       "      <td>3</td>\n",
       "    </tr>\n",
       "    <tr>\n",
       "      <th>147</th>\n",
       "      <td>0167_02</td>\n",
       "      <td>2</td>\n",
       "      <td>False</td>\n",
       "      <td>F/35/S</td>\n",
       "      <td>2</td>\n",
       "      <td>27.0</td>\n",
       "      <td>False</td>\n",
       "      <td>1365.0</td>\n",
       "      <td>0.0</td>\n",
       "      <td>48.0</td>\n",
       "      <td>...</td>\n",
       "      <td>0</td>\n",
       "      <td>167</td>\n",
       "      <td>2</td>\n",
       "      <td>2.0</td>\n",
       "      <td>Floaf</td>\n",
       "      <td>4.0</td>\n",
       "      <td>F</td>\n",
       "      <td>35</td>\n",
       "      <td>1</td>\n",
       "      <td>4</td>\n",
       "    </tr>\n",
       "    <tr>\n",
       "      <th>148</th>\n",
       "      <td>0169_01</td>\n",
       "      <td>0</td>\n",
       "      <td>True</td>\n",
       "      <td>G/23/P</td>\n",
       "      <td>2</td>\n",
       "      <td>31.0</td>\n",
       "      <td>False</td>\n",
       "      <td>0.0</td>\n",
       "      <td>0.0</td>\n",
       "      <td>0.0</td>\n",
       "      <td>...</td>\n",
       "      <td>0</td>\n",
       "      <td>169</td>\n",
       "      <td>1</td>\n",
       "      <td>1.0</td>\n",
       "      <td>Fisherry</td>\n",
       "      <td>2.0</td>\n",
       "      <td>G</td>\n",
       "      <td>23</td>\n",
       "      <td>0</td>\n",
       "      <td>2</td>\n",
       "    </tr>\n",
       "    <tr>\n",
       "      <th>149</th>\n",
       "      <td>0170_01</td>\n",
       "      <td>0</td>\n",
       "      <td>False</td>\n",
       "      <td>E/10/S</td>\n",
       "      <td>2</td>\n",
       "      <td>24.0</td>\n",
       "      <td>False</td>\n",
       "      <td>0.0</td>\n",
       "      <td>0.0</td>\n",
       "      <td>0.0</td>\n",
       "      <td>...</td>\n",
       "      <td>0</td>\n",
       "      <td>170</td>\n",
       "      <td>1</td>\n",
       "      <td>1.0</td>\n",
       "      <td>Mcmahoney</td>\n",
       "      <td>4.0</td>\n",
       "      <td>E</td>\n",
       "      <td>10</td>\n",
       "      <td>1</td>\n",
       "      <td>4</td>\n",
       "    </tr>\n",
       "  </tbody>\n",
       "</table>\n",
       "<p>150 rows × 23 columns</p>\n",
       "</div>"
      ],
      "text/plain": [
       "    PassengerId  HomePlanet CryoSleep   Cabin  Destination   Age      VIP  \\\n",
       "0       0001_01           1     False   B/0/P            2  39.0    False   \n",
       "1       0002_01           0     False   F/0/S            2  24.0    False   \n",
       "2       0003_01           1     False   A/0/S            2  58.0     True   \n",
       "3       0003_02           1     False   A/0/S            2  33.0    False   \n",
       "4       0004_01           0     False   F/1/S            2  16.0    False   \n",
       "..          ...         ...       ...     ...          ...   ...      ...   \n",
       "145     0165_01           2      True  F/37/P            2  35.0  Unknown   \n",
       "146     0167_01           2      True  F/35/S            2  13.0    False   \n",
       "147     0167_02           2     False  F/35/S            2  27.0    False   \n",
       "148     0169_01           0      True  G/23/P            2  31.0    False   \n",
       "149     0170_01           0     False  E/10/S            2  24.0    False   \n",
       "\n",
       "     RoomService  FoodCourt  ShoppingMall  ...  Transported  GroupId  \\\n",
       "0            0.0        0.0           0.0  ...            0        1   \n",
       "1          109.0        9.0          25.0  ...            1        2   \n",
       "2           43.0     3576.0           0.0  ...            0        3   \n",
       "3            0.0     1283.0         371.0  ...            0        3   \n",
       "4          303.0       70.0         151.0  ...            1        4   \n",
       "..           ...        ...           ...  ...          ...      ...   \n",
       "145          0.0        0.0           0.0  ...            1      165   \n",
       "146          0.0        0.0           0.0  ...            1      167   \n",
       "147       1365.0        0.0          48.0  ...            0      167   \n",
       "148          0.0        0.0           0.0  ...            0      169   \n",
       "149          0.0        0.0           0.0  ...            0      170   \n",
       "\n",
       "    PassengerIdInGroup  MembersOfGroupById      Surname  \\\n",
       "0                    1                 1.0    Ofracculy   \n",
       "1                    1                 1.0        Vines   \n",
       "2                    1                 2.0       Susent   \n",
       "3                    2                 2.0       Susent   \n",
       "4                    1                 1.0  Santantines   \n",
       "..                 ...                 ...          ...   \n",
       "145                  1                 1.0        Anche   \n",
       "146                  1                 2.0        Floaf   \n",
       "147                  2                 2.0        Floaf   \n",
       "148                  1                 1.0     Fisherry   \n",
       "149                  1                 1.0    Mcmahoney   \n",
       "\n",
       "     MembersOfFamilyBySurname  CabinDeck CabinNum  CabinSide AgeBinned  \n",
       "0                         1.0          B        0          0         2  \n",
       "1                         4.0          F        0          1         4  \n",
       "2                         6.0          A        0          1         2  \n",
       "3                         6.0          A        0          1         2  \n",
       "4                         6.0          F        1          1         3  \n",
       "..                        ...        ...      ...        ...       ...  \n",
       "145                       2.0          F       37          0         2  \n",
       "146                       4.0          F       35          1         3  \n",
       "147                       4.0          F       35          1         4  \n",
       "148                       2.0          G       23          0         2  \n",
       "149                       4.0          E       10          1         4  \n",
       "\n",
       "[150 rows x 23 columns]"
      ]
     },
     "execution_count": 708,
     "metadata": {},
     "output_type": "execute_result"
    }
   ],
   "source": [
    "##label_encoder = LabelEncoder()\n",
    "\n",
    "# Apply label encoding to each categorical column bellow\n",
    "##for column in ['HomePlanet','Destination','CabinSide','AgeBinned']: \n",
    "    ##df_02[column] = label_encoder.fit_transform(df_02[column])\n",
    "\n",
    "# Print the DataFrame with numerical labels\n",
    "##df_02.head(150)\n"
   ]
  },
  {
   "cell_type": "code",
   "execution_count": 718,
   "id": "db658e17",
   "metadata": {},
   "outputs": [
    {
     "name": "stdout",
     "output_type": "stream",
     "text": [
      "     PassengerId CryoSleep     Cabin   Age    VIP  RoomService  FoodCourt  \\\n",
      "0        0001_01     False     B/0/P  39.0  False          0.0        0.0   \n",
      "1        0002_01     False     F/0/S  24.0  False        109.0        9.0   \n",
      "2        0003_01     False     A/0/S  58.0   True         43.0     3576.0   \n",
      "3        0003_02     False     A/0/S  33.0  False          0.0     1283.0   \n",
      "4        0004_01     False     F/1/S  16.0  False        303.0       70.0   \n",
      "...          ...       ...       ...   ...    ...          ...        ...   \n",
      "8688     9276_01     False    A/98/P  41.0   True          0.0     6819.0   \n",
      "8689     9278_01      True  G/1499/S  18.0  False          0.0        0.0   \n",
      "8690     9279_01     False  G/1500/S  26.0  False          0.0        0.0   \n",
      "8691     9280_01     False   E/608/S  32.0  False          0.0     1049.0   \n",
      "8692     9280_02     False   E/608/S  44.0  False        126.0     4688.0   \n",
      "\n",
      "      ShoppingMall     Spa  VRDeck  ... HomePlanet_1  HomePlanet_2  \\\n",
      "0              0.0     0.0     0.0  ...         True         False   \n",
      "1             25.0   549.0    44.0  ...        False         False   \n",
      "2              0.0  6715.0    49.0  ...         True         False   \n",
      "3            371.0  3329.0   193.0  ...         True         False   \n",
      "4            151.0   565.0     2.0  ...        False         False   \n",
      "...            ...     ...     ...  ...          ...           ...   \n",
      "8688           0.0  1643.0    74.0  ...         True         False   \n",
      "8689           0.0     0.0     0.0  ...        False         False   \n",
      "8690        1872.0     1.0     0.0  ...        False         False   \n",
      "8691           0.0   353.0  3235.0  ...         True         False   \n",
      "8692           0.0     0.0    12.0  ...         True         False   \n",
      "\n",
      "      HomePlanet_3  CabinSide_0  CabinSide_1 CabinSide_2  Destination_0  \\\n",
      "0            False         True        False       False          False   \n",
      "1            False        False         True       False          False   \n",
      "2            False        False         True       False          False   \n",
      "3            False        False         True       False          False   \n",
      "4            False        False         True       False          False   \n",
      "...            ...          ...          ...         ...            ...   \n",
      "8688         False         True        False       False           True   \n",
      "8689         False        False         True       False          False   \n",
      "8690         False        False         True       False          False   \n",
      "8691         False        False         True       False           True   \n",
      "8692         False        False         True       False          False   \n",
      "\n",
      "     Destination_1 Destination_2  Destination_3  \n",
      "0            False          True          False  \n",
      "1            False          True          False  \n",
      "2            False          True          False  \n",
      "3            False          True          False  \n",
      "4            False          True          False  \n",
      "...            ...           ...            ...  \n",
      "8688         False         False          False  \n",
      "8689          True         False          False  \n",
      "8690         False          True          False  \n",
      "8691         False         False          False  \n",
      "8692         False          True          False  \n",
      "\n",
      "[8691 rows x 31 columns]\n"
     ]
    }
   ],
   "source": [
    "\n",
    "# Perform one-hot encoding for each categorical column  with True and False\n",
    "dataset_one_hot = pd.get_dummies(df_02, columns=['HomePlanet', 'CabinSide', 'Destination'])\n",
    "\n",
    "\n",
    "\n",
    "# Print the DataFrame after one-hot encoding\n",
    "print(dataset_one_hot)"
   ]
  },
  {
   "cell_type": "code",
   "execution_count": 720,
   "id": "a19398ef",
   "metadata": {},
   "outputs": [
    {
     "data": {
      "text/html": [
       "<div>\n",
       "<style scoped>\n",
       "    .dataframe tbody tr th:only-of-type {\n",
       "        vertical-align: middle;\n",
       "    }\n",
       "\n",
       "    .dataframe tbody tr th {\n",
       "        vertical-align: top;\n",
       "    }\n",
       "\n",
       "    .dataframe thead th {\n",
       "        text-align: right;\n",
       "    }\n",
       "</style>\n",
       "<table border=\"1\" class=\"dataframe\">\n",
       "  <thead>\n",
       "    <tr style=\"text-align: right;\">\n",
       "      <th></th>\n",
       "      <th>PassengerId</th>\n",
       "      <th>CryoSleep</th>\n",
       "      <th>Cabin</th>\n",
       "      <th>Age</th>\n",
       "      <th>VIP</th>\n",
       "      <th>RoomService</th>\n",
       "      <th>FoodCourt</th>\n",
       "      <th>ShoppingMall</th>\n",
       "      <th>Spa</th>\n",
       "      <th>VRDeck</th>\n",
       "      <th>...</th>\n",
       "      <th>CabinNum</th>\n",
       "      <th>AgeBinned</th>\n",
       "      <th>HomePlanet_1</th>\n",
       "      <th>HomePlanet_2</th>\n",
       "      <th>HomePlanet_3</th>\n",
       "      <th>CabinSide_1</th>\n",
       "      <th>CabinSide_2</th>\n",
       "      <th>Destination_1</th>\n",
       "      <th>Destination_2</th>\n",
       "      <th>Destination_3</th>\n",
       "    </tr>\n",
       "  </thead>\n",
       "  <tbody>\n",
       "    <tr>\n",
       "      <th>0</th>\n",
       "      <td>0001_01</td>\n",
       "      <td>False</td>\n",
       "      <td>B/0/P</td>\n",
       "      <td>39.0</td>\n",
       "      <td>False</td>\n",
       "      <td>0.0</td>\n",
       "      <td>0.0</td>\n",
       "      <td>0.0</td>\n",
       "      <td>0.0</td>\n",
       "      <td>0.0</td>\n",
       "      <td>...</td>\n",
       "      <td>0</td>\n",
       "      <td>2</td>\n",
       "      <td>True</td>\n",
       "      <td>False</td>\n",
       "      <td>False</td>\n",
       "      <td>False</td>\n",
       "      <td>False</td>\n",
       "      <td>False</td>\n",
       "      <td>True</td>\n",
       "      <td>False</td>\n",
       "    </tr>\n",
       "    <tr>\n",
       "      <th>1</th>\n",
       "      <td>0002_01</td>\n",
       "      <td>False</td>\n",
       "      <td>F/0/S</td>\n",
       "      <td>24.0</td>\n",
       "      <td>False</td>\n",
       "      <td>109.0</td>\n",
       "      <td>9.0</td>\n",
       "      <td>25.0</td>\n",
       "      <td>549.0</td>\n",
       "      <td>44.0</td>\n",
       "      <td>...</td>\n",
       "      <td>0</td>\n",
       "      <td>4</td>\n",
       "      <td>False</td>\n",
       "      <td>False</td>\n",
       "      <td>False</td>\n",
       "      <td>True</td>\n",
       "      <td>False</td>\n",
       "      <td>False</td>\n",
       "      <td>True</td>\n",
       "      <td>False</td>\n",
       "    </tr>\n",
       "    <tr>\n",
       "      <th>2</th>\n",
       "      <td>0003_01</td>\n",
       "      <td>False</td>\n",
       "      <td>A/0/S</td>\n",
       "      <td>58.0</td>\n",
       "      <td>True</td>\n",
       "      <td>43.0</td>\n",
       "      <td>3576.0</td>\n",
       "      <td>0.0</td>\n",
       "      <td>6715.0</td>\n",
       "      <td>49.0</td>\n",
       "      <td>...</td>\n",
       "      <td>0</td>\n",
       "      <td>2</td>\n",
       "      <td>True</td>\n",
       "      <td>False</td>\n",
       "      <td>False</td>\n",
       "      <td>True</td>\n",
       "      <td>False</td>\n",
       "      <td>False</td>\n",
       "      <td>True</td>\n",
       "      <td>False</td>\n",
       "    </tr>\n",
       "    <tr>\n",
       "      <th>3</th>\n",
       "      <td>0003_02</td>\n",
       "      <td>False</td>\n",
       "      <td>A/0/S</td>\n",
       "      <td>33.0</td>\n",
       "      <td>False</td>\n",
       "      <td>0.0</td>\n",
       "      <td>1283.0</td>\n",
       "      <td>371.0</td>\n",
       "      <td>3329.0</td>\n",
       "      <td>193.0</td>\n",
       "      <td>...</td>\n",
       "      <td>0</td>\n",
       "      <td>2</td>\n",
       "      <td>True</td>\n",
       "      <td>False</td>\n",
       "      <td>False</td>\n",
       "      <td>True</td>\n",
       "      <td>False</td>\n",
       "      <td>False</td>\n",
       "      <td>True</td>\n",
       "      <td>False</td>\n",
       "    </tr>\n",
       "    <tr>\n",
       "      <th>4</th>\n",
       "      <td>0004_01</td>\n",
       "      <td>False</td>\n",
       "      <td>F/1/S</td>\n",
       "      <td>16.0</td>\n",
       "      <td>False</td>\n",
       "      <td>303.0</td>\n",
       "      <td>70.0</td>\n",
       "      <td>151.0</td>\n",
       "      <td>565.0</td>\n",
       "      <td>2.0</td>\n",
       "      <td>...</td>\n",
       "      <td>1</td>\n",
       "      <td>3</td>\n",
       "      <td>False</td>\n",
       "      <td>False</td>\n",
       "      <td>False</td>\n",
       "      <td>True</td>\n",
       "      <td>False</td>\n",
       "      <td>False</td>\n",
       "      <td>True</td>\n",
       "      <td>False</td>\n",
       "    </tr>\n",
       "  </tbody>\n",
       "</table>\n",
       "<p>5 rows × 28 columns</p>\n",
       "</div>"
      ],
      "text/plain": [
       "  PassengerId CryoSleep  Cabin   Age    VIP  RoomService  FoodCourt  \\\n",
       "0     0001_01     False  B/0/P  39.0  False          0.0        0.0   \n",
       "1     0002_01     False  F/0/S  24.0  False        109.0        9.0   \n",
       "2     0003_01     False  A/0/S  58.0   True         43.0     3576.0   \n",
       "3     0003_02     False  A/0/S  33.0  False          0.0     1283.0   \n",
       "4     0004_01     False  F/1/S  16.0  False        303.0       70.0   \n",
       "\n",
       "   ShoppingMall     Spa  VRDeck  ... CabinNum  AgeBinned  HomePlanet_1  \\\n",
       "0           0.0     0.0     0.0  ...        0          2          True   \n",
       "1          25.0   549.0    44.0  ...        0          4         False   \n",
       "2           0.0  6715.0    49.0  ...        0          2          True   \n",
       "3         371.0  3329.0   193.0  ...        0          2          True   \n",
       "4         151.0   565.0     2.0  ...        1          3         False   \n",
       "\n",
       "   HomePlanet_2  HomePlanet_3 CabinSide_1  CabinSide_2 Destination_1  \\\n",
       "0         False         False       False        False         False   \n",
       "1         False         False        True        False         False   \n",
       "2         False         False        True        False         False   \n",
       "3         False         False        True        False         False   \n",
       "4         False         False        True        False         False   \n",
       "\n",
       "  Destination_2  Destination_3  \n",
       "0          True          False  \n",
       "1          True          False  \n",
       "2          True          False  \n",
       "3          True          False  \n",
       "4          True          False  \n",
       "\n",
       "[5 rows x 28 columns]"
      ]
     },
     "execution_count": 720,
     "metadata": {},
     "output_type": "execute_result"
    }
   ],
   "source": [
    "##Drop one category column for each encoded HomePlanet_0, CabinSide_0, Destination_0\n",
    "\n",
    "\n",
    "\n",
    "\n",
    "# Drop the 'HomePlanet_0' , 'CabinSide_0' and 'Destination_0'\n",
    "columns_to_drop = ['HomePlanet_0', 'CabinSide_0','Destination_0']\n",
    "df_final = dataset_one_hot.drop(columns=columns_to_drop)\n",
    "\n",
    "\n",
    "df_final.head()\n",
    "\n"
   ]
  },
  {
   "cell_type": "code",
   "execution_count": 721,
   "id": "5e824f15",
   "metadata": {},
   "outputs": [],
   "source": [
    "#Export DataFrame with modifications to a CSV File\n",
    "#\n",
    "df_final.to_csv('/Users/macbook/Downloads/Machine_Learning/ML_project/spaceship_titanic_fe2.csv', index=False)"
   ]
  },
  {
   "cell_type": "code",
   "execution_count": null,
   "id": "5fd59dd3",
   "metadata": {},
   "outputs": [],
   "source": []
  }
 ],
 "metadata": {
  "kernelspec": {
   "display_name": "Python 3",
   "language": "python",
   "name": "python3"
  },
  "language_info": {
   "codemirror_mode": {
    "name": "ipython",
    "version": 3
   },
   "file_extension": ".py",
   "mimetype": "text/x-python",
   "name": "python",
   "nbconvert_exporter": "python",
   "pygments_lexer": "ipython3",
   "version": "3.8.8"
  }
 },
 "nbformat": 4,
 "nbformat_minor": 5
}
