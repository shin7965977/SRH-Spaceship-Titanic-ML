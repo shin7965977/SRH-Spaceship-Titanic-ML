{
 "cells": [
  {
   "cell_type": "code",
   "execution_count": 43,
   "id": "2ecd92b9",
   "metadata": {
    "ExecuteTime": {
     "end_time": "2024-01-21T15:15:36.256169700Z",
     "start_time": "2024-01-21T15:15:36.213487100Z"
    }
   },
   "outputs": [
    {
     "data": {
      "text/plain": "  PassengerId HomePlanet CryoSleep  Cabin  Destination   Age    VIP  \\\n0     0001_01     Europa     False  B/0/P  TRAPPIST-1e  39.0  False   \n1     0002_01      Earth     False  F/0/S  TRAPPIST-1e  24.0  False   \n2     0003_01     Europa     False  A/0/S  TRAPPIST-1e  58.0   True   \n3     0003_02     Europa     False  A/0/S  TRAPPIST-1e  33.0  False   \n4     0004_01      Earth     False  F/1/S  TRAPPIST-1e  16.0  False   \n\n   RoomService  FoodCourt  ShoppingMall  ...  Transported  GroupId  \\\n0          0.0        0.0           0.0  ...        False        1   \n1        109.0        9.0          25.0  ...         True        2   \n2         43.0     3576.0           0.0  ...        False        3   \n3          0.0     1283.0         371.0  ...        False        3   \n4        303.0       70.0         151.0  ...         True        4   \n\n  PassengerIdInGroup  MembersOfGroupById      Surname  \\\n0                  1                 1.0    Ofracculy   \n1                  1                 1.0        Vines   \n2                  1                 2.0       Susent   \n3                  2                 2.0       Susent   \n4                  1                 1.0  Santantines   \n\n   MembersOfFamilyBySurname  CabinDeck CabinNum  CabinSide AgeBinned  \n0                       1.0          B        0          P    Senior  \n1                       4.0          F        0          S     Young  \n2                       6.0          A        0          S    Senior  \n3                       6.0          A        0          S    Senior  \n4                       6.0          F        1          S  Teenager  \n\n[5 rows x 23 columns]",
      "text/html": "<div>\n<style scoped>\n    .dataframe tbody tr th:only-of-type {\n        vertical-align: middle;\n    }\n\n    .dataframe tbody tr th {\n        vertical-align: top;\n    }\n\n    .dataframe thead th {\n        text-align: right;\n    }\n</style>\n<table border=\"1\" class=\"dataframe\">\n  <thead>\n    <tr style=\"text-align: right;\">\n      <th></th>\n      <th>PassengerId</th>\n      <th>HomePlanet</th>\n      <th>CryoSleep</th>\n      <th>Cabin</th>\n      <th>Destination</th>\n      <th>Age</th>\n      <th>VIP</th>\n      <th>RoomService</th>\n      <th>FoodCourt</th>\n      <th>ShoppingMall</th>\n      <th>...</th>\n      <th>Transported</th>\n      <th>GroupId</th>\n      <th>PassengerIdInGroup</th>\n      <th>MembersOfGroupById</th>\n      <th>Surname</th>\n      <th>MembersOfFamilyBySurname</th>\n      <th>CabinDeck</th>\n      <th>CabinNum</th>\n      <th>CabinSide</th>\n      <th>AgeBinned</th>\n    </tr>\n  </thead>\n  <tbody>\n    <tr>\n      <th>0</th>\n      <td>0001_01</td>\n      <td>Europa</td>\n      <td>False</td>\n      <td>B/0/P</td>\n      <td>TRAPPIST-1e</td>\n      <td>39.0</td>\n      <td>False</td>\n      <td>0.0</td>\n      <td>0.0</td>\n      <td>0.0</td>\n      <td>...</td>\n      <td>False</td>\n      <td>1</td>\n      <td>1</td>\n      <td>1.0</td>\n      <td>Ofracculy</td>\n      <td>1.0</td>\n      <td>B</td>\n      <td>0</td>\n      <td>P</td>\n      <td>Senior</td>\n    </tr>\n    <tr>\n      <th>1</th>\n      <td>0002_01</td>\n      <td>Earth</td>\n      <td>False</td>\n      <td>F/0/S</td>\n      <td>TRAPPIST-1e</td>\n      <td>24.0</td>\n      <td>False</td>\n      <td>109.0</td>\n      <td>9.0</td>\n      <td>25.0</td>\n      <td>...</td>\n      <td>True</td>\n      <td>2</td>\n      <td>1</td>\n      <td>1.0</td>\n      <td>Vines</td>\n      <td>4.0</td>\n      <td>F</td>\n      <td>0</td>\n      <td>S</td>\n      <td>Young</td>\n    </tr>\n    <tr>\n      <th>2</th>\n      <td>0003_01</td>\n      <td>Europa</td>\n      <td>False</td>\n      <td>A/0/S</td>\n      <td>TRAPPIST-1e</td>\n      <td>58.0</td>\n      <td>True</td>\n      <td>43.0</td>\n      <td>3576.0</td>\n      <td>0.0</td>\n      <td>...</td>\n      <td>False</td>\n      <td>3</td>\n      <td>1</td>\n      <td>2.0</td>\n      <td>Susent</td>\n      <td>6.0</td>\n      <td>A</td>\n      <td>0</td>\n      <td>S</td>\n      <td>Senior</td>\n    </tr>\n    <tr>\n      <th>3</th>\n      <td>0003_02</td>\n      <td>Europa</td>\n      <td>False</td>\n      <td>A/0/S</td>\n      <td>TRAPPIST-1e</td>\n      <td>33.0</td>\n      <td>False</td>\n      <td>0.0</td>\n      <td>1283.0</td>\n      <td>371.0</td>\n      <td>...</td>\n      <td>False</td>\n      <td>3</td>\n      <td>2</td>\n      <td>2.0</td>\n      <td>Susent</td>\n      <td>6.0</td>\n      <td>A</td>\n      <td>0</td>\n      <td>S</td>\n      <td>Senior</td>\n    </tr>\n    <tr>\n      <th>4</th>\n      <td>0004_01</td>\n      <td>Earth</td>\n      <td>False</td>\n      <td>F/1/S</td>\n      <td>TRAPPIST-1e</td>\n      <td>16.0</td>\n      <td>False</td>\n      <td>303.0</td>\n      <td>70.0</td>\n      <td>151.0</td>\n      <td>...</td>\n      <td>True</td>\n      <td>4</td>\n      <td>1</td>\n      <td>1.0</td>\n      <td>Santantines</td>\n      <td>6.0</td>\n      <td>F</td>\n      <td>1</td>\n      <td>S</td>\n      <td>Teenager</td>\n    </tr>\n  </tbody>\n</table>\n<p>5 rows × 23 columns</p>\n</div>"
     },
     "execution_count": 43,
     "metadata": {},
     "output_type": "execute_result"
    }
   ],
   "source": [
    "import pandas as pd\n",
    "import numpy as np\n",
    "import matplotlib.pyplot as plt\n",
    "import seaborn as sns\n",
    "from sklearn.preprocessing import LabelEncoder\n",
    "\n",
    "\n",
    "# Load the Titanic dataset and show the first 5 rows\n",
    "\n",
    "#Change the path accordingly\n",
    "dataset = pd.read_csv('./data/spaceship_titanic_e.csv')\n",
    "dataset.head()"
   ]
  },
  {
   "cell_type": "code",
   "execution_count": 44,
   "id": "ac55fa02",
   "metadata": {
    "ExecuteTime": {
     "end_time": "2024-01-21T15:15:39.282721800Z",
     "start_time": "2024-01-21T15:15:39.093485500Z"
    }
   },
   "outputs": [
    {
     "data": {
      "text/plain": "Text(0, 0.5, 'No of Passengers')"
     },
     "execution_count": 44,
     "metadata": {},
     "output_type": "execute_result"
    },
    {
     "data": {
      "text/plain": "<Figure size 640x480 with 1 Axes>",
      "image/png": "[encoded data removed]"
     },
     "metadata": {},
     "output_type": "display_data"
    }
   ],
   "source": [
    "figure=dataset.Age.hist(bins=50)\n",
    "figure.set_title('Age')\n",
    "figure.set_xlabel('Age')\n",
    "figure.set_ylabel('No of Passengers')"
   ]
  },
  {
   "cell_type": "code",
   "execution_count": 45,
   "id": "3f992e6b",
   "metadata": {
    "ExecuteTime": {
     "end_time": "2024-01-21T15:15:44.726527600Z",
     "start_time": "2024-01-21T15:15:44.634925200Z"
    }
   },
   "outputs": [
    {
     "data": {
      "text/plain": "<Figure size 640x480 with 1 Axes>",
      "image/png": "[encoded data removed]"
     },
     "metadata": {},
     "output_type": "display_data"
    }
   ],
   "source": [
    "figure=dataset.boxplot(column='Age')"
   ]
  },
  {
   "cell_type": "code",
   "execution_count": 46,
   "id": "54927dab",
   "metadata": {
    "scrolled": true,
    "ExecuteTime": {
     "end_time": "2024-01-21T15:15:51.987268800Z",
     "start_time": "2024-01-21T15:15:51.947152100Z"
    }
   },
   "outputs": [
    {
     "name": "stdout",
     "output_type": "stream",
     "text": [
      "-43.61717665207854\n",
      "101.27303758700924\n"
     ]
    },
    {
     "data": {
      "text/plain": "count    8514.000000\nmean       28.827930\nstd        14.489021\nmin         0.000000\n25%        19.000000\n50%        27.000000\n75%        38.000000\nmax        79.000000\nName: Age, dtype: float64"
     },
     "execution_count": 46,
     "metadata": {},
     "output_type": "execute_result"
    }
   ],
   "source": [
    "upper_boundary=dataset['Age'].mean()+5*dataset['Age'].std()\n",
    "lower_boundary=dataset['Age'].mean()-5*dataset['Age'].std()\n",
    "print(lower_boundary),print(upper_boundary)\n",
    "dataset['Age'].describe()"
   ]
  },
  {
   "cell_type": "code",
   "execution_count": 648,
   "id": "445b8547",
   "metadata": {},
   "outputs": [],
   "source": [
    "#First of all we must tend to nans and outliers. For each numerical column we must see if there are any obvious outliers. The general rule might be if the value is out of the borders\n",
    "#[mean - 5std, mean + 5std] it can be an outlier.\n",
    "\n",
    "\n",
    "#We input the outliers boundary (upper_boundary) values\n",
    "#The age is not outlier.\n",
    "\n",
    "###dataset.loc[dataset['Age']>=72,'Age']=72\n"
   ]
  },
  {
   "cell_type": "code",
   "execution_count": 48,
   "id": "698b5602",
   "metadata": {
    "ExecuteTime": {
     "end_time": "2024-01-21T15:16:05.716994700Z",
     "start_time": "2024-01-21T15:16:05.632268100Z"
    }
   },
   "outputs": [
    {
     "data": {
      "text/plain": "<Figure size 640x480 with 1 Axes>",
      "image/png": "[encoded data removed]"
     },
     "metadata": {},
     "output_type": "display_data"
    }
   ],
   "source": [
    "figure = dataset.boxplot(column='Age')"
   ]
  },
  {
   "cell_type": "code",
   "execution_count": 49,
   "id": "df5c2e9f",
   "metadata": {
    "ExecuteTime": {
     "end_time": "2024-01-21T15:16:08.296325Z",
     "start_time": "2024-01-21T15:16:08.274878600Z"
    }
   },
   "outputs": [
    {
     "data": {
      "text/plain": "179"
     },
     "execution_count": 49,
     "metadata": {},
     "output_type": "execute_result"
    }
   ],
   "source": [
    "dataset['Age'].isnull().sum()"
   ]
  },
  {
   "cell_type": "code",
   "execution_count": 50,
   "id": "b61afcf8",
   "metadata": {
    "ExecuteTime": {
     "end_time": "2024-01-21T15:16:09.900239800Z",
     "start_time": "2024-01-21T15:16:09.887142800Z"
    }
   },
   "outputs": [
    {
     "name": "stdout",
     "output_type": "stream",
     "text": [
      "29.0\n"
     ]
    },
    {
     "data": {
      "text/plain": "count    8693.000000\nmean       28.831474\nstd        14.339075\nmin         0.000000\n25%        20.000000\n50%        27.000000\n75%        37.000000\nmax        79.000000\nName: Age, dtype: float64"
     },
     "execution_count": 50,
     "metadata": {},
     "output_type": "execute_result"
    }
   ],
   "source": [
    "#Fill the missing 179 values for Age with Mean\n",
    "\n",
    "# Impute missing values with the mean for Column Age.\n",
    "mean_value = dataset['Age'].mean()\n",
    "rounded_mean = round(mean_value, 0)\n",
    "print(rounded_mean)\n",
    "\n",
    "dataset['Age'].fillna(rounded_mean, inplace=True)\n",
    "dataset['Age'].describe()"
   ]
  },
  {
   "cell_type": "code",
   "execution_count": 51,
   "id": "086e726e",
   "metadata": {
    "ExecuteTime": {
     "end_time": "2024-01-21T15:16:15.013634100Z",
     "start_time": "2024-01-21T15:16:15.002643700Z"
    }
   },
   "outputs": [
    {
     "data": {
      "text/plain": "0"
     },
     "execution_count": 51,
     "metadata": {},
     "output_type": "execute_result"
    }
   ],
   "source": [
    "##now shows no missing values.\n",
    "dataset['Age'].isnull().sum()"
   ]
  },
  {
   "cell_type": "code",
   "execution_count": 52,
   "id": "3a9708cd",
   "metadata": {
    "ExecuteTime": {
     "end_time": "2024-01-21T15:16:19.724813500Z",
     "start_time": "2024-01-21T15:16:19.487255400Z"
    }
   },
   "outputs": [
    {
     "data": {
      "text/plain": "Text(0, 0.5, 'RoomService to Passengers')"
     },
     "execution_count": 52,
     "metadata": {},
     "output_type": "execute_result"
    },
    {
     "data": {
      "text/plain": "<Figure size 640x480 with 1 Axes>",
      "image/png": "[encoded data removed]"
     },
     "metadata": {},
     "output_type": "display_data"
    }
   ],
   "source": [
    "figure = dataset.RoomService.hist(bins=50)\n",
    "figure.set_title('RoomService')\n",
    "figure.set_xlabel('RoomService')\n",
    "figure.set_ylabel('RoomService to Passengers')"
   ]
  },
  {
   "cell_type": "code",
   "execution_count": 53,
   "id": "e4d3069b",
   "metadata": {
    "ExecuteTime": {
     "end_time": "2024-01-21T15:16:23.417729200Z",
     "start_time": "2024-01-21T15:16:23.268590800Z"
    }
   },
   "outputs": [
    {
     "data": {
      "text/plain": "<Figure size 640x480 with 1 Axes>",
      "image/png": "[encoded data removed]"
     },
     "metadata": {},
     "output_type": "display_data"
    }
   ],
   "source": [
    "figure=dataset.boxplot(column='RoomService')"
   ]
  },
  {
   "cell_type": "code",
   "execution_count": 54,
   "id": "4bb2ca74",
   "metadata": {
    "ExecuteTime": {
     "end_time": "2024-01-21T15:16:28.960676300Z",
     "start_time": "2024-01-21T15:16:28.912808600Z"
    }
   },
   "outputs": [
    {
     "data": {
      "text/plain": "count     8512.000000\nmean       224.687617\nstd        666.717663\nmin          0.000000\n25%          0.000000\n50%          0.000000\n75%         47.000000\nmax      14327.000000\nName: RoomService, dtype: float64"
     },
     "execution_count": 54,
     "metadata": {},
     "output_type": "execute_result"
    }
   ],
   "source": [
    "dataset['RoomService'].describe()"
   ]
  },
  {
   "cell_type": "code",
   "execution_count": 55,
   "id": "8ee1b6bc",
   "metadata": {
    "ExecuteTime": {
     "end_time": "2024-01-21T15:16:35.753607100Z",
     "start_time": "2024-01-21T15:16:35.731472500Z"
    }
   },
   "outputs": [
    {
     "data": {
      "text/plain": "     PassengerId HomePlanet CryoSleep Cabin  Destination   Age    VIP  \\\n4416     4690_02     Europa     False   NaN  TRAPPIST-1e  27.0  False   \n\n      RoomService  FoodCourt  ShoppingMall  ...  Transported  GroupId  \\\n4416      14327.0     1487.0           0.0  ...        False     4690   \n\n     PassengerIdInGroup  MembersOfGroupById     Surname  \\\n4416                  2                 2.0  Dishocatal   \n\n      MembersOfFamilyBySurname  CabinDeck CabinNum  CabinSide AgeBinned  \n4416                       5.0    Unknown  Unknown    Unknown     Young  \n\n[1 rows x 23 columns]",
      "text/html": "<div>\n<style scoped>\n    .dataframe tbody tr th:only-of-type {\n        vertical-align: middle;\n    }\n\n    .dataframe tbody tr th {\n        vertical-align: top;\n    }\n\n    .dataframe thead th {\n        text-align: right;\n    }\n</style>\n<table border=\"1\" class=\"dataframe\">\n  <thead>\n    <tr style=\"text-align: right;\">\n      <th></th>\n      <th>PassengerId</th>\n      <th>HomePlanet</th>\n      <th>CryoSleep</th>\n      <th>Cabin</th>\n      <th>Destination</th>\n      <th>Age</th>\n      <th>VIP</th>\n      <th>RoomService</th>\n      <th>FoodCourt</th>\n      <th>ShoppingMall</th>\n      <th>...</th>\n      <th>Transported</th>\n      <th>GroupId</th>\n      <th>PassengerIdInGroup</th>\n      <th>MembersOfGroupById</th>\n      <th>Surname</th>\n      <th>MembersOfFamilyBySurname</th>\n      <th>CabinDeck</th>\n      <th>CabinNum</th>\n      <th>CabinSide</th>\n      <th>AgeBinned</th>\n    </tr>\n  </thead>\n  <tbody>\n    <tr>\n      <th>4416</th>\n      <td>4690_02</td>\n      <td>Europa</td>\n      <td>False</td>\n      <td>NaN</td>\n      <td>TRAPPIST-1e</td>\n      <td>27.0</td>\n      <td>False</td>\n      <td>14327.0</td>\n      <td>1487.0</td>\n      <td>0.0</td>\n      <td>...</td>\n      <td>False</td>\n      <td>4690</td>\n      <td>2</td>\n      <td>2.0</td>\n      <td>Dishocatal</td>\n      <td>5.0</td>\n      <td>Unknown</td>\n      <td>Unknown</td>\n      <td>Unknown</td>\n      <td>Young</td>\n    </tr>\n  </tbody>\n</table>\n<p>1 rows × 23 columns</p>\n</div>"
     },
     "execution_count": 55,
     "metadata": {},
     "output_type": "execute_result"
    }
   ],
   "source": [
    "#Check the max value in RoomService\n",
    "\n",
    "condition = dataset['RoomService'] >= 14327.0\n",
    "dataset_filtered = dataset[condition]\n",
    "\n",
    "##The room is number is Unknown\n",
    "dataset_filtered "
   ]
  },
  {
   "cell_type": "code",
   "execution_count": 56,
   "id": "f97301b7",
   "metadata": {
    "ExecuteTime": {
     "end_time": "2024-01-21T15:16:42.660473700Z",
     "start_time": "2024-01-21T15:16:42.647175100Z"
    }
   },
   "outputs": [],
   "source": [
    "# Drop rows where RoomService is greater than 14327.0\n",
    "\n",
    "condition_drop = dataset['RoomService'] >= 14327.0\n",
    "df_01 = dataset.drop(dataset[condition].index)"
   ]
  },
  {
   "cell_type": "code",
   "execution_count": 57,
   "id": "38838e5c",
   "metadata": {
    "ExecuteTime": {
     "end_time": "2024-01-21T15:16:45.099471600Z",
     "start_time": "2024-01-21T15:16:45.059349700Z"
    }
   },
   "outputs": [
    {
     "data": {
      "text/plain": "Empty DataFrame\nColumns: [PassengerId, HomePlanet, CryoSleep, Cabin, Destination, Age, VIP, RoomService, FoodCourt, ShoppingMall, Spa, VRDeck, Name, Transported, GroupId, PassengerIdInGroup, MembersOfGroupById, Surname, MembersOfFamilyBySurname, CabinDeck, CabinNum, CabinSide, AgeBinned]\nIndex: []\n\n[0 rows x 23 columns]",
      "text/html": "<div>\n<style scoped>\n    .dataframe tbody tr th:only-of-type {\n        vertical-align: middle;\n    }\n\n    .dataframe tbody tr th {\n        vertical-align: top;\n    }\n\n    .dataframe thead th {\n        text-align: right;\n    }\n</style>\n<table border=\"1\" class=\"dataframe\">\n  <thead>\n    <tr style=\"text-align: right;\">\n      <th></th>\n      <th>PassengerId</th>\n      <th>HomePlanet</th>\n      <th>CryoSleep</th>\n      <th>Cabin</th>\n      <th>Destination</th>\n      <th>Age</th>\n      <th>VIP</th>\n      <th>RoomService</th>\n      <th>FoodCourt</th>\n      <th>ShoppingMall</th>\n      <th>...</th>\n      <th>Transported</th>\n      <th>GroupId</th>\n      <th>PassengerIdInGroup</th>\n      <th>MembersOfGroupById</th>\n      <th>Surname</th>\n      <th>MembersOfFamilyBySurname</th>\n      <th>CabinDeck</th>\n      <th>CabinNum</th>\n      <th>CabinSide</th>\n      <th>AgeBinned</th>\n    </tr>\n  </thead>\n  <tbody>\n  </tbody>\n</table>\n<p>0 rows × 23 columns</p>\n</div>"
     },
     "execution_count": 57,
     "metadata": {},
     "output_type": "execute_result"
    }
   ],
   "source": [
    "#Check if row has been droped \n",
    "\n",
    "condition = df_01['RoomService'] >= 14327.0\n",
    "dataset_filtered = df_01[condition]\n",
    "\n",
    "dataset_filtered"
   ]
  },
  {
   "cell_type": "code",
   "execution_count": 58,
   "id": "e343beda",
   "metadata": {
    "ExecuteTime": {
     "end_time": "2024-01-21T15:16:47.201208200Z",
     "start_time": "2024-01-21T15:16:47.173321300Z"
    }
   },
   "outputs": [
    {
     "data": {
      "text/plain": "count    8511.000000\nmean      223.030666\nstd       648.993328\nmin         0.000000\n25%         0.000000\n50%         0.000000\n75%        46.500000\nmax      9920.000000\nName: RoomService, dtype: float64"
     },
     "execution_count": 58,
     "metadata": {},
     "output_type": "execute_result"
    }
   ],
   "source": [
    "df_01['RoomService'].describe()"
   ]
  },
  {
   "cell_type": "code",
   "execution_count": 59,
   "id": "dc3f0a50",
   "metadata": {
    "ExecuteTime": {
     "end_time": "2024-01-21T15:16:51.126966700Z",
     "start_time": "2024-01-21T15:16:51.119043Z"
    }
   },
   "outputs": [
    {
     "name": "stdout",
     "output_type": "stream",
     "text": [
      "223.0\n"
     ]
    },
    {
     "data": {
      "text/plain": "count    8692.000000\nmean      223.030028\nstd       642.199757\nmin         0.000000\n25%         0.000000\n50%         0.000000\n75%        78.000000\nmax      9920.000000\nName: RoomService, dtype: float64"
     },
     "execution_count": 59,
     "metadata": {},
     "output_type": "execute_result"
    }
   ],
   "source": [
    "# Impute missing values with the mean for Column RoomService.\n",
    "\n",
    "mean_value = df_01['RoomService'].mean()\n",
    "rounded_mean = round(mean_value, 0)\n",
    "print(rounded_mean)\n",
    "df_01['RoomService'].fillna(rounded_mean, inplace=True)\n",
    "\n",
    "df_01['RoomService'].describe()"
   ]
  },
  {
   "cell_type": "code",
   "execution_count": 60,
   "id": "1da533f8",
   "metadata": {
    "ExecuteTime": {
     "end_time": "2024-01-21T15:16:53.382331Z",
     "start_time": "2024-01-21T15:16:53.330559800Z"
    }
   },
   "outputs": [
    {
     "data": {
      "text/plain": "0"
     },
     "execution_count": 60,
     "metadata": {},
     "output_type": "execute_result"
    }
   ],
   "source": [
    "#Check the empty values for RoomService\n",
    "df_01['RoomService'].isnull().sum()"
   ]
  },
  {
   "cell_type": "code",
   "execution_count": 61,
   "id": "153faaf1",
   "metadata": {
    "ExecuteTime": {
     "end_time": "2024-01-21T15:16:54.933959Z",
     "start_time": "2024-01-21T15:16:54.863947900Z"
    }
   },
   "outputs": [
    {
     "data": {
      "text/plain": "<Figure size 640x480 with 1 Axes>",
      "image/png": "[encoded data removed]"
     },
     "metadata": {},
     "output_type": "display_data"
    }
   ],
   "source": [
    "figure = df_01.boxplot(column='RoomService')"
   ]
  },
  {
   "cell_type": "code",
   "execution_count": 62,
   "id": "c713f660",
   "metadata": {
    "ExecuteTime": {
     "end_time": "2024-01-21T15:17:01.240672700Z",
     "start_time": "2024-01-21T15:17:01.077256700Z"
    }
   },
   "outputs": [
    {
     "data": {
      "text/plain": "Text(0, 0.5, 'passenger has billed')"
     },
     "execution_count": 62,
     "metadata": {},
     "output_type": "execute_result"
    },
    {
     "data": {
      "text/plain": "<Figure size 640x480 with 1 Axes>",
      "image/png": "[encoded data removed]"
     },
     "metadata": {},
     "output_type": "display_data"
    }
   ],
   "source": [
    "figure = df_01.FoodCourt .hist(bins=10)\n",
    "figure.set_title('FoodCourt')\n",
    "figure.set_xlabel('FoodCourt ')\n",
    "figure.set_ylabel('passenger has billed')"
   ]
  },
  {
   "cell_type": "code",
   "execution_count": 63,
   "id": "e24ab87b",
   "metadata": {
    "ExecuteTime": {
     "end_time": "2024-01-21T15:17:04.051659800Z",
     "start_time": "2024-01-21T15:17:03.897169300Z"
    }
   },
   "outputs": [
    {
     "data": {
      "text/plain": "<Figure size 640x480 with 1 Axes>",
      "image/png": "[encoded data removed]"
     },
     "metadata": {},
     "output_type": "display_data"
    }
   ],
   "source": [
    "figure=df_01.boxplot(column='FoodCourt')"
   ]
  },
  {
   "cell_type": "code",
   "execution_count": 64,
   "id": "16713b07",
   "metadata": {
    "ExecuteTime": {
     "end_time": "2024-01-21T15:17:12.368706700Z",
     "start_time": "2024-01-21T15:17:12.321527Z"
    }
   },
   "outputs": [
    {
     "data": {
      "text/plain": "count     8509.000000\nmean       457.956282\nstd       1611.545331\nmin          0.000000\n25%          0.000000\n50%          0.000000\n75%         76.000000\nmax      29813.000000\nName: FoodCourt, dtype: float64"
     },
     "execution_count": 64,
     "metadata": {},
     "output_type": "execute_result"
    }
   ],
   "source": [
    "df_01['FoodCourt'].describe()"
   ]
  },
  {
   "cell_type": "code",
   "execution_count": 65,
   "id": "a907190c",
   "metadata": {
    "ExecuteTime": {
     "end_time": "2024-01-21T15:17:23.805254Z",
     "start_time": "2024-01-21T15:17:23.751802900Z"
    }
   },
   "outputs": [
    {
     "name": "stdout",
     "output_type": "stream",
     "text": [
      "-7599.770372874016\n",
      "8515.682936042425\n"
     ]
    },
    {
     "data": {
      "text/plain": "(None, None)"
     },
     "execution_count": 65,
     "metadata": {},
     "output_type": "execute_result"
    }
   ],
   "source": [
    "upper_boundary=df_01['FoodCourt'].mean() + 5 * df_01['FoodCourt'].std()\n",
    "lower_boundary=df_01['FoodCourt'].mean() - 5 * df_01['FoodCourt'].std()\n",
    "print(lower_boundary),print(upper_boundary)"
   ]
  },
  {
   "cell_type": "code",
   "outputs": [
    {
     "data": {
      "text/plain": "     PassengerId HomePlanet CryoSleep    Cabin  Destination   Age    VIP  \\\n105      0110_03     Europa     False    B/5/P  TRAPPIST-1e  42.0  False   \n154      0177_01     Europa     False    B/2/S  TRAPPIST-1e  38.0  False   \n358      0395_01     Europa     False   B/17/P  55 Cancri e  31.0   True   \n387      0429_01     Europa     False    A/5/S  55 Cancri e  20.0  False   \n474      0510_01     Europa     False   C/16/P  TRAPPIST-1e  59.0  False   \n...          ...        ...       ...      ...          ...   ...    ...   \n7559     8081_01     Europa     False  D/251/P  55 Cancri e  39.0  False   \n7579     8098_04     Europa     False  B/269/P  55 Cancri e  26.0  False   \n8487     9069_05     Europa     False  B/297/P  55 Cancri e  29.0  False   \n8588     9168_01     Europa     False  C/338/S  55 Cancri e  36.0  False   \n8595     9175_01     Europa     False  B/299/P  55 Cancri e  32.0  False   \n\n      RoomService  FoodCourt  ShoppingMall  ...  Transported  GroupId  \\\n105        2209.0    11418.0           0.0  ...         True      110   \n154           0.0    10346.0           1.0  ...        False      177   \n358           0.0    11003.0         552.0  ...        False      395   \n387           2.0    10116.0           0.0  ...         True      429   \n474           0.0    16521.0           0.0  ...         True      510   \n...           ...        ...           ...  ...          ...      ...   \n7559          2.0    15450.0         336.0  ...         True     8081   \n7579          0.0    11598.0           0.0  ...         True     8098   \n8487          0.0    12563.0           0.0  ...        False     9069   \n8588         23.0    14773.0           0.0  ...        False     9168   \n8595          0.0    10073.0           0.0  ...         True     9175   \n\n     PassengerIdInGroup  MembersOfGroupById     Surname  \\\n105                   3                 4.0   Aloubtled   \n154                   1                 1.0    Iniouser   \n358                   1                 2.0      Hervel   \n387                   1                 2.0    Ineysive   \n474                   1                 1.0   Sinecthex   \n...                 ...                 ...         ...   \n7559                  1                 1.0  Ambleetive   \n7579                  4                 4.0  Mosteraked   \n8487                  5                 5.0  Taketiatim   \n8588                  1                 2.0   Cassiding   \n8595                  1                 1.0     Dectory   \n\n      MembersOfFamilyBySurname  CabinDeck CabinNum  CabinSide AgeBinned  \n105                        5.0          B        5          P    Senior  \n154                        4.0          B        2          S    Senior  \n358                        3.0          B       17          P    Senior  \n387                        2.0          A        5          S     Young  \n474                        1.0          C       16          P    Senior  \n...                        ...        ...      ...        ...       ...  \n7559                       6.0          D      251          P    Senior  \n7579                      11.0          B      269          P     Young  \n8487                       2.0          B      297          P     Young  \n8588                       4.0          C      338          S    Senior  \n8595                       3.0          B      299          P    Senior  \n\n[75 rows x 23 columns]",
      "text/html": "<div>\n<style scoped>\n    .dataframe tbody tr th:only-of-type {\n        vertical-align: middle;\n    }\n\n    .dataframe tbody tr th {\n        vertical-align: top;\n    }\n\n    .dataframe thead th {\n        text-align: right;\n    }\n</style>\n<table border=\"1\" class=\"dataframe\">\n  <thead>\n    <tr style=\"text-align: right;\">\n      <th></th>\n      <th>PassengerId</th>\n      <th>HomePlanet</th>\n      <th>CryoSleep</th>\n      <th>Cabin</th>\n      <th>Destination</th>\n      <th>Age</th>\n      <th>VIP</th>\n      <th>RoomService</th>\n      <th>FoodCourt</th>\n      <th>ShoppingMall</th>\n      <th>...</th>\n      <th>Transported</th>\n      <th>GroupId</th>\n      <th>PassengerIdInGroup</th>\n      <th>MembersOfGroupById</th>\n      <th>Surname</th>\n      <th>MembersOfFamilyBySurname</th>\n      <th>CabinDeck</th>\n      <th>CabinNum</th>\n      <th>CabinSide</th>\n      <th>AgeBinned</th>\n    </tr>\n  </thead>\n  <tbody>\n    <tr>\n      <th>105</th>\n      <td>0110_03</td>\n      <td>Europa</td>\n      <td>False</td>\n      <td>B/5/P</td>\n      <td>TRAPPIST-1e</td>\n      <td>42.0</td>\n      <td>False</td>\n      <td>2209.0</td>\n      <td>11418.0</td>\n      <td>0.0</td>\n      <td>...</td>\n      <td>True</td>\n      <td>110</td>\n      <td>3</td>\n      <td>4.0</td>\n      <td>Aloubtled</td>\n      <td>5.0</td>\n      <td>B</td>\n      <td>5</td>\n      <td>P</td>\n      <td>Senior</td>\n    </tr>\n    <tr>\n      <th>154</th>\n      <td>0177_01</td>\n      <td>Europa</td>\n      <td>False</td>\n      <td>B/2/S</td>\n      <td>TRAPPIST-1e</td>\n      <td>38.0</td>\n      <td>False</td>\n      <td>0.0</td>\n      <td>10346.0</td>\n      <td>1.0</td>\n      <td>...</td>\n      <td>False</td>\n      <td>177</td>\n      <td>1</td>\n      <td>1.0</td>\n      <td>Iniouser</td>\n      <td>4.0</td>\n      <td>B</td>\n      <td>2</td>\n      <td>S</td>\n      <td>Senior</td>\n    </tr>\n    <tr>\n      <th>358</th>\n      <td>0395_01</td>\n      <td>Europa</td>\n      <td>False</td>\n      <td>B/17/P</td>\n      <td>55 Cancri e</td>\n      <td>31.0</td>\n      <td>True</td>\n      <td>0.0</td>\n      <td>11003.0</td>\n      <td>552.0</td>\n      <td>...</td>\n      <td>False</td>\n      <td>395</td>\n      <td>1</td>\n      <td>2.0</td>\n      <td>Hervel</td>\n      <td>3.0</td>\n      <td>B</td>\n      <td>17</td>\n      <td>P</td>\n      <td>Senior</td>\n    </tr>\n    <tr>\n      <th>387</th>\n      <td>0429_01</td>\n      <td>Europa</td>\n      <td>False</td>\n      <td>A/5/S</td>\n      <td>55 Cancri e</td>\n      <td>20.0</td>\n      <td>False</td>\n      <td>2.0</td>\n      <td>10116.0</td>\n      <td>0.0</td>\n      <td>...</td>\n      <td>True</td>\n      <td>429</td>\n      <td>1</td>\n      <td>2.0</td>\n      <td>Ineysive</td>\n      <td>2.0</td>\n      <td>A</td>\n      <td>5</td>\n      <td>S</td>\n      <td>Young</td>\n    </tr>\n    <tr>\n      <th>474</th>\n      <td>0510_01</td>\n      <td>Europa</td>\n      <td>False</td>\n      <td>C/16/P</td>\n      <td>TRAPPIST-1e</td>\n      <td>59.0</td>\n      <td>False</td>\n      <td>0.0</td>\n      <td>16521.0</td>\n      <td>0.0</td>\n      <td>...</td>\n      <td>True</td>\n      <td>510</td>\n      <td>1</td>\n      <td>1.0</td>\n      <td>Sinecthex</td>\n      <td>1.0</td>\n      <td>C</td>\n      <td>16</td>\n      <td>P</td>\n      <td>Senior</td>\n    </tr>\n    <tr>\n      <th>...</th>\n      <td>...</td>\n      <td>...</td>\n      <td>...</td>\n      <td>...</td>\n      <td>...</td>\n      <td>...</td>\n      <td>...</td>\n      <td>...</td>\n      <td>...</td>\n      <td>...</td>\n      <td>...</td>\n      <td>...</td>\n      <td>...</td>\n      <td>...</td>\n      <td>...</td>\n      <td>...</td>\n      <td>...</td>\n      <td>...</td>\n      <td>...</td>\n      <td>...</td>\n      <td>...</td>\n    </tr>\n    <tr>\n      <th>7559</th>\n      <td>8081_01</td>\n      <td>Europa</td>\n      <td>False</td>\n      <td>D/251/P</td>\n      <td>55 Cancri e</td>\n      <td>39.0</td>\n      <td>False</td>\n      <td>2.0</td>\n      <td>15450.0</td>\n      <td>336.0</td>\n      <td>...</td>\n      <td>True</td>\n      <td>8081</td>\n      <td>1</td>\n      <td>1.0</td>\n      <td>Ambleetive</td>\n      <td>6.0</td>\n      <td>D</td>\n      <td>251</td>\n      <td>P</td>\n      <td>Senior</td>\n    </tr>\n    <tr>\n      <th>7579</th>\n      <td>8098_04</td>\n      <td>Europa</td>\n      <td>False</td>\n      <td>B/269/P</td>\n      <td>55 Cancri e</td>\n      <td>26.0</td>\n      <td>False</td>\n      <td>0.0</td>\n      <td>11598.0</td>\n      <td>0.0</td>\n      <td>...</td>\n      <td>True</td>\n      <td>8098</td>\n      <td>4</td>\n      <td>4.0</td>\n      <td>Mosteraked</td>\n      <td>11.0</td>\n      <td>B</td>\n      <td>269</td>\n      <td>P</td>\n      <td>Young</td>\n    </tr>\n    <tr>\n      <th>8487</th>\n      <td>9069_05</td>\n      <td>Europa</td>\n      <td>False</td>\n      <td>B/297/P</td>\n      <td>55 Cancri e</td>\n      <td>29.0</td>\n      <td>False</td>\n      <td>0.0</td>\n      <td>12563.0</td>\n      <td>0.0</td>\n      <td>...</td>\n      <td>False</td>\n      <td>9069</td>\n      <td>5</td>\n      <td>5.0</td>\n      <td>Taketiatim</td>\n      <td>2.0</td>\n      <td>B</td>\n      <td>297</td>\n      <td>P</td>\n      <td>Young</td>\n    </tr>\n    <tr>\n      <th>8588</th>\n      <td>9168_01</td>\n      <td>Europa</td>\n      <td>False</td>\n      <td>C/338/S</td>\n      <td>55 Cancri e</td>\n      <td>36.0</td>\n      <td>False</td>\n      <td>23.0</td>\n      <td>14773.0</td>\n      <td>0.0</td>\n      <td>...</td>\n      <td>False</td>\n      <td>9168</td>\n      <td>1</td>\n      <td>2.0</td>\n      <td>Cassiding</td>\n      <td>4.0</td>\n      <td>C</td>\n      <td>338</td>\n      <td>S</td>\n      <td>Senior</td>\n    </tr>\n    <tr>\n      <th>8595</th>\n      <td>9175_01</td>\n      <td>Europa</td>\n      <td>False</td>\n      <td>B/299/P</td>\n      <td>55 Cancri e</td>\n      <td>32.0</td>\n      <td>False</td>\n      <td>0.0</td>\n      <td>10073.0</td>\n      <td>0.0</td>\n      <td>...</td>\n      <td>True</td>\n      <td>9175</td>\n      <td>1</td>\n      <td>1.0</td>\n      <td>Dectory</td>\n      <td>3.0</td>\n      <td>B</td>\n      <td>299</td>\n      <td>P</td>\n      <td>Senior</td>\n    </tr>\n  </tbody>\n</table>\n<p>75 rows × 23 columns</p>\n</div>"
     },
     "execution_count": 66,
     "metadata": {},
     "output_type": "execute_result"
    }
   ],
   "source": [
    "condition = df_01['FoodCourt'] >= 8515.68\n",
    "dataset_filtered = df_01[condition]\n",
    "dataset_filtered"
   ],
   "metadata": {
    "collapsed": false,
    "ExecuteTime": {
     "end_time": "2024-01-21T15:18:31.703498Z",
     "start_time": "2024-01-21T15:18:31.668706300Z"
    }
   },
   "id": "73ef7f061225ca98",
   "execution_count": 66
  },
  {
   "cell_type": "code",
   "execution_count": 68,
   "id": "372052e8",
   "metadata": {
    "ExecuteTime": {
     "end_time": "2024-01-21T15:20:46.323993100Z",
     "start_time": "2024-01-21T15:20:46.304687600Z"
    }
   },
   "outputs": [],
   "source": [
    "#We input the outliers boundary (upper_boundary) values\n",
    "\n",
    "df_01 = df_01.drop(df_01[df_01['FoodCourt'] >= 8515].index)"
   ]
  },
  {
   "cell_type": "code",
   "execution_count": 69,
   "id": "acd95b28",
   "metadata": {
    "ExecuteTime": {
     "end_time": "2024-01-21T15:20:47.636527900Z",
     "start_time": "2024-01-21T15:20:47.548200300Z"
    }
   },
   "outputs": [
    {
     "data": {
      "text/plain": "<Figure size 640x480 with 1 Axes>",
      "image/png": "[encoded data removed]"
     },
     "metadata": {},
     "output_type": "display_data"
    }
   ],
   "source": [
    "figure = df_01.boxplot(column='FoodCourt')"
   ]
  },
  {
   "cell_type": "code",
   "execution_count": 70,
   "id": "8d64c967",
   "metadata": {
    "ExecuteTime": {
     "end_time": "2024-01-21T15:20:49.921928600Z",
     "start_time": "2024-01-21T15:20:49.914635900Z"
    }
   },
   "outputs": [
    {
     "data": {
      "text/plain": "183"
     },
     "execution_count": 70,
     "metadata": {},
     "output_type": "execute_result"
    }
   ],
   "source": [
    "df_01['FoodCourt'].isnull().sum()"
   ]
  },
  {
   "cell_type": "code",
   "execution_count": 71,
   "id": "3aee5d4a",
   "metadata": {
    "ExecuteTime": {
     "end_time": "2024-01-21T15:20:52.100507700Z",
     "start_time": "2024-01-21T15:20:52.047160300Z"
    }
   },
   "outputs": [
    {
     "name": "stdout",
     "output_type": "stream",
     "text": [
      "348.0\n"
     ]
    },
    {
     "data": {
      "text/plain": "count    8617.000000\nmean      347.679471\nstd      1013.875113\nmin         0.000000\n25%         0.000000\n50%         0.000000\n75%        97.000000\nmax      8444.000000\nName: FoodCourt, dtype: float64"
     },
     "execution_count": 71,
     "metadata": {},
     "output_type": "execute_result"
    }
   ],
   "source": [
    "#Fill the missing values for FoodCourt\n",
    "\n",
    "# Impute missing values with the mean for Column FoodCourt.\n",
    "mean_value = df_01['FoodCourt'].mean()\n",
    "rounded_mean = round(mean_value, 0)\n",
    "print(rounded_mean)\n",
    "df_01['FoodCourt'].fillna(rounded_mean, inplace=True)\n",
    "\n",
    "df_01['FoodCourt'].describe()"
   ]
  },
  {
   "cell_type": "code",
   "execution_count": 72,
   "id": "4a8a81bb",
   "metadata": {
    "ExecuteTime": {
     "end_time": "2024-01-21T15:21:01.170738900Z",
     "start_time": "2024-01-21T15:21:01.161562900Z"
    }
   },
   "outputs": [
    {
     "data": {
      "text/plain": "0"
     },
     "execution_count": 72,
     "metadata": {},
     "output_type": "execute_result"
    }
   ],
   "source": [
    "df_01['FoodCourt'].isnull().sum()"
   ]
  },
  {
   "cell_type": "code",
   "execution_count": 73,
   "id": "edf7df82",
   "metadata": {
    "ExecuteTime": {
     "end_time": "2024-01-21T15:21:03.119128800Z",
     "start_time": "2024-01-21T15:21:02.964829400Z"
    }
   },
   "outputs": [
    {
     "data": {
      "text/plain": "Text(0, 0.5, 'passenger has billed ShoppingMall')"
     },
     "execution_count": 73,
     "metadata": {},
     "output_type": "execute_result"
    },
    {
     "data": {
      "text/plain": "<Figure size 640x480 with 1 Axes>",
      "image/png": "[encoded data removed]"
     },
     "metadata": {},
     "output_type": "display_data"
    }
   ],
   "source": [
    "figure = df_01.ShoppingMall.hist(bins=20)\n",
    "figure.set_title('ShoppingMall')\n",
    "figure.set_xlabel('ShoppingMall')\n",
    "figure.set_ylabel('passenger has billed ShoppingMall')"
   ]
  },
  {
   "cell_type": "code",
   "execution_count": 74,
   "id": "978b9e88",
   "metadata": {
    "ExecuteTime": {
     "end_time": "2024-01-21T15:21:06.276135700Z",
     "start_time": "2024-01-21T15:21:06.203440400Z"
    }
   },
   "outputs": [
    {
     "data": {
      "text/plain": "<Figure size 640x480 with 1 Axes>",
      "image/png": "[encoded data removed]"
     },
     "metadata": {},
     "output_type": "display_data"
    }
   ],
   "source": [
    "figure=df_01.boxplot(column='ShoppingMall')"
   ]
  },
  {
   "cell_type": "code",
   "execution_count": 75,
   "id": "3c7d8ad7",
   "metadata": {
    "ExecuteTime": {
     "end_time": "2024-01-21T15:21:08.617429900Z",
     "start_time": "2024-01-21T15:21:08.558469700Z"
    }
   },
   "outputs": [
    {
     "data": {
      "text/plain": "count     8410.000000\nmean       174.728656\nstd        607.042687\nmin          0.000000\n25%          0.000000\n50%          0.000000\n75%         28.000000\nmax      23492.000000\nName: ShoppingMall, dtype: float64"
     },
     "execution_count": 75,
     "metadata": {},
     "output_type": "execute_result"
    }
   ],
   "source": [
    "df_01['ShoppingMall'].describe()"
   ]
  },
  {
   "cell_type": "code",
   "execution_count": 76,
   "id": "9be0ca69",
   "metadata": {
    "ExecuteTime": {
     "end_time": "2024-01-21T15:21:11.111377100Z",
     "start_time": "2024-01-21T15:21:11.096048200Z"
    }
   },
   "outputs": [
    {
     "data": {
      "text/plain": "     PassengerId HomePlanet CryoSleep    Cabin  Destination   Age    VIP  \\\n8415     8989_01     Europa     False  B/291/P  TRAPPIST-1e  17.0  False   \n\n      RoomService  FoodCourt  ShoppingMall  ...  Transported  GroupId  \\\n8415          0.0      366.0       23492.0  ...         True     8989   \n\n     PassengerIdInGroup  MembersOfGroupById  Surname  \\\n8415                  1                 4.0  Unknown   \n\n      MembersOfFamilyBySurname  CabinDeck CabinNum  CabinSide AgeBinned  \n8415                       NaN          B      291          P  Teenager  \n\n[1 rows x 23 columns]",
      "text/html": "<div>\n<style scoped>\n    .dataframe tbody tr th:only-of-type {\n        vertical-align: middle;\n    }\n\n    .dataframe tbody tr th {\n        vertical-align: top;\n    }\n\n    .dataframe thead th {\n        text-align: right;\n    }\n</style>\n<table border=\"1\" class=\"dataframe\">\n  <thead>\n    <tr style=\"text-align: right;\">\n      <th></th>\n      <th>PassengerId</th>\n      <th>HomePlanet</th>\n      <th>CryoSleep</th>\n      <th>Cabin</th>\n      <th>Destination</th>\n      <th>Age</th>\n      <th>VIP</th>\n      <th>RoomService</th>\n      <th>FoodCourt</th>\n      <th>ShoppingMall</th>\n      <th>...</th>\n      <th>Transported</th>\n      <th>GroupId</th>\n      <th>PassengerIdInGroup</th>\n      <th>MembersOfGroupById</th>\n      <th>Surname</th>\n      <th>MembersOfFamilyBySurname</th>\n      <th>CabinDeck</th>\n      <th>CabinNum</th>\n      <th>CabinSide</th>\n      <th>AgeBinned</th>\n    </tr>\n  </thead>\n  <tbody>\n    <tr>\n      <th>8415</th>\n      <td>8989_01</td>\n      <td>Europa</td>\n      <td>False</td>\n      <td>B/291/P</td>\n      <td>TRAPPIST-1e</td>\n      <td>17.0</td>\n      <td>False</td>\n      <td>0.0</td>\n      <td>366.0</td>\n      <td>23492.0</td>\n      <td>...</td>\n      <td>True</td>\n      <td>8989</td>\n      <td>1</td>\n      <td>4.0</td>\n      <td>Unknown</td>\n      <td>NaN</td>\n      <td>B</td>\n      <td>291</td>\n      <td>P</td>\n      <td>Teenager</td>\n    </tr>\n  </tbody>\n</table>\n<p>1 rows × 23 columns</p>\n</div>"
     },
     "execution_count": 76,
     "metadata": {},
     "output_type": "execute_result"
    }
   ],
   "source": [
    "#Check the max value in ShoppingMall\n",
    "\n",
    "condition = df_01['ShoppingMall'] >= 23492.0\n",
    "dataset_filtered = df_01[condition]\n",
    "\n",
    "##The room is number is Unknown\n",
    "dataset_filtered"
   ]
  },
  {
   "cell_type": "code",
   "execution_count": 77,
   "id": "0de4806e",
   "metadata": {
    "ExecuteTime": {
     "end_time": "2024-01-21T15:21:15.170532600Z",
     "start_time": "2024-01-21T15:21:15.157043900Z"
    }
   },
   "outputs": [],
   "source": [
    "# Drop rows where ShoppingMall is greater than 23492.0\n",
    "\n",
    "condition_drop = df_01['ShoppingMall'] >= 23492.0\n",
    "df_02 = df_01.drop(df_01[condition].index)"
   ]
  },
  {
   "cell_type": "code",
   "execution_count": 78,
   "id": "376f8172",
   "metadata": {
    "ExecuteTime": {
     "end_time": "2024-01-21T15:21:17.570394800Z",
     "start_time": "2024-01-21T15:21:17.543025200Z"
    }
   },
   "outputs": [
    {
     "data": {
      "text/plain": "Empty DataFrame\nColumns: [PassengerId, HomePlanet, CryoSleep, Cabin, Destination, Age, VIP, RoomService, FoodCourt, ShoppingMall, Spa, VRDeck, Name, Transported, GroupId, PassengerIdInGroup, MembersOfGroupById, Surname, MembersOfFamilyBySurname, CabinDeck, CabinNum, CabinSide, AgeBinned]\nIndex: []\n\n[0 rows x 23 columns]",
      "text/html": "<div>\n<style scoped>\n    .dataframe tbody tr th:only-of-type {\n        vertical-align: middle;\n    }\n\n    .dataframe tbody tr th {\n        vertical-align: top;\n    }\n\n    .dataframe thead th {\n        text-align: right;\n    }\n</style>\n<table border=\"1\" class=\"dataframe\">\n  <thead>\n    <tr style=\"text-align: right;\">\n      <th></th>\n      <th>PassengerId</th>\n      <th>HomePlanet</th>\n      <th>CryoSleep</th>\n      <th>Cabin</th>\n      <th>Destination</th>\n      <th>Age</th>\n      <th>VIP</th>\n      <th>RoomService</th>\n      <th>FoodCourt</th>\n      <th>ShoppingMall</th>\n      <th>...</th>\n      <th>Transported</th>\n      <th>GroupId</th>\n      <th>PassengerIdInGroup</th>\n      <th>MembersOfGroupById</th>\n      <th>Surname</th>\n      <th>MembersOfFamilyBySurname</th>\n      <th>CabinDeck</th>\n      <th>CabinNum</th>\n      <th>CabinSide</th>\n      <th>AgeBinned</th>\n    </tr>\n  </thead>\n  <tbody>\n  </tbody>\n</table>\n<p>0 rows × 23 columns</p>\n</div>"
     },
     "execution_count": 78,
     "metadata": {},
     "output_type": "execute_result"
    }
   ],
   "source": [
    "#Check the max value in ShoppingMall was droped\n",
    "\n",
    "condition = df_02['ShoppingMall'] >= 23492.0\n",
    "dataset_filtered = df_02[condition]\n",
    "\n",
    "##The room is number is Unknown\n",
    "dataset_filtered  "
   ]
  },
  {
   "cell_type": "code",
   "execution_count": 79,
   "id": "d70b5921",
   "metadata": {
    "ExecuteTime": {
     "end_time": "2024-01-21T15:21:19.209847800Z",
     "start_time": "2024-01-21T15:21:19.176223900Z"
    }
   },
   "outputs": [
    {
     "data": {
      "text/plain": "count     8409.000000\nmean       171.955762\nstd        551.246709\nmin          0.000000\n25%          0.000000\n50%          0.000000\n75%         28.000000\nmax      12253.000000\nName: ShoppingMall, dtype: float64"
     },
     "execution_count": 79,
     "metadata": {},
     "output_type": "execute_result"
    }
   ],
   "source": [
    "df_02['ShoppingMall'].describe()"
   ]
  },
  {
   "cell_type": "code",
   "execution_count": 80,
   "id": "4a52073f",
   "metadata": {
    "ExecuteTime": {
     "end_time": "2024-01-21T15:21:21.237632800Z",
     "start_time": "2024-01-21T15:21:21.228172400Z"
    }
   },
   "outputs": [
    {
     "data": {
      "text/plain": "207"
     },
     "execution_count": 80,
     "metadata": {},
     "output_type": "execute_result"
    }
   ],
   "source": [
    "df_02['ShoppingMall'].isnull().sum()"
   ]
  },
  {
   "cell_type": "code",
   "execution_count": 81,
   "id": "686d41a1",
   "metadata": {
    "ExecuteTime": {
     "end_time": "2024-01-21T15:21:24.135098300Z",
     "start_time": "2024-01-21T15:21:24.120253800Z"
    }
   },
   "outputs": [
    {
     "name": "stdout",
     "output_type": "stream",
     "text": [
      "172.0\n"
     ]
    },
    {
     "data": {
      "text/plain": "count     8616.000000\nmean       171.956825\nstd        544.583803\nmin          0.000000\n25%          0.000000\n50%          0.000000\n75%         46.000000\nmax      12253.000000\nName: ShoppingMall, dtype: float64"
     },
     "execution_count": 81,
     "metadata": {},
     "output_type": "execute_result"
    }
   ],
   "source": [
    "#Fill the missing values for ShoppingMall\n",
    "\n",
    "# Impute missing values with the mean for Column ShoppingMall.\n",
    "mean_value = df_02['ShoppingMall'].mean()\n",
    "rounded_mean = round(mean_value, 0)\n",
    "print(rounded_mean)\n",
    "df_02['ShoppingMall'].fillna(rounded_mean, inplace=True)\n",
    "df_02['ShoppingMall'].describe()"
   ]
  },
  {
   "cell_type": "code",
   "execution_count": 38,
   "id": "2243d7a9",
   "metadata": {
    "ExecuteTime": {
     "end_time": "2024-01-21T15:14:17.080881700Z",
     "start_time": "2024-01-21T15:14:17.071037Z"
    }
   },
   "outputs": [
    {
     "data": {
      "text/plain": "0"
     },
     "execution_count": 38,
     "metadata": {},
     "output_type": "execute_result"
    }
   ],
   "source": [
    "df_02['ShoppingMall'].isnull().sum()"
   ]
  },
  {
   "cell_type": "code",
   "execution_count": 39,
   "id": "9101f2db",
   "metadata": {
    "ExecuteTime": {
     "end_time": "2024-01-21T15:14:19.338365500Z",
     "start_time": "2024-01-21T15:14:19.323547700Z"
    }
   },
   "outputs": [
    {
     "name": "stdout",
     "output_type": "stream",
     "text": [
      "-5373.000390571758\n",
      "5995.340305945524\n"
     ]
    },
    {
     "data": {
      "text/plain": "count     8508.000000\nmean       311.169958\nstd       1136.834070\nmin          0.000000\n25%          0.000000\n50%          0.000000\n75%         59.000000\nmax      22408.000000\nName: Spa, dtype: float64"
     },
     "execution_count": 39,
     "metadata": {},
     "output_type": "execute_result"
    }
   ],
   "source": [
    "upper_boundary=df_02['Spa'].mean()+5*df_02['Spa'].std()\n",
    "lower_boundary=df_02['Spa'].mean()-5*df_02['Spa'].std()\n",
    "print(lower_boundary),print(upper_boundary)\n",
    "\n",
    "#The Spa. seens not to be an outlier \n",
    "df_02['Spa'].describe()"
   ]
  },
  {
   "cell_type": "code",
   "execution_count": 40,
   "id": "d398b242",
   "metadata": {
    "ExecuteTime": {
     "end_time": "2024-01-21T15:14:22.673589700Z",
     "start_time": "2024-01-21T15:14:22.630722700Z"
    }
   },
   "outputs": [
    {
     "data": {
      "text/plain": "count     8508.000000\nmean       311.169958\nstd       1136.834070\nmin          0.000000\n25%          0.000000\n50%          0.000000\n75%         59.000000\nmax      22408.000000\nName: Spa, dtype: float64"
     },
     "execution_count": 40,
     "metadata": {},
     "output_type": "execute_result"
    }
   ],
   "source": [
    "df_02['Spa'].describe()"
   ]
  },
  {
   "cell_type": "code",
   "execution_count": 41,
   "id": "64af177c",
   "metadata": {
    "ExecuteTime": {
     "end_time": "2024-01-21T15:14:26.834425200Z",
     "start_time": "2024-01-21T15:14:26.785006400Z"
    }
   },
   "outputs": [
    {
     "data": {
      "text/plain": "183"
     },
     "execution_count": 41,
     "metadata": {},
     "output_type": "execute_result"
    }
   ],
   "source": [
    "df_02['Spa'].isnull().sum()"
   ]
  },
  {
   "cell_type": "code",
   "execution_count": 42,
   "id": "894c16a9",
   "metadata": {
    "ExecuteTime": {
     "end_time": "2024-01-21T15:14:31.660307500Z",
     "start_time": "2024-01-21T15:14:31.643653100Z"
    }
   },
   "outputs": [
    {
     "name": "stdout",
     "output_type": "stream",
     "text": [
      "311.0\n"
     ]
    },
    {
     "data": {
      "text/plain": "count     8691.000000\nmean       311.166379\nstd       1124.800262\nmin          0.000000\n25%          0.000000\n50%          0.000000\n75%         89.000000\nmax      22408.000000\nName: Spa, dtype: float64"
     },
     "execution_count": 42,
     "metadata": {},
     "output_type": "execute_result"
    }
   ],
   "source": [
    "#Fill the missing values for Spa \n",
    "\n",
    "# Impute missing values with the mean for Column Spa.\n",
    "mean_value = df_02['Spa'].mean()\n",
    "rounded_mean = round(mean_value, 0)\n",
    "print(rounded_mean)\n",
    "df_02['Spa'].fillna(rounded_mean, inplace=True)\n",
    "df_02['Spa'].describe()"
   ]
  },
  {
   "cell_type": "code",
   "execution_count": 687,
   "id": "6cae0564",
   "metadata": {},
   "outputs": [
    {
     "data": {
      "text/plain": [
       "0"
      ]
     },
     "execution_count": 687,
     "metadata": {},
     "output_type": "execute_result"
    }
   ],
   "source": [
    "df_02['Spa'].isnull().sum()"
   ]
  },
  {
   "cell_type": "code",
   "execution_count": 688,
   "id": "113e4eb3",
   "metadata": {},
   "outputs": [
    {
     "name": "stdout",
     "output_type": "stream",
     "text": [
      "-5424.286310529413\n",
      "6034.138597957379\n"
     ]
    },
    {
     "data": {
      "text/plain": [
       "count     8503.000000\n",
       "mean       304.926144\n",
       "std       1145.842491\n",
       "min          0.000000\n",
       "25%          0.000000\n",
       "50%          0.000000\n",
       "75%         46.000000\n",
       "max      24133.000000\n",
       "Name: VRDeck, dtype: float64"
      ]
     },
     "execution_count": 688,
     "metadata": {},
     "output_type": "execute_result"
    }
   ],
   "source": [
    "\n",
    "#Check bundaries for VRDeck column \n",
    "\n",
    "upper_boundary=df_02['VRDeck'].mean()+5*df_02['VRDeck'].std()\n",
    "lower_boundary=df_02['VRDeck'].mean()-5*df_02['VRDeck'].std()\n",
    "print(lower_boundary),print(upper_boundary)\n",
    "\n",
    "df_02['VRDeck'].describe()"
   ]
  },
  {
   "cell_type": "code",
   "execution_count": 689,
   "id": "93d530a7",
   "metadata": {},
   "outputs": [
    {
     "data": {
      "text/plain": [
       "188"
      ]
     },
     "execution_count": 689,
     "metadata": {},
     "output_type": "execute_result"
    }
   ],
   "source": [
    "df_02['VRDeck'].isnull().sum()"
   ]
  },
  {
   "cell_type": "code",
   "execution_count": 690,
   "id": "a18c22ec",
   "metadata": {},
   "outputs": [
    {
     "name": "stdout",
     "output_type": "stream",
     "text": [
      "305.0\n"
     ]
    },
    {
     "data": {
      "text/plain": [
       "count     8691.000000\n",
       "mean       304.927741\n",
       "std       1133.380106\n",
       "min          0.000000\n",
       "25%          0.000000\n",
       "50%          0.000000\n",
       "75%         71.000000\n",
       "max      24133.000000\n",
       "Name: VRDeck, dtype: float64"
      ]
     },
     "execution_count": 690,
     "metadata": {},
     "output_type": "execute_result"
    }
   ],
   "source": [
    "#Fill the missing values for VRDeck \n",
    "\n",
    "# Impute missing values with the mean for Column VRDeck.\n",
    "mean_value = df_02['VRDeck'].mean()\n",
    "rounded_mean = round(mean_value, 0)\n",
    "print(rounded_mean)\n",
    "df_02['VRDeck'].fillna(rounded_mean, inplace=True)\n",
    "\n",
    "df_02['VRDeck'].describe()"
   ]
  },
  {
   "cell_type": "code",
   "execution_count": 691,
   "id": "365020f8",
   "metadata": {},
   "outputs": [
    {
     "data": {
      "text/plain": [
       "0"
      ]
     },
     "execution_count": 691,
     "metadata": {},
     "output_type": "execute_result"
    }
   ],
   "source": [
    "df_02['VRDeck'].isnull().sum()"
   ]
  },
  {
   "cell_type": "code",
   "execution_count": 692,
   "id": "a77e0638",
   "metadata": {},
   "outputs": [
    {
     "data": {
      "text/plain": [
       "201"
      ]
     },
     "execution_count": 692,
     "metadata": {},
     "output_type": "execute_result"
    }
   ],
   "source": [
    "#Check empty category and add  a new category 'Unknown'.\n",
    "\n",
    "df_02['HomePlanet'].isnull().sum()"
   ]
  },
  {
   "cell_type": "code",
   "execution_count": 693,
   "id": "0a0dc5f9",
   "metadata": {},
   "outputs": [],
   "source": [
    "df_02['HomePlanet'].fillna('Unknown', inplace=True)\n"
   ]
  },
  {
   "cell_type": "code",
   "execution_count": 694,
   "id": "e55d4ec5",
   "metadata": {},
   "outputs": [
    {
     "data": {
      "text/plain": [
       "0"
      ]
     },
     "execution_count": 694,
     "metadata": {},
     "output_type": "execute_result"
    }
   ],
   "source": [
    "df_02['HomePlanet'].isnull().sum()"
   ]
  },
  {
   "cell_type": "code",
   "execution_count": 695,
   "id": "6a129e25",
   "metadata": {},
   "outputs": [
    {
     "data": {
      "text/plain": [
       "217"
      ]
     },
     "execution_count": 695,
     "metadata": {},
     "output_type": "execute_result"
    }
   ],
   "source": [
    "df_02['CryoSleep'].isnull().sum()"
   ]
  },
  {
   "cell_type": "code",
   "execution_count": 696,
   "id": "4e0c698b",
   "metadata": {},
   "outputs": [
    {
     "data": {
      "text/plain": [
       "0"
      ]
     },
     "execution_count": 696,
     "metadata": {},
     "output_type": "execute_result"
    }
   ],
   "source": [
    "df_02['CryoSleep'].fillna('Unknown', inplace=True)\n",
    "df_02['CryoSleep'].isnull().sum()"
   ]
  },
  {
   "cell_type": "code",
   "execution_count": 697,
   "id": "0b67188a",
   "metadata": {},
   "outputs": [
    {
     "data": {
      "text/plain": [
       "182"
      ]
     },
     "execution_count": 697,
     "metadata": {},
     "output_type": "execute_result"
    }
   ],
   "source": [
    "df_02['Destination'].isnull().sum()"
   ]
  },
  {
   "cell_type": "code",
   "execution_count": 698,
   "id": "817e9a06",
   "metadata": {},
   "outputs": [
    {
     "data": {
      "text/plain": [
       "0"
      ]
     },
     "execution_count": 698,
     "metadata": {},
     "output_type": "execute_result"
    }
   ],
   "source": [
    "df_02['Destination'].fillna('Unknown', inplace=True)\n",
    "df_02['Destination'].isnull().sum()"
   ]
  },
  {
   "cell_type": "code",
   "execution_count": 699,
   "id": "aad7d464",
   "metadata": {},
   "outputs": [
    {
     "data": {
      "text/plain": [
       "203"
      ]
     },
     "execution_count": 699,
     "metadata": {},
     "output_type": "execute_result"
    }
   ],
   "source": [
    "df_02['VIP'].isnull().sum()"
   ]
  },
  {
   "cell_type": "code",
   "execution_count": 700,
   "id": "6d199073",
   "metadata": {},
   "outputs": [
    {
     "data": {
      "text/plain": [
       "0"
      ]
     },
     "execution_count": 700,
     "metadata": {},
     "output_type": "execute_result"
    }
   ],
   "source": [
    "df_02['VIP'].fillna('Unknown', inplace=True)\n",
    "df_02['VIP'].isnull().sum()"
   ]
  },
  {
   "cell_type": "code",
   "execution_count": 701,
   "id": "aaf40293",
   "metadata": {},
   "outputs": [
    {
     "data": {
      "text/plain": [
       "199"
      ]
     },
     "execution_count": 701,
     "metadata": {},
     "output_type": "execute_result"
    }
   ],
   "source": [
    "df_02['Name'].isnull().sum()"
   ]
  },
  {
   "cell_type": "code",
   "execution_count": 702,
   "id": "7eb5a636",
   "metadata": {},
   "outputs": [
    {
     "data": {
      "text/plain": [
       "0"
      ]
     },
     "execution_count": 702,
     "metadata": {},
     "output_type": "execute_result"
    }
   ],
   "source": [
    "df_02['Name'].fillna('Unknown', inplace=True)\n",
    "df_02['Name'].isnull().sum()\n",
    "\n",
    "\n",
    "\n",
    "\n"
   ]
  },
  {
   "cell_type": "code",
   "execution_count": 703,
   "id": "c19a463b",
   "metadata": {},
   "outputs": [
    {
     "data": {
      "text/plain": [
       "199"
      ]
     },
     "execution_count": 703,
     "metadata": {},
     "output_type": "execute_result"
    }
   ],
   "source": [
    "##MembersOfFamilyBySurname fill emptys\n",
    "df_02['MembersOfFamilyBySurname'].isnull().sum()"
   ]
  },
  {
   "cell_type": "code",
   "execution_count": 704,
   "id": "5b0e65af",
   "metadata": {},
   "outputs": [
    {
     "data": {
      "image/png": "[encoded data removed]",
      "text/plain": [
       "<Figure size 432x288 with 1 Axes>"
      ]
     },
     "metadata": {
      "needs_background": "light"
     },
     "output_type": "display_data"
    }
   ],
   "source": [
    "\n",
    "#The outliers look good \n",
    "figure=df_02.boxplot(column='MembersOfFamilyBySurname')"
   ]
  },
  {
   "cell_type": "code",
   "execution_count": 708,
   "id": "d9fe2bfa",
   "metadata": {},
   "outputs": [
    {
     "data": {
      "text/html": [
       "<div>\n",
       "<style scoped>\n",
       "    .dataframe tbody tr th:only-of-type {\n",
       "        vertical-align: middle;\n",
       "    }\n",
       "\n",
       "    .dataframe tbody tr th {\n",
       "        vertical-align: top;\n",
       "    }\n",
       "\n",
       "    .dataframe thead th {\n",
       "        text-align: right;\n",
       "    }\n",
       "</style>\n",
       "<table border=\"1\" class=\"dataframe\">\n",
       "  <thead>\n",
       "    <tr style=\"text-align: right;\">\n",
       "      <th></th>\n",
       "      <th>PassengerId</th>\n",
       "      <th>HomePlanet</th>\n",
       "      <th>CryoSleep</th>\n",
       "      <th>Cabin</th>\n",
       "      <th>Destination</th>\n",
       "      <th>Age</th>\n",
       "      <th>VIP</th>\n",
       "      <th>RoomService</th>\n",
       "      <th>FoodCourt</th>\n",
       "      <th>ShoppingMall</th>\n",
       "      <th>...</th>\n",
       "      <th>Transported</th>\n",
       "      <th>GroupId</th>\n",
       "      <th>PassengerIdInGroup</th>\n",
       "      <th>MembersOfGroupById</th>\n",
       "      <th>Surname</th>\n",
       "      <th>MembersOfFamilyBySurname</th>\n",
       "      <th>CabinDeck</th>\n",
       "      <th>CabinNum</th>\n",
       "      <th>CabinSide</th>\n",
       "      <th>AgeBinned</th>\n",
       "    </tr>\n",
       "  </thead>\n",
       "  <tbody>\n",
       "    <tr>\n",
       "      <th>0</th>\n",
       "      <td>0001_01</td>\n",
       "      <td>1</td>\n",
       "      <td>False</td>\n",
       "      <td>B/0/P</td>\n",
       "      <td>2</td>\n",
       "      <td>39.0</td>\n",
       "      <td>False</td>\n",
       "      <td>0.0</td>\n",
       "      <td>0.0</td>\n",
       "      <td>0.0</td>\n",
       "      <td>...</td>\n",
       "      <td>0</td>\n",
       "      <td>1</td>\n",
       "      <td>1</td>\n",
       "      <td>1.0</td>\n",
       "      <td>Ofracculy</td>\n",
       "      <td>1.0</td>\n",
       "      <td>B</td>\n",
       "      <td>0</td>\n",
       "      <td>0</td>\n",
       "      <td>2</td>\n",
       "    </tr>\n",
       "    <tr>\n",
       "      <th>1</th>\n",
       "      <td>0002_01</td>\n",
       "      <td>0</td>\n",
       "      <td>False</td>\n",
       "      <td>F/0/S</td>\n",
       "      <td>2</td>\n",
       "      <td>24.0</td>\n",
       "      <td>False</td>\n",
       "      <td>109.0</td>\n",
       "      <td>9.0</td>\n",
       "      <td>25.0</td>\n",
       "      <td>...</td>\n",
       "      <td>1</td>\n",
       "      <td>2</td>\n",
       "      <td>1</td>\n",
       "      <td>1.0</td>\n",
       "      <td>Vines</td>\n",
       "      <td>4.0</td>\n",
       "      <td>F</td>\n",
       "      <td>0</td>\n",
       "      <td>1</td>\n",
       "      <td>4</td>\n",
       "    </tr>\n",
       "    <tr>\n",
       "      <th>2</th>\n",
       "      <td>0003_01</td>\n",
       "      <td>1</td>\n",
       "      <td>False</td>\n",
       "      <td>A/0/S</td>\n",
       "      <td>2</td>\n",
       "      <td>58.0</td>\n",
       "      <td>True</td>\n",
       "      <td>43.0</td>\n",
       "      <td>3576.0</td>\n",
       "      <td>0.0</td>\n",
       "      <td>...</td>\n",
       "      <td>0</td>\n",
       "      <td>3</td>\n",
       "      <td>1</td>\n",
       "      <td>2.0</td>\n",
       "      <td>Susent</td>\n",
       "      <td>6.0</td>\n",
       "      <td>A</td>\n",
       "      <td>0</td>\n",
       "      <td>1</td>\n",
       "      <td>2</td>\n",
       "    </tr>\n",
       "    <tr>\n",
       "      <th>3</th>\n",
       "      <td>0003_02</td>\n",
       "      <td>1</td>\n",
       "      <td>False</td>\n",
       "      <td>A/0/S</td>\n",
       "      <td>2</td>\n",
       "      <td>33.0</td>\n",
       "      <td>False</td>\n",
       "      <td>0.0</td>\n",
       "      <td>1283.0</td>\n",
       "      <td>371.0</td>\n",
       "      <td>...</td>\n",
       "      <td>0</td>\n",
       "      <td>3</td>\n",
       "      <td>2</td>\n",
       "      <td>2.0</td>\n",
       "      <td>Susent</td>\n",
       "      <td>6.0</td>\n",
       "      <td>A</td>\n",
       "      <td>0</td>\n",
       "      <td>1</td>\n",
       "      <td>2</td>\n",
       "    </tr>\n",
       "    <tr>\n",
       "      <th>4</th>\n",
       "      <td>0004_01</td>\n",
       "      <td>0</td>\n",
       "      <td>False</td>\n",
       "      <td>F/1/S</td>\n",
       "      <td>2</td>\n",
       "      <td>16.0</td>\n",
       "      <td>False</td>\n",
       "      <td>303.0</td>\n",
       "      <td>70.0</td>\n",
       "      <td>151.0</td>\n",
       "      <td>...</td>\n",
       "      <td>1</td>\n",
       "      <td>4</td>\n",
       "      <td>1</td>\n",
       "      <td>1.0</td>\n",
       "      <td>Santantines</td>\n",
       "      <td>6.0</td>\n",
       "      <td>F</td>\n",
       "      <td>1</td>\n",
       "      <td>1</td>\n",
       "      <td>3</td>\n",
       "    </tr>\n",
       "    <tr>\n",
       "      <th>...</th>\n",
       "      <td>...</td>\n",
       "      <td>...</td>\n",
       "      <td>...</td>\n",
       "      <td>...</td>\n",
       "      <td>...</td>\n",
       "      <td>...</td>\n",
       "      <td>...</td>\n",
       "      <td>...</td>\n",
       "      <td>...</td>\n",
       "      <td>...</td>\n",
       "      <td>...</td>\n",
       "      <td>...</td>\n",
       "      <td>...</td>\n",
       "      <td>...</td>\n",
       "      <td>...</td>\n",
       "      <td>...</td>\n",
       "      <td>...</td>\n",
       "      <td>...</td>\n",
       "      <td>...</td>\n",
       "      <td>...</td>\n",
       "      <td>...</td>\n",
       "    </tr>\n",
       "    <tr>\n",
       "      <th>145</th>\n",
       "      <td>0165_01</td>\n",
       "      <td>2</td>\n",
       "      <td>True</td>\n",
       "      <td>F/37/P</td>\n",
       "      <td>2</td>\n",
       "      <td>35.0</td>\n",
       "      <td>Unknown</td>\n",
       "      <td>0.0</td>\n",
       "      <td>0.0</td>\n",
       "      <td>0.0</td>\n",
       "      <td>...</td>\n",
       "      <td>1</td>\n",
       "      <td>165</td>\n",
       "      <td>1</td>\n",
       "      <td>1.0</td>\n",
       "      <td>Anche</td>\n",
       "      <td>2.0</td>\n",
       "      <td>F</td>\n",
       "      <td>37</td>\n",
       "      <td>0</td>\n",
       "      <td>2</td>\n",
       "    </tr>\n",
       "    <tr>\n",
       "      <th>146</th>\n",
       "      <td>0167_01</td>\n",
       "      <td>2</td>\n",
       "      <td>True</td>\n",
       "      <td>F/35/S</td>\n",
       "      <td>2</td>\n",
       "      <td>13.0</td>\n",
       "      <td>False</td>\n",
       "      <td>0.0</td>\n",
       "      <td>0.0</td>\n",
       "      <td>0.0</td>\n",
       "      <td>...</td>\n",
       "      <td>1</td>\n",
       "      <td>167</td>\n",
       "      <td>1</td>\n",
       "      <td>2.0</td>\n",
       "      <td>Floaf</td>\n",
       "      <td>4.0</td>\n",
       "      <td>F</td>\n",
       "      <td>35</td>\n",
       "      <td>1</td>\n",
       "      <td>3</td>\n",
       "    </tr>\n",
       "    <tr>\n",
       "      <th>147</th>\n",
       "      <td>0167_02</td>\n",
       "      <td>2</td>\n",
       "      <td>False</td>\n",
       "      <td>F/35/S</td>\n",
       "      <td>2</td>\n",
       "      <td>27.0</td>\n",
       "      <td>False</td>\n",
       "      <td>1365.0</td>\n",
       "      <td>0.0</td>\n",
       "      <td>48.0</td>\n",
       "      <td>...</td>\n",
       "      <td>0</td>\n",
       "      <td>167</td>\n",
       "      <td>2</td>\n",
       "      <td>2.0</td>\n",
       "      <td>Floaf</td>\n",
       "      <td>4.0</td>\n",
       "      <td>F</td>\n",
       "      <td>35</td>\n",
       "      <td>1</td>\n",
       "      <td>4</td>\n",
       "    </tr>\n",
       "    <tr>\n",
       "      <th>148</th>\n",
       "      <td>0169_01</td>\n",
       "      <td>0</td>\n",
       "      <td>True</td>\n",
       "      <td>G/23/P</td>\n",
       "      <td>2</td>\n",
       "      <td>31.0</td>\n",
       "      <td>False</td>\n",
       "      <td>0.0</td>\n",
       "      <td>0.0</td>\n",
       "      <td>0.0</td>\n",
       "      <td>...</td>\n",
       "      <td>0</td>\n",
       "      <td>169</td>\n",
       "      <td>1</td>\n",
       "      <td>1.0</td>\n",
       "      <td>Fisherry</td>\n",
       "      <td>2.0</td>\n",
       "      <td>G</td>\n",
       "      <td>23</td>\n",
       "      <td>0</td>\n",
       "      <td>2</td>\n",
       "    </tr>\n",
       "    <tr>\n",
       "      <th>149</th>\n",
       "      <td>0170_01</td>\n",
       "      <td>0</td>\n",
       "      <td>False</td>\n",
       "      <td>E/10/S</td>\n",
       "      <td>2</td>\n",
       "      <td>24.0</td>\n",
       "      <td>False</td>\n",
       "      <td>0.0</td>\n",
       "      <td>0.0</td>\n",
       "      <td>0.0</td>\n",
       "      <td>...</td>\n",
       "      <td>0</td>\n",
       "      <td>170</td>\n",
       "      <td>1</td>\n",
       "      <td>1.0</td>\n",
       "      <td>Mcmahoney</td>\n",
       "      <td>4.0</td>\n",
       "      <td>E</td>\n",
       "      <td>10</td>\n",
       "      <td>1</td>\n",
       "      <td>4</td>\n",
       "    </tr>\n",
       "  </tbody>\n",
       "</table>\n",
       "<p>150 rows × 23 columns</p>\n",
       "</div>"
      ],
      "text/plain": [
       "    PassengerId  HomePlanet CryoSleep   Cabin  Destination   Age      VIP  \\\n",
       "0       0001_01           1     False   B/0/P            2  39.0    False   \n",
       "1       0002_01           0     False   F/0/S            2  24.0    False   \n",
       "2       0003_01           1     False   A/0/S            2  58.0     True   \n",
       "3       0003_02           1     False   A/0/S            2  33.0    False   \n",
       "4       0004_01           0     False   F/1/S            2  16.0    False   \n",
       "..          ...         ...       ...     ...          ...   ...      ...   \n",
       "145     0165_01           2      True  F/37/P            2  35.0  Unknown   \n",
       "146     0167_01           2      True  F/35/S            2  13.0    False   \n",
       "147     0167_02           2     False  F/35/S            2  27.0    False   \n",
       "148     0169_01           0      True  G/23/P            2  31.0    False   \n",
       "149     0170_01           0     False  E/10/S            2  24.0    False   \n",
       "\n",
       "     RoomService  FoodCourt  ShoppingMall  ...  Transported  GroupId  \\\n",
       "0            0.0        0.0           0.0  ...            0        1   \n",
       "1          109.0        9.0          25.0  ...            1        2   \n",
       "2           43.0     3576.0           0.0  ...            0        3   \n",
       "3            0.0     1283.0         371.0  ...            0        3   \n",
       "4          303.0       70.0         151.0  ...            1        4   \n",
       "..           ...        ...           ...  ...          ...      ...   \n",
       "145          0.0        0.0           0.0  ...            1      165   \n",
       "146          0.0        0.0           0.0  ...            1      167   \n",
       "147       1365.0        0.0          48.0  ...            0      167   \n",
       "148          0.0        0.0           0.0  ...            0      169   \n",
       "149          0.0        0.0           0.0  ...            0      170   \n",
       "\n",
       "    PassengerIdInGroup  MembersOfGroupById      Surname  \\\n",
       "0                    1                 1.0    Ofracculy   \n",
       "1                    1                 1.0        Vines   \n",
       "2                    1                 2.0       Susent   \n",
       "3                    2                 2.0       Susent   \n",
       "4                    1                 1.0  Santantines   \n",
       "..                 ...                 ...          ...   \n",
       "145                  1                 1.0        Anche   \n",
       "146                  1                 2.0        Floaf   \n",
       "147                  2                 2.0        Floaf   \n",
       "148                  1                 1.0     Fisherry   \n",
       "149                  1                 1.0    Mcmahoney   \n",
       "\n",
       "     MembersOfFamilyBySurname  CabinDeck CabinNum  CabinSide AgeBinned  \n",
       "0                         1.0          B        0          0         2  \n",
       "1                         4.0          F        0          1         4  \n",
       "2                         6.0          A        0          1         2  \n",
       "3                         6.0          A        0          1         2  \n",
       "4                         6.0          F        1          1         3  \n",
       "..                        ...        ...      ...        ...       ...  \n",
       "145                       2.0          F       37          0         2  \n",
       "146                       4.0          F       35          1         3  \n",
       "147                       4.0          F       35          1         4  \n",
       "148                       2.0          G       23          0         2  \n",
       "149                       4.0          E       10          1         4  \n",
       "\n",
       "[150 rows x 23 columns]"
      ]
     },
     "execution_count": 708,
     "metadata": {},
     "output_type": "execute_result"
    }
   ],
   "source": [
    "##label_encoder = LabelEncoder()\n",
    "\n",
    "# Apply label encoding to each categorical column bellow\n",
    "##for column in ['HomePlanet','Destination','CabinSide','AgeBinned']: \n",
    "    ##df_02[column] = label_encoder.fit_transform(df_02[column])\n",
    "\n",
    "# Print the DataFrame with numerical labels\n",
    "##df_02.head(150)\n"
   ]
  },
  {
   "cell_type": "code",
   "execution_count": 718,
   "id": "db658e17",
   "metadata": {},
   "outputs": [
    {
     "name": "stdout",
     "output_type": "stream",
     "text": [
      "     PassengerId CryoSleep     Cabin   Age    VIP  RoomService  FoodCourt  \\\n",
      "0        0001_01     False     B/0/P  39.0  False          0.0        0.0   \n",
      "1        0002_01     False     F/0/S  24.0  False        109.0        9.0   \n",
      "2        0003_01     False     A/0/S  58.0   True         43.0     3576.0   \n",
      "3        0003_02     False     A/0/S  33.0  False          0.0     1283.0   \n",
      "4        0004_01     False     F/1/S  16.0  False        303.0       70.0   \n",
      "...          ...       ...       ...   ...    ...          ...        ...   \n",
      "8688     9276_01     False    A/98/P  41.0   True          0.0     6819.0   \n",
      "8689     9278_01      True  G/1499/S  18.0  False          0.0        0.0   \n",
      "8690     9279_01     False  G/1500/S  26.0  False          0.0        0.0   \n",
      "8691     9280_01     False   E/608/S  32.0  False          0.0     1049.0   \n",
      "8692     9280_02     False   E/608/S  44.0  False        126.0     4688.0   \n",
      "\n",
      "      ShoppingMall     Spa  VRDeck  ... HomePlanet_1  HomePlanet_2  \\\n",
      "0              0.0     0.0     0.0  ...         True         False   \n",
      "1             25.0   549.0    44.0  ...        False         False   \n",
      "2              0.0  6715.0    49.0  ...         True         False   \n",
      "3            371.0  3329.0   193.0  ...         True         False   \n",
      "4            151.0   565.0     2.0  ...        False         False   \n",
      "...            ...     ...     ...  ...          ...           ...   \n",
      "8688           0.0  1643.0    74.0  ...         True         False   \n",
      "8689           0.0     0.0     0.0  ...        False         False   \n",
      "8690        1872.0     1.0     0.0  ...        False         False   \n",
      "8691           0.0   353.0  3235.0  ...         True         False   \n",
      "8692           0.0     0.0    12.0  ...         True         False   \n",
      "\n",
      "      HomePlanet_3  CabinSide_0  CabinSide_1 CabinSide_2  Destination_0  \\\n",
      "0            False         True        False       False          False   \n",
      "1            False        False         True       False          False   \n",
      "2            False        False         True       False          False   \n",
      "3            False        False         True       False          False   \n",
      "4            False        False         True       False          False   \n",
      "...            ...          ...          ...         ...            ...   \n",
      "8688         False         True        False       False           True   \n",
      "8689         False        False         True       False          False   \n",
      "8690         False        False         True       False          False   \n",
      "8691         False        False         True       False           True   \n",
      "8692         False        False         True       False          False   \n",
      "\n",
      "     Destination_1 Destination_2  Destination_3  \n",
      "0            False          True          False  \n",
      "1            False          True          False  \n",
      "2            False          True          False  \n",
      "3            False          True          False  \n",
      "4            False          True          False  \n",
      "...            ...           ...            ...  \n",
      "8688         False         False          False  \n",
      "8689          True         False          False  \n",
      "8690         False          True          False  \n",
      "8691         False         False          False  \n",
      "8692         False          True          False  \n",
      "\n",
      "[8691 rows x 31 columns]\n"
     ]
    }
   ],
   "source": [
    "\n",
    "# Perform one-hot encoding for each categorical column  with True and False\n",
    "dataset_one_hot = pd.get_dummies(df_02, columns=['HomePlanet', 'CabinSide', 'Destination'])\n",
    "\n",
    "\n",
    "\n",
    "# Print the DataFrame after one-hot encoding\n",
    "print(dataset_one_hot)"
   ]
  },
  {
   "cell_type": "code",
   "execution_count": 720,
   "id": "a19398ef",
   "metadata": {},
   "outputs": [
    {
     "data": {
      "text/html": [
       "<div>\n",
       "<style scoped>\n",
       "    .dataframe tbody tr th:only-of-type {\n",
       "        vertical-align: middle;\n",
       "    }\n",
       "\n",
       "    .dataframe tbody tr th {\n",
       "        vertical-align: top;\n",
       "    }\n",
       "\n",
       "    .dataframe thead th {\n",
       "        text-align: right;\n",
       "    }\n",
       "</style>\n",
       "<table border=\"1\" class=\"dataframe\">\n",
       "  <thead>\n",
       "    <tr style=\"text-align: right;\">\n",
       "      <th></th>\n",
       "      <th>PassengerId</th>\n",
       "      <th>CryoSleep</th>\n",
       "      <th>Cabin</th>\n",
       "      <th>Age</th>\n",
       "      <th>VIP</th>\n",
       "      <th>RoomService</th>\n",
       "      <th>FoodCourt</th>\n",
       "      <th>ShoppingMall</th>\n",
       "      <th>Spa</th>\n",
       "      <th>VRDeck</th>\n",
       "      <th>...</th>\n",
       "      <th>CabinNum</th>\n",
       "      <th>AgeBinned</th>\n",
       "      <th>HomePlanet_1</th>\n",
       "      <th>HomePlanet_2</th>\n",
       "      <th>HomePlanet_3</th>\n",
       "      <th>CabinSide_1</th>\n",
       "      <th>CabinSide_2</th>\n",
       "      <th>Destination_1</th>\n",
       "      <th>Destination_2</th>\n",
       "      <th>Destination_3</th>\n",
       "    </tr>\n",
       "  </thead>\n",
       "  <tbody>\n",
       "    <tr>\n",
       "      <th>0</th>\n",
       "      <td>0001_01</td>\n",
       "      <td>False</td>\n",
       "      <td>B/0/P</td>\n",
       "      <td>39.0</td>\n",
       "      <td>False</td>\n",
       "      <td>0.0</td>\n",
       "      <td>0.0</td>\n",
       "      <td>0.0</td>\n",
       "      <td>0.0</td>\n",
       "      <td>0.0</td>\n",
       "      <td>...</td>\n",
       "      <td>0</td>\n",
       "      <td>2</td>\n",
       "      <td>True</td>\n",
       "      <td>False</td>\n",
       "      <td>False</td>\n",
       "      <td>False</td>\n",
       "      <td>False</td>\n",
       "      <td>False</td>\n",
       "      <td>True</td>\n",
       "      <td>False</td>\n",
       "    </tr>\n",
       "    <tr>\n",
       "      <th>1</th>\n",
       "      <td>0002_01</td>\n",
       "      <td>False</td>\n",
       "      <td>F/0/S</td>\n",
       "      <td>24.0</td>\n",
       "      <td>False</td>\n",
       "      <td>109.0</td>\n",
       "      <td>9.0</td>\n",
       "      <td>25.0</td>\n",
       "      <td>549.0</td>\n",
       "      <td>44.0</td>\n",
       "      <td>...</td>\n",
       "      <td>0</td>\n",
       "      <td>4</td>\n",
       "      <td>False</td>\n",
       "      <td>False</td>\n",
       "      <td>False</td>\n",
       "      <td>True</td>\n",
       "      <td>False</td>\n",
       "      <td>False</td>\n",
       "      <td>True</td>\n",
       "      <td>False</td>\n",
       "    </tr>\n",
       "    <tr>\n",
       "      <th>2</th>\n",
       "      <td>0003_01</td>\n",
       "      <td>False</td>\n",
       "      <td>A/0/S</td>\n",
       "      <td>58.0</td>\n",
       "      <td>True</td>\n",
       "      <td>43.0</td>\n",
       "      <td>3576.0</td>\n",
       "      <td>0.0</td>\n",
       "      <td>6715.0</td>\n",
       "      <td>49.0</td>\n",
       "      <td>...</td>\n",
       "      <td>0</td>\n",
       "      <td>2</td>\n",
       "      <td>True</td>\n",
       "      <td>False</td>\n",
       "      <td>False</td>\n",
       "      <td>True</td>\n",
       "      <td>False</td>\n",
       "      <td>False</td>\n",
       "      <td>True</td>\n",
       "      <td>False</td>\n",
       "    </tr>\n",
       "    <tr>\n",
       "      <th>3</th>\n",
       "      <td>0003_02</td>\n",
       "      <td>False</td>\n",
       "      <td>A/0/S</td>\n",
       "      <td>33.0</td>\n",
       "      <td>False</td>\n",
       "      <td>0.0</td>\n",
       "      <td>1283.0</td>\n",
       "      <td>371.0</td>\n",
       "      <td>3329.0</td>\n",
       "      <td>193.0</td>\n",
       "      <td>...</td>\n",
       "      <td>0</td>\n",
       "      <td>2</td>\n",
       "      <td>True</td>\n",
       "      <td>False</td>\n",
       "      <td>False</td>\n",
       "      <td>True</td>\n",
       "      <td>False</td>\n",
       "      <td>False</td>\n",
       "      <td>True</td>\n",
       "      <td>False</td>\n",
       "    </tr>\n",
       "    <tr>\n",
       "      <th>4</th>\n",
       "      <td>0004_01</td>\n",
       "      <td>False</td>\n",
       "      <td>F/1/S</td>\n",
       "      <td>16.0</td>\n",
       "      <td>False</td>\n",
       "      <td>303.0</td>\n",
       "      <td>70.0</td>\n",
       "      <td>151.0</td>\n",
       "      <td>565.0</td>\n",
       "      <td>2.0</td>\n",
       "      <td>...</td>\n",
       "      <td>1</td>\n",
       "      <td>3</td>\n",
       "      <td>False</td>\n",
       "      <td>False</td>\n",
       "      <td>False</td>\n",
       "      <td>True</td>\n",
       "      <td>False</td>\n",
       "      <td>False</td>\n",
       "      <td>True</td>\n",
       "      <td>False</td>\n",
       "    </tr>\n",
       "  </tbody>\n",
       "</table>\n",
       "<p>5 rows × 28 columns</p>\n",
       "</div>"
      ],
      "text/plain": [
       "  PassengerId CryoSleep  Cabin   Age    VIP  RoomService  FoodCourt  \\\n",
       "0     0001_01     False  B/0/P  39.0  False          0.0        0.0   \n",
       "1     0002_01     False  F/0/S  24.0  False        109.0        9.0   \n",
       "2     0003_01     False  A/0/S  58.0   True         43.0     3576.0   \n",
       "3     0003_02     False  A/0/S  33.0  False          0.0     1283.0   \n",
       "4     0004_01     False  F/1/S  16.0  False        303.0       70.0   \n",
       "\n",
       "   ShoppingMall     Spa  VRDeck  ... CabinNum  AgeBinned  HomePlanet_1  \\\n",
       "0           0.0     0.0     0.0  ...        0          2          True   \n",
       "1          25.0   549.0    44.0  ...        0          4         False   \n",
       "2           0.0  6715.0    49.0  ...        0          2          True   \n",
       "3         371.0  3329.0   193.0  ...        0          2          True   \n",
       "4         151.0   565.0     2.0  ...        1          3         False   \n",
       "\n",
       "   HomePlanet_2  HomePlanet_3 CabinSide_1  CabinSide_2 Destination_1  \\\n",
       "0         False         False       False        False         False   \n",
       "1         False         False        True        False         False   \n",
       "2         False         False        True        False         False   \n",
       "3         False         False        True        False         False   \n",
       "4         False         False        True        False         False   \n",
       "\n",
       "  Destination_2  Destination_3  \n",
       "0          True          False  \n",
       "1          True          False  \n",
       "2          True          False  \n",
       "3          True          False  \n",
       "4          True          False  \n",
       "\n",
       "[5 rows x 28 columns]"
      ]
     },
     "execution_count": 720,
     "metadata": {},
     "output_type": "execute_result"
    }
   ],
   "source": [
    "##Drop one category column for each encoded HomePlanet_0, CabinSide_0, Destination_0\n",
    "\n",
    "\n",
    "\n",
    "\n",
    "# Drop the 'HomePlanet_0' , 'CabinSide_0' and 'Destination_0'\n",
    "columns_to_drop = ['HomePlanet_0', 'CabinSide_0','Destination_0']\n",
    "df_final = dataset_one_hot.drop(columns=columns_to_drop)\n",
    "\n",
    "\n",
    "df_final.head()\n",
    "\n"
   ]
  },
  {
   "cell_type": "code",
   "execution_count": 721,
   "id": "5e824f15",
   "metadata": {},
   "outputs": [],
   "source": [
    "#Export DataFrame with modifications to a CSV File\n",
    "#\n",
    "df_final.to_csv('/Users/macbook/Downloads/Machine_Learning/ML_project/spaceship_titanic_fe2.csv', index=False)"
   ]
  },
  {
   "cell_type": "code",
   "execution_count": null,
   "id": "5fd59dd3",
   "metadata": {},
   "outputs": [],
   "source": []
  }
 ],
 "metadata": {
  "kernelspec": {
   "display_name": "Python 3",
   "language": "python",
   "name": "python3"
  },
  "language_info": {
   "codemirror_mode": {
    "name": "ipython",
    "version": 3
   },
   "file_extension": ".py",
   "mimetype": "text/x-python",
   "name": "python",
   "nbconvert_exporter": "python",
   "pygments_lexer": "ipython3",
   "version": "3.8.8"
  }
 },
 "nbformat": 4,
 "nbformat_minor": 5
}
